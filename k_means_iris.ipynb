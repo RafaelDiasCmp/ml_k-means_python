{
  "nbformat": 4,
  "nbformat_minor": 0,
  "metadata": {
    "colab": {
      "provenance": []
    },
    "kernelspec": {
      "name": "python3",
      "display_name": "Python 3"
    },
    "language_info": {
      "name": "python"
    }
  },
  "cells": [
    {
      "cell_type": "markdown",
      "source": [
        "# Clusterização\n",
        "O agrupamento K-means é um algoritmo de aprendizado não supervisionado utilizado para agrupamento de dados, que agrupa pontos de dados não rotulados em grupos ou clusters.\n",
        "\n",
        "\n",
        "É um dos métodos de agrupamento mais populares usados em aprendizado de máquina. Diferentemente do aprendizado supervisionado, os dados de treinamento que esse algoritmo utiliza não são rotulados, o que significa que os pontos de dados não têm uma estrutura de classificação definida."
      ],
      "metadata": {
        "id": "AzS6Qc9cX5Ta"
      }
    },
    {
      "cell_type": "markdown",
      "source": [
        "# Implementando algoritmo de K-means\n",
        "- Carregar o dataset de iris;\n",
        "- Analisar os dados coletados;\n",
        "- Realizar o tratamento de dados;\n",
        "- Aplicar modelo ML de K-means;\n",
        "- Visualizar os resultados obtidos;"
      ],
      "metadata": {
        "id": "lRXsA_aIYh_D"
      }
    },
    {
      "cell_type": "markdown",
      "source": [
        "# Importando bibliotecas"
      ],
      "metadata": {
        "id": "NZraVo1vYw0y"
      }
    },
    {
      "cell_type": "code",
      "execution_count": null,
      "metadata": {
        "id": "BnNA7GyFX1BJ"
      },
      "outputs": [],
      "source": [
        "import pandas as pd\n",
        "import numpy as np\n",
        "import plotly.express as px\n",
        "import plotly.graph_objects as go\n",
        "from sklearn.preprocessing import StandardScaler\n",
        "from sklearn.cluster import KMeans\n"
      ]
    },
    {
      "cell_type": "markdown",
      "source": [
        "# Verificando versões das bibliotecas"
      ],
      "metadata": {
        "id": "y_ZkXaLDY101"
      }
    },
    {
      "cell_type": "code",
      "source": [
        "import sklearn\n",
        "import plotly\n",
        "\n",
        "print(f'''Verificando as versões das bibliotecas:\\n\n",
        "pandas: {pd.__version__}\n",
        "numpy: {np.__version__}\n",
        "sklearn: {sklearn.__version__}\n",
        "plotly: {plotly.__version__}\n",
        "''')"
      ],
      "metadata": {
        "colab": {
          "base_uri": "https://localhost:8080/"
        },
        "id": "VC0qYHDJY33N",
        "outputId": "8b39a761-0e5d-4775-a342-ae306879b57a"
      },
      "execution_count": null,
      "outputs": [
        {
          "output_type": "stream",
          "name": "stdout",
          "text": [
            "Verificando as versões das bibliotecas:\n",
            "\n",
            "pandas: 2.2.2\n",
            "numpy: 2.0.2\n",
            "sklearn: 1.6.1\n",
            "plotly: 5.24.1\n",
            "\n"
          ]
        }
      ]
    },
    {
      "cell_type": "markdown",
      "source": [
        "# Coletando dados\n"
      ],
      "metadata": {
        "id": "1js8umj-Y6KU"
      }
    },
    {
      "cell_type": "code",
      "source": [
        "iris = pd.read_csv('/content/iris.csv', sep=';')"
      ],
      "metadata": {
        "id": "cxt-A8xgY8Wd"
      },
      "execution_count": null,
      "outputs": []
    },
    {
      "cell_type": "markdown",
      "source": [
        "# Analisando os dados coletados"
      ],
      "metadata": {
        "id": "tKTMnMDPZMI9"
      }
    },
    {
      "cell_type": "code",
      "source": [
        "# Visualizando arquivos da base de dados\n",
        "iris.head()"
      ],
      "metadata": {
        "colab": {
          "base_uri": "https://localhost:8080/",
          "height": 206
        },
        "id": "fS2ClFSfZNtM",
        "outputId": "032d4c88-2628-4197-80f8-594acc998995"
      },
      "execution_count": null,
      "outputs": [
        {
          "output_type": "execute_result",
          "data": {
            "text/plain": [
              "   sepal length  sepal width  petal length  petal width        Class\n",
              "0           5.1          3.5           1.4          0.2  Iris-setosa\n",
              "1           4.9          3.0           1.4          0.2  Iris-setosa\n",
              "2           4.7          3.2           1.3          0.2  Iris-setosa\n",
              "3           4.6          3.1           1.5          0.2  Iris-setosa\n",
              "4           5.0          3.6           1.4          0.2  Iris-setosa"
            ],
            "text/html": [
              "\n",
              "  <div id=\"df-e8bb810a-50b7-44b2-93ff-cfc04ce2e6aa\" class=\"colab-df-container\">\n",
              "    <div>\n",
              "<style scoped>\n",
              "    .dataframe tbody tr th:only-of-type {\n",
              "        vertical-align: middle;\n",
              "    }\n",
              "\n",
              "    .dataframe tbody tr th {\n",
              "        vertical-align: top;\n",
              "    }\n",
              "\n",
              "    .dataframe thead th {\n",
              "        text-align: right;\n",
              "    }\n",
              "</style>\n",
              "<table border=\"1\" class=\"dataframe\">\n",
              "  <thead>\n",
              "    <tr style=\"text-align: right;\">\n",
              "      <th></th>\n",
              "      <th>sepal length</th>\n",
              "      <th>sepal width</th>\n",
              "      <th>petal length</th>\n",
              "      <th>petal width</th>\n",
              "      <th>Class</th>\n",
              "    </tr>\n",
              "  </thead>\n",
              "  <tbody>\n",
              "    <tr>\n",
              "      <th>0</th>\n",
              "      <td>5.1</td>\n",
              "      <td>3.5</td>\n",
              "      <td>1.4</td>\n",
              "      <td>0.2</td>\n",
              "      <td>Iris-setosa</td>\n",
              "    </tr>\n",
              "    <tr>\n",
              "      <th>1</th>\n",
              "      <td>4.9</td>\n",
              "      <td>3.0</td>\n",
              "      <td>1.4</td>\n",
              "      <td>0.2</td>\n",
              "      <td>Iris-setosa</td>\n",
              "    </tr>\n",
              "    <tr>\n",
              "      <th>2</th>\n",
              "      <td>4.7</td>\n",
              "      <td>3.2</td>\n",
              "      <td>1.3</td>\n",
              "      <td>0.2</td>\n",
              "      <td>Iris-setosa</td>\n",
              "    </tr>\n",
              "    <tr>\n",
              "      <th>3</th>\n",
              "      <td>4.6</td>\n",
              "      <td>3.1</td>\n",
              "      <td>1.5</td>\n",
              "      <td>0.2</td>\n",
              "      <td>Iris-setosa</td>\n",
              "    </tr>\n",
              "    <tr>\n",
              "      <th>4</th>\n",
              "      <td>5.0</td>\n",
              "      <td>3.6</td>\n",
              "      <td>1.4</td>\n",
              "      <td>0.2</td>\n",
              "      <td>Iris-setosa</td>\n",
              "    </tr>\n",
              "  </tbody>\n",
              "</table>\n",
              "</div>\n",
              "    <div class=\"colab-df-buttons\">\n",
              "\n",
              "  <div class=\"colab-df-container\">\n",
              "    <button class=\"colab-df-convert\" onclick=\"convertToInteractive('df-e8bb810a-50b7-44b2-93ff-cfc04ce2e6aa')\"\n",
              "            title=\"Convert this dataframe to an interactive table.\"\n",
              "            style=\"display:none;\">\n",
              "\n",
              "  <svg xmlns=\"http://www.w3.org/2000/svg\" height=\"24px\" viewBox=\"0 -960 960 960\">\n",
              "    <path d=\"M120-120v-720h720v720H120Zm60-500h600v-160H180v160Zm220 220h160v-160H400v160Zm0 220h160v-160H400v160ZM180-400h160v-160H180v160Zm440 0h160v-160H620v160ZM180-180h160v-160H180v160Zm440 0h160v-160H620v160Z\"/>\n",
              "  </svg>\n",
              "    </button>\n",
              "\n",
              "  <style>\n",
              "    .colab-df-container {\n",
              "      display:flex;\n",
              "      gap: 12px;\n",
              "    }\n",
              "\n",
              "    .colab-df-convert {\n",
              "      background-color: #E8F0FE;\n",
              "      border: none;\n",
              "      border-radius: 50%;\n",
              "      cursor: pointer;\n",
              "      display: none;\n",
              "      fill: #1967D2;\n",
              "      height: 32px;\n",
              "      padding: 0 0 0 0;\n",
              "      width: 32px;\n",
              "    }\n",
              "\n",
              "    .colab-df-convert:hover {\n",
              "      background-color: #E2EBFA;\n",
              "      box-shadow: 0px 1px 2px rgba(60, 64, 67, 0.3), 0px 1px 3px 1px rgba(60, 64, 67, 0.15);\n",
              "      fill: #174EA6;\n",
              "    }\n",
              "\n",
              "    .colab-df-buttons div {\n",
              "      margin-bottom: 4px;\n",
              "    }\n",
              "\n",
              "    [theme=dark] .colab-df-convert {\n",
              "      background-color: #3B4455;\n",
              "      fill: #D2E3FC;\n",
              "    }\n",
              "\n",
              "    [theme=dark] .colab-df-convert:hover {\n",
              "      background-color: #434B5C;\n",
              "      box-shadow: 0px 1px 3px 1px rgba(0, 0, 0, 0.15);\n",
              "      filter: drop-shadow(0px 1px 2px rgba(0, 0, 0, 0.3));\n",
              "      fill: #FFFFFF;\n",
              "    }\n",
              "  </style>\n",
              "\n",
              "    <script>\n",
              "      const buttonEl =\n",
              "        document.querySelector('#df-e8bb810a-50b7-44b2-93ff-cfc04ce2e6aa button.colab-df-convert');\n",
              "      buttonEl.style.display =\n",
              "        google.colab.kernel.accessAllowed ? 'block' : 'none';\n",
              "\n",
              "      async function convertToInteractive(key) {\n",
              "        const element = document.querySelector('#df-e8bb810a-50b7-44b2-93ff-cfc04ce2e6aa');\n",
              "        const dataTable =\n",
              "          await google.colab.kernel.invokeFunction('convertToInteractive',\n",
              "                                                    [key], {});\n",
              "        if (!dataTable) return;\n",
              "\n",
              "        const docLinkHtml = 'Like what you see? Visit the ' +\n",
              "          '<a target=\"_blank\" href=https://colab.research.google.com/notebooks/data_table.ipynb>data table notebook</a>'\n",
              "          + ' to learn more about interactive tables.';\n",
              "        element.innerHTML = '';\n",
              "        dataTable['output_type'] = 'display_data';\n",
              "        await google.colab.output.renderOutput(dataTable, element);\n",
              "        const docLink = document.createElement('div');\n",
              "        docLink.innerHTML = docLinkHtml;\n",
              "        element.appendChild(docLink);\n",
              "      }\n",
              "    </script>\n",
              "  </div>\n",
              "\n",
              "\n",
              "<div id=\"df-d3f8b1eb-0f65-4dda-8ab8-0d1aa980d26a\">\n",
              "  <button class=\"colab-df-quickchart\" onclick=\"quickchart('df-d3f8b1eb-0f65-4dda-8ab8-0d1aa980d26a')\"\n",
              "            title=\"Suggest charts\"\n",
              "            style=\"display:none;\">\n",
              "\n",
              "<svg xmlns=\"http://www.w3.org/2000/svg\" height=\"24px\"viewBox=\"0 0 24 24\"\n",
              "     width=\"24px\">\n",
              "    <g>\n",
              "        <path d=\"M19 3H5c-1.1 0-2 .9-2 2v14c0 1.1.9 2 2 2h14c1.1 0 2-.9 2-2V5c0-1.1-.9-2-2-2zM9 17H7v-7h2v7zm4 0h-2V7h2v10zm4 0h-2v-4h2v4z\"/>\n",
              "    </g>\n",
              "</svg>\n",
              "  </button>\n",
              "\n",
              "<style>\n",
              "  .colab-df-quickchart {\n",
              "      --bg-color: #E8F0FE;\n",
              "      --fill-color: #1967D2;\n",
              "      --hover-bg-color: #E2EBFA;\n",
              "      --hover-fill-color: #174EA6;\n",
              "      --disabled-fill-color: #AAA;\n",
              "      --disabled-bg-color: #DDD;\n",
              "  }\n",
              "\n",
              "  [theme=dark] .colab-df-quickchart {\n",
              "      --bg-color: #3B4455;\n",
              "      --fill-color: #D2E3FC;\n",
              "      --hover-bg-color: #434B5C;\n",
              "      --hover-fill-color: #FFFFFF;\n",
              "      --disabled-bg-color: #3B4455;\n",
              "      --disabled-fill-color: #666;\n",
              "  }\n",
              "\n",
              "  .colab-df-quickchart {\n",
              "    background-color: var(--bg-color);\n",
              "    border: none;\n",
              "    border-radius: 50%;\n",
              "    cursor: pointer;\n",
              "    display: none;\n",
              "    fill: var(--fill-color);\n",
              "    height: 32px;\n",
              "    padding: 0;\n",
              "    width: 32px;\n",
              "  }\n",
              "\n",
              "  .colab-df-quickchart:hover {\n",
              "    background-color: var(--hover-bg-color);\n",
              "    box-shadow: 0 1px 2px rgba(60, 64, 67, 0.3), 0 1px 3px 1px rgba(60, 64, 67, 0.15);\n",
              "    fill: var(--button-hover-fill-color);\n",
              "  }\n",
              "\n",
              "  .colab-df-quickchart-complete:disabled,\n",
              "  .colab-df-quickchart-complete:disabled:hover {\n",
              "    background-color: var(--disabled-bg-color);\n",
              "    fill: var(--disabled-fill-color);\n",
              "    box-shadow: none;\n",
              "  }\n",
              "\n",
              "  .colab-df-spinner {\n",
              "    border: 2px solid var(--fill-color);\n",
              "    border-color: transparent;\n",
              "    border-bottom-color: var(--fill-color);\n",
              "    animation:\n",
              "      spin 1s steps(1) infinite;\n",
              "  }\n",
              "\n",
              "  @keyframes spin {\n",
              "    0% {\n",
              "      border-color: transparent;\n",
              "      border-bottom-color: var(--fill-color);\n",
              "      border-left-color: var(--fill-color);\n",
              "    }\n",
              "    20% {\n",
              "      border-color: transparent;\n",
              "      border-left-color: var(--fill-color);\n",
              "      border-top-color: var(--fill-color);\n",
              "    }\n",
              "    30% {\n",
              "      border-color: transparent;\n",
              "      border-left-color: var(--fill-color);\n",
              "      border-top-color: var(--fill-color);\n",
              "      border-right-color: var(--fill-color);\n",
              "    }\n",
              "    40% {\n",
              "      border-color: transparent;\n",
              "      border-right-color: var(--fill-color);\n",
              "      border-top-color: var(--fill-color);\n",
              "    }\n",
              "    60% {\n",
              "      border-color: transparent;\n",
              "      border-right-color: var(--fill-color);\n",
              "    }\n",
              "    80% {\n",
              "      border-color: transparent;\n",
              "      border-right-color: var(--fill-color);\n",
              "      border-bottom-color: var(--fill-color);\n",
              "    }\n",
              "    90% {\n",
              "      border-color: transparent;\n",
              "      border-bottom-color: var(--fill-color);\n",
              "    }\n",
              "  }\n",
              "</style>\n",
              "\n",
              "  <script>\n",
              "    async function quickchart(key) {\n",
              "      const quickchartButtonEl =\n",
              "        document.querySelector('#' + key + ' button');\n",
              "      quickchartButtonEl.disabled = true;  // To prevent multiple clicks.\n",
              "      quickchartButtonEl.classList.add('colab-df-spinner');\n",
              "      try {\n",
              "        const charts = await google.colab.kernel.invokeFunction(\n",
              "            'suggestCharts', [key], {});\n",
              "      } catch (error) {\n",
              "        console.error('Error during call to suggestCharts:', error);\n",
              "      }\n",
              "      quickchartButtonEl.classList.remove('colab-df-spinner');\n",
              "      quickchartButtonEl.classList.add('colab-df-quickchart-complete');\n",
              "    }\n",
              "    (() => {\n",
              "      let quickchartButtonEl =\n",
              "        document.querySelector('#df-d3f8b1eb-0f65-4dda-8ab8-0d1aa980d26a button');\n",
              "      quickchartButtonEl.style.display =\n",
              "        google.colab.kernel.accessAllowed ? 'block' : 'none';\n",
              "    })();\n",
              "  </script>\n",
              "</div>\n",
              "\n",
              "    </div>\n",
              "  </div>\n"
            ],
            "application/vnd.google.colaboratory.intrinsic+json": {
              "type": "dataframe",
              "variable_name": "iris",
              "summary": "{\n  \"name\": \"iris\",\n  \"rows\": 150,\n  \"fields\": [\n    {\n      \"column\": \"sepal length\",\n      \"properties\": {\n        \"dtype\": \"number\",\n        \"std\": 0.8280661279778629,\n        \"min\": 4.3,\n        \"max\": 7.9,\n        \"num_unique_values\": 35,\n        \"samples\": [\n          6.2,\n          4.5,\n          5.6\n        ],\n        \"semantic_type\": \"\",\n        \"description\": \"\"\n      }\n    },\n    {\n      \"column\": \"sepal width\",\n      \"properties\": {\n        \"dtype\": \"number\",\n        \"std\": 0.4335943113621737,\n        \"min\": 2.0,\n        \"max\": 4.4,\n        \"num_unique_values\": 23,\n        \"samples\": [\n          2.3,\n          4.0,\n          3.5\n        ],\n        \"semantic_type\": \"\",\n        \"description\": \"\"\n      }\n    },\n    {\n      \"column\": \"petal length\",\n      \"properties\": {\n        \"dtype\": \"number\",\n        \"std\": 1.7644204199522617,\n        \"min\": 1.0,\n        \"max\": 6.9,\n        \"num_unique_values\": 43,\n        \"samples\": [\n          6.7,\n          3.8,\n          3.7\n        ],\n        \"semantic_type\": \"\",\n        \"description\": \"\"\n      }\n    },\n    {\n      \"column\": \"petal width\",\n      \"properties\": {\n        \"dtype\": \"number\",\n        \"std\": 0.7631607417008414,\n        \"min\": 0.1,\n        \"max\": 2.5,\n        \"num_unique_values\": 22,\n        \"samples\": [\n          0.2,\n          1.2,\n          1.3\n        ],\n        \"semantic_type\": \"\",\n        \"description\": \"\"\n      }\n    },\n    {\n      \"column\": \"Class\",\n      \"properties\": {\n        \"dtype\": \"category\",\n        \"num_unique_values\": 3,\n        \"samples\": [\n          \"Iris-setosa\",\n          \"Iris-versicolor\",\n          \"Iris-virginica\"\n        ],\n        \"semantic_type\": \"\",\n        \"description\": \"\"\n      }\n    }\n  ]\n}"
            }
          },
          "metadata": {},
          "execution_count": 10
        }
      ]
    },
    {
      "cell_type": "markdown",
      "source": [
        "![image.png](data:image/png;base64,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)"
      ],
      "metadata": {
        "id": "jKcZhND-cKb4"
      }
    },
    {
      "cell_type": "code",
      "source": [
        "# Gerando algumas estatísticas da base de dados\n",
        "iris.describe()"
      ],
      "metadata": {
        "colab": {
          "base_uri": "https://localhost:8080/",
          "height": 300
        },
        "id": "kbDDPLdvZfUl",
        "outputId": "85379aff-3a78-491a-fc42-05baa3dd48e8"
      },
      "execution_count": null,
      "outputs": [
        {
          "output_type": "execute_result",
          "data": {
            "text/plain": [
              "       sepal length  sepal width  petal length  petal width\n",
              "count    150.000000   150.000000    150.000000   150.000000\n",
              "mean       5.843333     3.054000      3.758667     1.198667\n",
              "std        0.828066     0.433594      1.764420     0.763161\n",
              "min        4.300000     2.000000      1.000000     0.100000\n",
              "25%        5.100000     2.800000      1.600000     0.300000\n",
              "50%        5.800000     3.000000      4.350000     1.300000\n",
              "75%        6.400000     3.300000      5.100000     1.800000\n",
              "max        7.900000     4.400000      6.900000     2.500000"
            ],
            "text/html": [
              "\n",
              "  <div id=\"df-3e83c049-c807-44fb-9aa7-dbce46162e12\" class=\"colab-df-container\">\n",
              "    <div>\n",
              "<style scoped>\n",
              "    .dataframe tbody tr th:only-of-type {\n",
              "        vertical-align: middle;\n",
              "    }\n",
              "\n",
              "    .dataframe tbody tr th {\n",
              "        vertical-align: top;\n",
              "    }\n",
              "\n",
              "    .dataframe thead th {\n",
              "        text-align: right;\n",
              "    }\n",
              "</style>\n",
              "<table border=\"1\" class=\"dataframe\">\n",
              "  <thead>\n",
              "    <tr style=\"text-align: right;\">\n",
              "      <th></th>\n",
              "      <th>sepal length</th>\n",
              "      <th>sepal width</th>\n",
              "      <th>petal length</th>\n",
              "      <th>petal width</th>\n",
              "    </tr>\n",
              "  </thead>\n",
              "  <tbody>\n",
              "    <tr>\n",
              "      <th>count</th>\n",
              "      <td>150.000000</td>\n",
              "      <td>150.000000</td>\n",
              "      <td>150.000000</td>\n",
              "      <td>150.000000</td>\n",
              "    </tr>\n",
              "    <tr>\n",
              "      <th>mean</th>\n",
              "      <td>5.843333</td>\n",
              "      <td>3.054000</td>\n",
              "      <td>3.758667</td>\n",
              "      <td>1.198667</td>\n",
              "    </tr>\n",
              "    <tr>\n",
              "      <th>std</th>\n",
              "      <td>0.828066</td>\n",
              "      <td>0.433594</td>\n",
              "      <td>1.764420</td>\n",
              "      <td>0.763161</td>\n",
              "    </tr>\n",
              "    <tr>\n",
              "      <th>min</th>\n",
              "      <td>4.300000</td>\n",
              "      <td>2.000000</td>\n",
              "      <td>1.000000</td>\n",
              "      <td>0.100000</td>\n",
              "    </tr>\n",
              "    <tr>\n",
              "      <th>25%</th>\n",
              "      <td>5.100000</td>\n",
              "      <td>2.800000</td>\n",
              "      <td>1.600000</td>\n",
              "      <td>0.300000</td>\n",
              "    </tr>\n",
              "    <tr>\n",
              "      <th>50%</th>\n",
              "      <td>5.800000</td>\n",
              "      <td>3.000000</td>\n",
              "      <td>4.350000</td>\n",
              "      <td>1.300000</td>\n",
              "    </tr>\n",
              "    <tr>\n",
              "      <th>75%</th>\n",
              "      <td>6.400000</td>\n",
              "      <td>3.300000</td>\n",
              "      <td>5.100000</td>\n",
              "      <td>1.800000</td>\n",
              "    </tr>\n",
              "    <tr>\n",
              "      <th>max</th>\n",
              "      <td>7.900000</td>\n",
              "      <td>4.400000</td>\n",
              "      <td>6.900000</td>\n",
              "      <td>2.500000</td>\n",
              "    </tr>\n",
              "  </tbody>\n",
              "</table>\n",
              "</div>\n",
              "    <div class=\"colab-df-buttons\">\n",
              "\n",
              "  <div class=\"colab-df-container\">\n",
              "    <button class=\"colab-df-convert\" onclick=\"convertToInteractive('df-3e83c049-c807-44fb-9aa7-dbce46162e12')\"\n",
              "            title=\"Convert this dataframe to an interactive table.\"\n",
              "            style=\"display:none;\">\n",
              "\n",
              "  <svg xmlns=\"http://www.w3.org/2000/svg\" height=\"24px\" viewBox=\"0 -960 960 960\">\n",
              "    <path d=\"M120-120v-720h720v720H120Zm60-500h600v-160H180v160Zm220 220h160v-160H400v160Zm0 220h160v-160H400v160ZM180-400h160v-160H180v160Zm440 0h160v-160H620v160ZM180-180h160v-160H180v160Zm440 0h160v-160H620v160Z\"/>\n",
              "  </svg>\n",
              "    </button>\n",
              "\n",
              "  <style>\n",
              "    .colab-df-container {\n",
              "      display:flex;\n",
              "      gap: 12px;\n",
              "    }\n",
              "\n",
              "    .colab-df-convert {\n",
              "      background-color: #E8F0FE;\n",
              "      border: none;\n",
              "      border-radius: 50%;\n",
              "      cursor: pointer;\n",
              "      display: none;\n",
              "      fill: #1967D2;\n",
              "      height: 32px;\n",
              "      padding: 0 0 0 0;\n",
              "      width: 32px;\n",
              "    }\n",
              "\n",
              "    .colab-df-convert:hover {\n",
              "      background-color: #E2EBFA;\n",
              "      box-shadow: 0px 1px 2px rgba(60, 64, 67, 0.3), 0px 1px 3px 1px rgba(60, 64, 67, 0.15);\n",
              "      fill: #174EA6;\n",
              "    }\n",
              "\n",
              "    .colab-df-buttons div {\n",
              "      margin-bottom: 4px;\n",
              "    }\n",
              "\n",
              "    [theme=dark] .colab-df-convert {\n",
              "      background-color: #3B4455;\n",
              "      fill: #D2E3FC;\n",
              "    }\n",
              "\n",
              "    [theme=dark] .colab-df-convert:hover {\n",
              "      background-color: #434B5C;\n",
              "      box-shadow: 0px 1px 3px 1px rgba(0, 0, 0, 0.15);\n",
              "      filter: drop-shadow(0px 1px 2px rgba(0, 0, 0, 0.3));\n",
              "      fill: #FFFFFF;\n",
              "    }\n",
              "  </style>\n",
              "\n",
              "    <script>\n",
              "      const buttonEl =\n",
              "        document.querySelector('#df-3e83c049-c807-44fb-9aa7-dbce46162e12 button.colab-df-convert');\n",
              "      buttonEl.style.display =\n",
              "        google.colab.kernel.accessAllowed ? 'block' : 'none';\n",
              "\n",
              "      async function convertToInteractive(key) {\n",
              "        const element = document.querySelector('#df-3e83c049-c807-44fb-9aa7-dbce46162e12');\n",
              "        const dataTable =\n",
              "          await google.colab.kernel.invokeFunction('convertToInteractive',\n",
              "                                                    [key], {});\n",
              "        if (!dataTable) return;\n",
              "\n",
              "        const docLinkHtml = 'Like what you see? Visit the ' +\n",
              "          '<a target=\"_blank\" href=https://colab.research.google.com/notebooks/data_table.ipynb>data table notebook</a>'\n",
              "          + ' to learn more about interactive tables.';\n",
              "        element.innerHTML = '';\n",
              "        dataTable['output_type'] = 'display_data';\n",
              "        await google.colab.output.renderOutput(dataTable, element);\n",
              "        const docLink = document.createElement('div');\n",
              "        docLink.innerHTML = docLinkHtml;\n",
              "        element.appendChild(docLink);\n",
              "      }\n",
              "    </script>\n",
              "  </div>\n",
              "\n",
              "\n",
              "<div id=\"df-43f9dfb4-eb49-4f0b-8d04-ffdef3ec1b9c\">\n",
              "  <button class=\"colab-df-quickchart\" onclick=\"quickchart('df-43f9dfb4-eb49-4f0b-8d04-ffdef3ec1b9c')\"\n",
              "            title=\"Suggest charts\"\n",
              "            style=\"display:none;\">\n",
              "\n",
              "<svg xmlns=\"http://www.w3.org/2000/svg\" height=\"24px\"viewBox=\"0 0 24 24\"\n",
              "     width=\"24px\">\n",
              "    <g>\n",
              "        <path d=\"M19 3H5c-1.1 0-2 .9-2 2v14c0 1.1.9 2 2 2h14c1.1 0 2-.9 2-2V5c0-1.1-.9-2-2-2zM9 17H7v-7h2v7zm4 0h-2V7h2v10zm4 0h-2v-4h2v4z\"/>\n",
              "    </g>\n",
              "</svg>\n",
              "  </button>\n",
              "\n",
              "<style>\n",
              "  .colab-df-quickchart {\n",
              "      --bg-color: #E8F0FE;\n",
              "      --fill-color: #1967D2;\n",
              "      --hover-bg-color: #E2EBFA;\n",
              "      --hover-fill-color: #174EA6;\n",
              "      --disabled-fill-color: #AAA;\n",
              "      --disabled-bg-color: #DDD;\n",
              "  }\n",
              "\n",
              "  [theme=dark] .colab-df-quickchart {\n",
              "      --bg-color: #3B4455;\n",
              "      --fill-color: #D2E3FC;\n",
              "      --hover-bg-color: #434B5C;\n",
              "      --hover-fill-color: #FFFFFF;\n",
              "      --disabled-bg-color: #3B4455;\n",
              "      --disabled-fill-color: #666;\n",
              "  }\n",
              "\n",
              "  .colab-df-quickchart {\n",
              "    background-color: var(--bg-color);\n",
              "    border: none;\n",
              "    border-radius: 50%;\n",
              "    cursor: pointer;\n",
              "    display: none;\n",
              "    fill: var(--fill-color);\n",
              "    height: 32px;\n",
              "    padding: 0;\n",
              "    width: 32px;\n",
              "  }\n",
              "\n",
              "  .colab-df-quickchart:hover {\n",
              "    background-color: var(--hover-bg-color);\n",
              "    box-shadow: 0 1px 2px rgba(60, 64, 67, 0.3), 0 1px 3px 1px rgba(60, 64, 67, 0.15);\n",
              "    fill: var(--button-hover-fill-color);\n",
              "  }\n",
              "\n",
              "  .colab-df-quickchart-complete:disabled,\n",
              "  .colab-df-quickchart-complete:disabled:hover {\n",
              "    background-color: var(--disabled-bg-color);\n",
              "    fill: var(--disabled-fill-color);\n",
              "    box-shadow: none;\n",
              "  }\n",
              "\n",
              "  .colab-df-spinner {\n",
              "    border: 2px solid var(--fill-color);\n",
              "    border-color: transparent;\n",
              "    border-bottom-color: var(--fill-color);\n",
              "    animation:\n",
              "      spin 1s steps(1) infinite;\n",
              "  }\n",
              "\n",
              "  @keyframes spin {\n",
              "    0% {\n",
              "      border-color: transparent;\n",
              "      border-bottom-color: var(--fill-color);\n",
              "      border-left-color: var(--fill-color);\n",
              "    }\n",
              "    20% {\n",
              "      border-color: transparent;\n",
              "      border-left-color: var(--fill-color);\n",
              "      border-top-color: var(--fill-color);\n",
              "    }\n",
              "    30% {\n",
              "      border-color: transparent;\n",
              "      border-left-color: var(--fill-color);\n",
              "      border-top-color: var(--fill-color);\n",
              "      border-right-color: var(--fill-color);\n",
              "    }\n",
              "    40% {\n",
              "      border-color: transparent;\n",
              "      border-right-color: var(--fill-color);\n",
              "      border-top-color: var(--fill-color);\n",
              "    }\n",
              "    60% {\n",
              "      border-color: transparent;\n",
              "      border-right-color: var(--fill-color);\n",
              "    }\n",
              "    80% {\n",
              "      border-color: transparent;\n",
              "      border-right-color: var(--fill-color);\n",
              "      border-bottom-color: var(--fill-color);\n",
              "    }\n",
              "    90% {\n",
              "      border-color: transparent;\n",
              "      border-bottom-color: var(--fill-color);\n",
              "    }\n",
              "  }\n",
              "</style>\n",
              "\n",
              "  <script>\n",
              "    async function quickchart(key) {\n",
              "      const quickchartButtonEl =\n",
              "        document.querySelector('#' + key + ' button');\n",
              "      quickchartButtonEl.disabled = true;  // To prevent multiple clicks.\n",
              "      quickchartButtonEl.classList.add('colab-df-spinner');\n",
              "      try {\n",
              "        const charts = await google.colab.kernel.invokeFunction(\n",
              "            'suggestCharts', [key], {});\n",
              "      } catch (error) {\n",
              "        console.error('Error during call to suggestCharts:', error);\n",
              "      }\n",
              "      quickchartButtonEl.classList.remove('colab-df-spinner');\n",
              "      quickchartButtonEl.classList.add('colab-df-quickchart-complete');\n",
              "    }\n",
              "    (() => {\n",
              "      let quickchartButtonEl =\n",
              "        document.querySelector('#df-43f9dfb4-eb49-4f0b-8d04-ffdef3ec1b9c button');\n",
              "      quickchartButtonEl.style.display =\n",
              "        google.colab.kernel.accessAllowed ? 'block' : 'none';\n",
              "    })();\n",
              "  </script>\n",
              "</div>\n",
              "\n",
              "    </div>\n",
              "  </div>\n"
            ],
            "application/vnd.google.colaboratory.intrinsic+json": {
              "type": "dataframe",
              "summary": "{\n  \"name\": \"iris\",\n  \"rows\": 8,\n  \"fields\": [\n    {\n      \"column\": \"sepal length\",\n      \"properties\": {\n        \"dtype\": \"number\",\n        \"std\": 51.24711349471842,\n        \"min\": 0.8280661279778629,\n        \"max\": 150.0,\n        \"num_unique_values\": 8,\n        \"samples\": [\n          5.843333333333334,\n          5.8,\n          150.0\n        ],\n        \"semantic_type\": \"\",\n        \"description\": \"\"\n      }\n    },\n    {\n      \"column\": \"sepal width\",\n      \"properties\": {\n        \"dtype\": \"number\",\n        \"std\": 52.08647211421483,\n        \"min\": 0.4335943113621737,\n        \"max\": 150.0,\n        \"num_unique_values\": 8,\n        \"samples\": [\n          3.0540000000000003,\n          3.0,\n          150.0\n        ],\n        \"semantic_type\": \"\",\n        \"description\": \"\"\n      }\n    },\n    {\n      \"column\": \"petal length\",\n      \"properties\": {\n        \"dtype\": \"number\",\n        \"std\": 51.835227940958106,\n        \"min\": 1.0,\n        \"max\": 150.0,\n        \"num_unique_values\": 8,\n        \"samples\": [\n          3.758666666666666,\n          4.35,\n          150.0\n        ],\n        \"semantic_type\": \"\",\n        \"description\": \"\"\n      }\n    },\n    {\n      \"column\": \"petal width\",\n      \"properties\": {\n        \"dtype\": \"number\",\n        \"std\": 52.63663424340991,\n        \"min\": 0.1,\n        \"max\": 150.0,\n        \"num_unique_values\": 8,\n        \"samples\": [\n          1.1986666666666668,\n          1.3,\n          150.0\n        ],\n        \"semantic_type\": \"\",\n        \"description\": \"\"\n      }\n    }\n  ]\n}"
            }
          },
          "metadata": {},
          "execution_count": 6
        }
      ]
    },
    {
      "cell_type": "code",
      "source": [
        "# Número de classes existentes no dataframe\n",
        "iris['Class'].unique()"
      ],
      "metadata": {
        "colab": {
          "base_uri": "https://localhost:8080/"
        },
        "id": "wlA1C52ucrAx",
        "outputId": "48e32409-b07c-464c-ad6f-25d5459f01db"
      },
      "execution_count": null,
      "outputs": [
        {
          "output_type": "execute_result",
          "data": {
            "text/plain": [
              "array(['Iris-setosa', 'Iris-versicolor', 'Iris-virginica'], dtype=object)"
            ]
          },
          "metadata": {},
          "execution_count": 7
        }
      ]
    },
    {
      "cell_type": "code",
      "source": [
        "# Contando número de classes\n",
        "len(iris['Class'].unique())"
      ],
      "metadata": {
        "colab": {
          "base_uri": "https://localhost:8080/"
        },
        "id": "TIDNSNYFc_Ii",
        "outputId": "a79a411e-3ed7-4b28-c5a8-67b3a212bff7"
      },
      "execution_count": null,
      "outputs": [
        {
          "output_type": "execute_result",
          "data": {
            "text/plain": [
              "3"
            ]
          },
          "metadata": {},
          "execution_count": 8
        }
      ]
    },
    {
      "cell_type": "code",
      "source": [
        "# Avaliando número de linhas e colunas do dataframe\n",
        "iris.shape"
      ],
      "metadata": {
        "colab": {
          "base_uri": "https://localhost:8080/"
        },
        "id": "t9MmozdOdNJ6",
        "outputId": "d03625f2-7154-44f6-b712-f65be0da6c68"
      },
      "execution_count": null,
      "outputs": [
        {
          "output_type": "execute_result",
          "data": {
            "text/plain": [
              "(150, 5)"
            ]
          },
          "metadata": {},
          "execution_count": 9
        }
      ]
    },
    {
      "cell_type": "code",
      "source": [
        "# Verificando se existe algum valor nulo ou ausente\n",
        "iris.isnull().sum()"
      ],
      "metadata": {
        "colab": {
          "base_uri": "https://localhost:8080/",
          "height": 241
        },
        "id": "_JkqzQ8QdWEc",
        "outputId": "e892774c-3d3a-4b95-805f-2b01b642be83"
      },
      "execution_count": null,
      "outputs": [
        {
          "output_type": "execute_result",
          "data": {
            "text/plain": [
              "sepal length    0\n",
              "sepal width     0\n",
              "petal length    0\n",
              "petal width     0\n",
              "Class           0\n",
              "dtype: int64"
            ],
            "text/html": [
              "<div>\n",
              "<style scoped>\n",
              "    .dataframe tbody tr th:only-of-type {\n",
              "        vertical-align: middle;\n",
              "    }\n",
              "\n",
              "    .dataframe tbody tr th {\n",
              "        vertical-align: top;\n",
              "    }\n",
              "\n",
              "    .dataframe thead th {\n",
              "        text-align: right;\n",
              "    }\n",
              "</style>\n",
              "<table border=\"1\" class=\"dataframe\">\n",
              "  <thead>\n",
              "    <tr style=\"text-align: right;\">\n",
              "      <th></th>\n",
              "      <th>0</th>\n",
              "    </tr>\n",
              "  </thead>\n",
              "  <tbody>\n",
              "    <tr>\n",
              "      <th>sepal length</th>\n",
              "      <td>0</td>\n",
              "    </tr>\n",
              "    <tr>\n",
              "      <th>sepal width</th>\n",
              "      <td>0</td>\n",
              "    </tr>\n",
              "    <tr>\n",
              "      <th>petal length</th>\n",
              "      <td>0</td>\n",
              "    </tr>\n",
              "    <tr>\n",
              "      <th>petal width</th>\n",
              "      <td>0</td>\n",
              "    </tr>\n",
              "    <tr>\n",
              "      <th>Class</th>\n",
              "      <td>0</td>\n",
              "    </tr>\n",
              "  </tbody>\n",
              "</table>\n",
              "</div><br><label><b>dtype:</b> int64</label>"
            ]
          },
          "metadata": {},
          "execution_count": 10
        }
      ]
    },
    {
      "cell_type": "code",
      "source": [
        "# Verificando informações da base de dados\n",
        "iris.info()"
      ],
      "metadata": {
        "colab": {
          "base_uri": "https://localhost:8080/"
        },
        "id": "9XBDyh9wdZuc",
        "outputId": "9d700114-9133-469b-dca9-29b7fe799d77"
      },
      "execution_count": null,
      "outputs": [
        {
          "output_type": "stream",
          "name": "stdout",
          "text": [
            "<class 'pandas.core.frame.DataFrame'>\n",
            "RangeIndex: 150 entries, 0 to 149\n",
            "Data columns (total 5 columns):\n",
            " #   Column        Non-Null Count  Dtype  \n",
            "---  ------        --------------  -----  \n",
            " 0   sepal length  150 non-null    float64\n",
            " 1   sepal width   150 non-null    float64\n",
            " 2   petal length  150 non-null    float64\n",
            " 3   petal width   150 non-null    float64\n",
            " 4   Class         150 non-null    object \n",
            "dtypes: float64(4), object(1)\n",
            "memory usage: 6.0+ KB\n"
          ]
        }
      ]
    },
    {
      "cell_type": "markdown",
      "source": [
        "# Criando clusters com os dados das pétalas"
      ],
      "metadata": {
        "id": "HsnzgH4rdeZr"
      }
    },
    {
      "cell_type": "markdown",
      "source": [
        "Realizar o agrupamento dos dados baseado no comprimento e na largura das pétalas"
      ],
      "metadata": {
        "id": "YUbD8TKbdhWk"
      }
    },
    {
      "cell_type": "markdown",
      "source": [
        "# Coletando dados das pétalas"
      ],
      "metadata": {
        "id": "Gzp2KTfnd0LE"
      }
    },
    {
      "cell_type": "code",
      "source": [
        "iris.head()"
      ],
      "metadata": {
        "colab": {
          "base_uri": "https://localhost:8080/",
          "height": 206
        },
        "id": "mh4uZka1dgmd",
        "outputId": "65bac906-b52d-497c-cfb1-455b0b3b388b"
      },
      "execution_count": null,
      "outputs": [
        {
          "output_type": "execute_result",
          "data": {
            "text/plain": [
              "   sepal length  sepal width  petal length  petal width        Class\n",
              "0           5.1          3.5           1.4          0.2  Iris-setosa\n",
              "1           4.9          3.0           1.4          0.2  Iris-setosa\n",
              "2           4.7          3.2           1.3          0.2  Iris-setosa\n",
              "3           4.6          3.1           1.5          0.2  Iris-setosa\n",
              "4           5.0          3.6           1.4          0.2  Iris-setosa"
            ],
            "text/html": [
              "\n",
              "  <div id=\"df-523ac55d-3150-4a9e-8748-37b0fe890d88\" class=\"colab-df-container\">\n",
              "    <div>\n",
              "<style scoped>\n",
              "    .dataframe tbody tr th:only-of-type {\n",
              "        vertical-align: middle;\n",
              "    }\n",
              "\n",
              "    .dataframe tbody tr th {\n",
              "        vertical-align: top;\n",
              "    }\n",
              "\n",
              "    .dataframe thead th {\n",
              "        text-align: right;\n",
              "    }\n",
              "</style>\n",
              "<table border=\"1\" class=\"dataframe\">\n",
              "  <thead>\n",
              "    <tr style=\"text-align: right;\">\n",
              "      <th></th>\n",
              "      <th>sepal length</th>\n",
              "      <th>sepal width</th>\n",
              "      <th>petal length</th>\n",
              "      <th>petal width</th>\n",
              "      <th>Class</th>\n",
              "    </tr>\n",
              "  </thead>\n",
              "  <tbody>\n",
              "    <tr>\n",
              "      <th>0</th>\n",
              "      <td>5.1</td>\n",
              "      <td>3.5</td>\n",
              "      <td>1.4</td>\n",
              "      <td>0.2</td>\n",
              "      <td>Iris-setosa</td>\n",
              "    </tr>\n",
              "    <tr>\n",
              "      <th>1</th>\n",
              "      <td>4.9</td>\n",
              "      <td>3.0</td>\n",
              "      <td>1.4</td>\n",
              "      <td>0.2</td>\n",
              "      <td>Iris-setosa</td>\n",
              "    </tr>\n",
              "    <tr>\n",
              "      <th>2</th>\n",
              "      <td>4.7</td>\n",
              "      <td>3.2</td>\n",
              "      <td>1.3</td>\n",
              "      <td>0.2</td>\n",
              "      <td>Iris-setosa</td>\n",
              "    </tr>\n",
              "    <tr>\n",
              "      <th>3</th>\n",
              "      <td>4.6</td>\n",
              "      <td>3.1</td>\n",
              "      <td>1.5</td>\n",
              "      <td>0.2</td>\n",
              "      <td>Iris-setosa</td>\n",
              "    </tr>\n",
              "    <tr>\n",
              "      <th>4</th>\n",
              "      <td>5.0</td>\n",
              "      <td>3.6</td>\n",
              "      <td>1.4</td>\n",
              "      <td>0.2</td>\n",
              "      <td>Iris-setosa</td>\n",
              "    </tr>\n",
              "  </tbody>\n",
              "</table>\n",
              "</div>\n",
              "    <div class=\"colab-df-buttons\">\n",
              "\n",
              "  <div class=\"colab-df-container\">\n",
              "    <button class=\"colab-df-convert\" onclick=\"convertToInteractive('df-523ac55d-3150-4a9e-8748-37b0fe890d88')\"\n",
              "            title=\"Convert this dataframe to an interactive table.\"\n",
              "            style=\"display:none;\">\n",
              "\n",
              "  <svg xmlns=\"http://www.w3.org/2000/svg\" height=\"24px\" viewBox=\"0 -960 960 960\">\n",
              "    <path d=\"M120-120v-720h720v720H120Zm60-500h600v-160H180v160Zm220 220h160v-160H400v160Zm0 220h160v-160H400v160ZM180-400h160v-160H180v160Zm440 0h160v-160H620v160ZM180-180h160v-160H180v160Zm440 0h160v-160H620v160Z\"/>\n",
              "  </svg>\n",
              "    </button>\n",
              "\n",
              "  <style>\n",
              "    .colab-df-container {\n",
              "      display:flex;\n",
              "      gap: 12px;\n",
              "    }\n",
              "\n",
              "    .colab-df-convert {\n",
              "      background-color: #E8F0FE;\n",
              "      border: none;\n",
              "      border-radius: 50%;\n",
              "      cursor: pointer;\n",
              "      display: none;\n",
              "      fill: #1967D2;\n",
              "      height: 32px;\n",
              "      padding: 0 0 0 0;\n",
              "      width: 32px;\n",
              "    }\n",
              "\n",
              "    .colab-df-convert:hover {\n",
              "      background-color: #E2EBFA;\n",
              "      box-shadow: 0px 1px 2px rgba(60, 64, 67, 0.3), 0px 1px 3px 1px rgba(60, 64, 67, 0.15);\n",
              "      fill: #174EA6;\n",
              "    }\n",
              "\n",
              "    .colab-df-buttons div {\n",
              "      margin-bottom: 4px;\n",
              "    }\n",
              "\n",
              "    [theme=dark] .colab-df-convert {\n",
              "      background-color: #3B4455;\n",
              "      fill: #D2E3FC;\n",
              "    }\n",
              "\n",
              "    [theme=dark] .colab-df-convert:hover {\n",
              "      background-color: #434B5C;\n",
              "      box-shadow: 0px 1px 3px 1px rgba(0, 0, 0, 0.15);\n",
              "      filter: drop-shadow(0px 1px 2px rgba(0, 0, 0, 0.3));\n",
              "      fill: #FFFFFF;\n",
              "    }\n",
              "  </style>\n",
              "\n",
              "    <script>\n",
              "      const buttonEl =\n",
              "        document.querySelector('#df-523ac55d-3150-4a9e-8748-37b0fe890d88 button.colab-df-convert');\n",
              "      buttonEl.style.display =\n",
              "        google.colab.kernel.accessAllowed ? 'block' : 'none';\n",
              "\n",
              "      async function convertToInteractive(key) {\n",
              "        const element = document.querySelector('#df-523ac55d-3150-4a9e-8748-37b0fe890d88');\n",
              "        const dataTable =\n",
              "          await google.colab.kernel.invokeFunction('convertToInteractive',\n",
              "                                                    [key], {});\n",
              "        if (!dataTable) return;\n",
              "\n",
              "        const docLinkHtml = 'Like what you see? Visit the ' +\n",
              "          '<a target=\"_blank\" href=https://colab.research.google.com/notebooks/data_table.ipynb>data table notebook</a>'\n",
              "          + ' to learn more about interactive tables.';\n",
              "        element.innerHTML = '';\n",
              "        dataTable['output_type'] = 'display_data';\n",
              "        await google.colab.output.renderOutput(dataTable, element);\n",
              "        const docLink = document.createElement('div');\n",
              "        docLink.innerHTML = docLinkHtml;\n",
              "        element.appendChild(docLink);\n",
              "      }\n",
              "    </script>\n",
              "  </div>\n",
              "\n",
              "\n",
              "<div id=\"df-1ffcd6ff-a9fc-4cf6-b17e-aa04b564c3d6\">\n",
              "  <button class=\"colab-df-quickchart\" onclick=\"quickchart('df-1ffcd6ff-a9fc-4cf6-b17e-aa04b564c3d6')\"\n",
              "            title=\"Suggest charts\"\n",
              "            style=\"display:none;\">\n",
              "\n",
              "<svg xmlns=\"http://www.w3.org/2000/svg\" height=\"24px\"viewBox=\"0 0 24 24\"\n",
              "     width=\"24px\">\n",
              "    <g>\n",
              "        <path d=\"M19 3H5c-1.1 0-2 .9-2 2v14c0 1.1.9 2 2 2h14c1.1 0 2-.9 2-2V5c0-1.1-.9-2-2-2zM9 17H7v-7h2v7zm4 0h-2V7h2v10zm4 0h-2v-4h2v4z\"/>\n",
              "    </g>\n",
              "</svg>\n",
              "  </button>\n",
              "\n",
              "<style>\n",
              "  .colab-df-quickchart {\n",
              "      --bg-color: #E8F0FE;\n",
              "      --fill-color: #1967D2;\n",
              "      --hover-bg-color: #E2EBFA;\n",
              "      --hover-fill-color: #174EA6;\n",
              "      --disabled-fill-color: #AAA;\n",
              "      --disabled-bg-color: #DDD;\n",
              "  }\n",
              "\n",
              "  [theme=dark] .colab-df-quickchart {\n",
              "      --bg-color: #3B4455;\n",
              "      --fill-color: #D2E3FC;\n",
              "      --hover-bg-color: #434B5C;\n",
              "      --hover-fill-color: #FFFFFF;\n",
              "      --disabled-bg-color: #3B4455;\n",
              "      --disabled-fill-color: #666;\n",
              "  }\n",
              "\n",
              "  .colab-df-quickchart {\n",
              "    background-color: var(--bg-color);\n",
              "    border: none;\n",
              "    border-radius: 50%;\n",
              "    cursor: pointer;\n",
              "    display: none;\n",
              "    fill: var(--fill-color);\n",
              "    height: 32px;\n",
              "    padding: 0;\n",
              "    width: 32px;\n",
              "  }\n",
              "\n",
              "  .colab-df-quickchart:hover {\n",
              "    background-color: var(--hover-bg-color);\n",
              "    box-shadow: 0 1px 2px rgba(60, 64, 67, 0.3), 0 1px 3px 1px rgba(60, 64, 67, 0.15);\n",
              "    fill: var(--button-hover-fill-color);\n",
              "  }\n",
              "\n",
              "  .colab-df-quickchart-complete:disabled,\n",
              "  .colab-df-quickchart-complete:disabled:hover {\n",
              "    background-color: var(--disabled-bg-color);\n",
              "    fill: var(--disabled-fill-color);\n",
              "    box-shadow: none;\n",
              "  }\n",
              "\n",
              "  .colab-df-spinner {\n",
              "    border: 2px solid var(--fill-color);\n",
              "    border-color: transparent;\n",
              "    border-bottom-color: var(--fill-color);\n",
              "    animation:\n",
              "      spin 1s steps(1) infinite;\n",
              "  }\n",
              "\n",
              "  @keyframes spin {\n",
              "    0% {\n",
              "      border-color: transparent;\n",
              "      border-bottom-color: var(--fill-color);\n",
              "      border-left-color: var(--fill-color);\n",
              "    }\n",
              "    20% {\n",
              "      border-color: transparent;\n",
              "      border-left-color: var(--fill-color);\n",
              "      border-top-color: var(--fill-color);\n",
              "    }\n",
              "    30% {\n",
              "      border-color: transparent;\n",
              "      border-left-color: var(--fill-color);\n",
              "      border-top-color: var(--fill-color);\n",
              "      border-right-color: var(--fill-color);\n",
              "    }\n",
              "    40% {\n",
              "      border-color: transparent;\n",
              "      border-right-color: var(--fill-color);\n",
              "      border-top-color: var(--fill-color);\n",
              "    }\n",
              "    60% {\n",
              "      border-color: transparent;\n",
              "      border-right-color: var(--fill-color);\n",
              "    }\n",
              "    80% {\n",
              "      border-color: transparent;\n",
              "      border-right-color: var(--fill-color);\n",
              "      border-bottom-color: var(--fill-color);\n",
              "    }\n",
              "    90% {\n",
              "      border-color: transparent;\n",
              "      border-bottom-color: var(--fill-color);\n",
              "    }\n",
              "  }\n",
              "</style>\n",
              "\n",
              "  <script>\n",
              "    async function quickchart(key) {\n",
              "      const quickchartButtonEl =\n",
              "        document.querySelector('#' + key + ' button');\n",
              "      quickchartButtonEl.disabled = true;  // To prevent multiple clicks.\n",
              "      quickchartButtonEl.classList.add('colab-df-spinner');\n",
              "      try {\n",
              "        const charts = await google.colab.kernel.invokeFunction(\n",
              "            'suggestCharts', [key], {});\n",
              "      } catch (error) {\n",
              "        console.error('Error during call to suggestCharts:', error);\n",
              "      }\n",
              "      quickchartButtonEl.classList.remove('colab-df-spinner');\n",
              "      quickchartButtonEl.classList.add('colab-df-quickchart-complete');\n",
              "    }\n",
              "    (() => {\n",
              "      let quickchartButtonEl =\n",
              "        document.querySelector('#df-1ffcd6ff-a9fc-4cf6-b17e-aa04b564c3d6 button');\n",
              "      quickchartButtonEl.style.display =\n",
              "        google.colab.kernel.accessAllowed ? 'block' : 'none';\n",
              "    })();\n",
              "  </script>\n",
              "</div>\n",
              "\n",
              "    </div>\n",
              "  </div>\n"
            ],
            "application/vnd.google.colaboratory.intrinsic+json": {
              "type": "dataframe",
              "variable_name": "iris",
              "summary": "{\n  \"name\": \"iris\",\n  \"rows\": 150,\n  \"fields\": [\n    {\n      \"column\": \"sepal length\",\n      \"properties\": {\n        \"dtype\": \"number\",\n        \"std\": 0.8280661279778629,\n        \"min\": 4.3,\n        \"max\": 7.9,\n        \"num_unique_values\": 35,\n        \"samples\": [\n          6.2,\n          4.5,\n          5.6\n        ],\n        \"semantic_type\": \"\",\n        \"description\": \"\"\n      }\n    },\n    {\n      \"column\": \"sepal width\",\n      \"properties\": {\n        \"dtype\": \"number\",\n        \"std\": 0.4335943113621737,\n        \"min\": 2.0,\n        \"max\": 4.4,\n        \"num_unique_values\": 23,\n        \"samples\": [\n          2.3,\n          4.0,\n          3.5\n        ],\n        \"semantic_type\": \"\",\n        \"description\": \"\"\n      }\n    },\n    {\n      \"column\": \"petal length\",\n      \"properties\": {\n        \"dtype\": \"number\",\n        \"std\": 1.7644204199522617,\n        \"min\": 1.0,\n        \"max\": 6.9,\n        \"num_unique_values\": 43,\n        \"samples\": [\n          6.7,\n          3.8,\n          3.7\n        ],\n        \"semantic_type\": \"\",\n        \"description\": \"\"\n      }\n    },\n    {\n      \"column\": \"petal width\",\n      \"properties\": {\n        \"dtype\": \"number\",\n        \"std\": 0.7631607417008414,\n        \"min\": 0.1,\n        \"max\": 2.5,\n        \"num_unique_values\": 22,\n        \"samples\": [\n          0.2,\n          1.2,\n          1.3\n        ],\n        \"semantic_type\": \"\",\n        \"description\": \"\"\n      }\n    },\n    {\n      \"column\": \"Class\",\n      \"properties\": {\n        \"dtype\": \"category\",\n        \"num_unique_values\": 3,\n        \"samples\": [\n          \"Iris-setosa\",\n          \"Iris-versicolor\",\n          \"Iris-virginica\"\n        ],\n        \"semantic_type\": \"\",\n        \"description\": \"\"\n      }\n    }\n  ]\n}"
            }
          },
          "metadata": {},
          "execution_count": 12
        }
      ]
    },
    {
      "cell_type": "code",
      "source": [
        "# criando variável X com as colunas petal length petal width\n",
        "X_petala = iris.iloc[:, [2,3]].values\n",
        "X_petala[:10]"
      ],
      "metadata": {
        "colab": {
          "base_uri": "https://localhost:8080/"
        },
        "id": "RJBEwLI5d5Vd",
        "outputId": "f77973ab-b070-4ee9-fd61-cae068236547"
      },
      "execution_count": null,
      "outputs": [
        {
          "output_type": "execute_result",
          "data": {
            "text/plain": [
              "array([[1.4, 0.2],\n",
              "       [1.4, 0.2],\n",
              "       [1.3, 0.2],\n",
              "       [1.5, 0.2],\n",
              "       [1.4, 0.2],\n",
              "       [1.7, 0.4],\n",
              "       [1.4, 0.3],\n",
              "       [1.5, 0.2],\n",
              "       [1.4, 0.2],\n",
              "       [1.5, 0.1]])"
            ]
          },
          "metadata": {},
          "execution_count": 13
        }
      ]
    },
    {
      "cell_type": "markdown",
      "source": [
        "# Normalização de dados\n",
        "- Aplicada para preparar dados;\n",
        "- Padronização de um conjunto de dados;\n",
        "- Se não padronizar, pode ter comportamento ruim e não gerar dados de forma correta;\n",
        "![image.png](data:image/png;base64,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)"
      ],
      "metadata": {
        "id": "5TWsjXoieRpf"
      }
    },
    {
      "cell_type": "markdown",
      "source": [
        "Como o KMeans realiza os cálculos baseado na distância, devemos padronizar os dados afim de que um atributo não seja considerado mais importante que outro"
      ],
      "metadata": {
        "id": "E9pcoVNMewux"
      }
    },
    {
      "cell_type": "code",
      "source": [
        "# Nesse caso, a normalização é desnecessária pelos dados estarem na mesma escala\n",
        "normalizar_dados = StandardScaler()\n",
        "X_petala = normalizar_dados.fit_transform(X_petala)\n",
        "X_petala[:10]"
      ],
      "metadata": {
        "colab": {
          "base_uri": "https://localhost:8080/"
        },
        "id": "veRzkiCMeq2m",
        "outputId": "c4769259-821d-4eee-8ea4-50022dcedecc"
      },
      "execution_count": null,
      "outputs": [
        {
          "output_type": "execute_result",
          "data": {
            "text/plain": [
              "array([[-1.3412724 , -1.31297673],\n",
              "       [-1.3412724 , -1.31297673],\n",
              "       [-1.39813811, -1.31297673],\n",
              "       [-1.2844067 , -1.31297673],\n",
              "       [-1.3412724 , -1.31297673],\n",
              "       [-1.17067529, -1.05003079],\n",
              "       [-1.3412724 , -1.18150376],\n",
              "       [-1.2844067 , -1.31297673],\n",
              "       [-1.3412724 , -1.31297673],\n",
              "       [-1.2844067 , -1.4444497 ]])"
            ]
          },
          "metadata": {},
          "execution_count": 14
        }
      ]
    },
    {
      "cell_type": "markdown",
      "source": [
        "# Calculando número de cluster"
      ],
      "metadata": {
        "id": "M8fjnGYHe7Ag"
      }
    },
    {
      "cell_type": "markdown",
      "source": [
        "Para calcular o número do cluster, utilizar o método do cotovelo\n",
        "WCSS é a soma da distância quadrada entre cada ponto e o centróide em um cluster"
      ],
      "metadata": {
        "id": "_B2czMkBfptb"
      }
    },
    {
      "cell_type": "code",
      "source": [
        "wcss_petala = []\n",
        "for i in range(1,11):\n",
        "  kmeans_petala = KMeans(n_clusters=i, random_state=0)\n",
        "  kmeans_petala.fit(X_petala)\n",
        "  wcss_petala.append(kmeans_petala.inertia_)"
      ],
      "metadata": {
        "id": "8VOVmX0Oe-BF"
      },
      "execution_count": null,
      "outputs": []
    },
    {
      "cell_type": "code",
      "source": [
        "# visualizando valores de wcss\n",
        "for i in range(len(wcss_petala)):\n",
        "  print('Cluster:', i, '- Valor do WCSS:', wcss_petala[i])"
      ],
      "metadata": {
        "colab": {
          "base_uri": "https://localhost:8080/"
        },
        "id": "lnc4i_4DgxQ2",
        "outputId": "cac387bc-6444-4e03-8a0d-efb638595f6c"
      },
      "execution_count": null,
      "outputs": [
        {
          "output_type": "stream",
          "name": "stdout",
          "text": [
            "Cluster: 0 - Valor do WCSS: 300.0000000000001\n",
            "Cluster: 1 - Valor do WCSS: 54.14584701344988\n",
            "Cluster: 2 - Valor do WCSS: 18.046983891906265\n",
            "Cluster: 3 - Valor do WCSS: 12.307440251261838\n",
            "Cluster: 4 - Valor do WCSS: 9.192414757507374\n",
            "Cluster: 5 - Valor do WCSS: 7.227887553963048\n",
            "Cluster: 6 - Valor do WCSS: 6.699766804805106\n",
            "Cluster: 7 - Valor do WCSS: 6.200345405305922\n",
            "Cluster: 8 - Valor do WCSS: 4.93665777737511\n",
            "Cluster: 9 - Valor do WCSS: 4.533503232466192\n"
          ]
        }
      ]
    },
    {
      "cell_type": "markdown",
      "source": [
        "# Definindo melhor número de clusters para as pétalas"
      ],
      "metadata": {
        "id": "TkIzsa1fg6l3"
      }
    },
    {
      "cell_type": "code",
      "source": [
        "grafico_cotovelo_petala = px.line(x=range(1,11), y=wcss_petala, title='Definindo número de Clusters')\n",
        "grafico_cotovelo_petala.update_layout(xaxis_title='Número de clusters', yaxis_title='Valor de WCSS')\n",
        "grafico_cotovelo_petala.update_layout(title_x=0.5)\n",
        "grafico_cotovelo_petala.show()"
      ],
      "metadata": {
        "colab": {
          "base_uri": "https://localhost:8080/",
          "height": 542
        },
        "id": "eDaszrmxg-gc",
        "outputId": "4af95f21-7872-4910-df0c-7681d2be2108"
      },
      "execution_count": null,
      "outputs": [
        {
          "output_type": "display_data",
          "data": {
            "text/html": [
              "<html>\n",
              "<head><meta charset=\"utf-8\" /></head>\n",
              "<body>\n",
              "    <div>            <script src=\"https://cdnjs.cloudflare.com/ajax/libs/mathjax/2.7.5/MathJax.js?config=TeX-AMS-MML_SVG\"></script><script type=\"text/javascript\">if (window.MathJax && window.MathJax.Hub && window.MathJax.Hub.Config) {window.MathJax.Hub.Config({SVG: {font: \"STIX-Web\"}});}</script>                <script type=\"text/javascript\">window.PlotlyConfig = {MathJaxConfig: 'local'};</script>\n",
              "        <script charset=\"utf-8\" src=\"https://cdn.plot.ly/plotly-2.35.2.min.js\"></script>                <div id=\"8fbfeb52-aa40-498f-8407-12503c59f77e\" class=\"plotly-graph-div\" style=\"height:525px; width:100%;\"></div>            <script type=\"text/javascript\">                                    window.PLOTLYENV=window.PLOTLYENV || {};                                    if (document.getElementById(\"8fbfeb52-aa40-498f-8407-12503c59f77e\")) {                    Plotly.newPlot(                        \"8fbfeb52-aa40-498f-8407-12503c59f77e\",                        [{\"hovertemplate\":\"x=%{x}\\u003cbr\\u003ey=%{y}\\u003cextra\\u003e\\u003c\\u002fextra\\u003e\",\"legendgroup\":\"\",\"line\":{\"color\":\"#636efa\",\"dash\":\"solid\"},\"marker\":{\"symbol\":\"circle\"},\"mode\":\"lines\",\"name\":\"\",\"orientation\":\"v\",\"showlegend\":false,\"x\":[1,2,3,4,5,6,7,8,9,10],\"xaxis\":\"x\",\"y\":[300.0000000000001,54.14584701344988,18.046983891906265,12.307440251261838,9.192414757507374,7.227887553963048,6.699766804805106,6.200345405305922,4.93665777737511,4.533503232466192],\"yaxis\":\"y\",\"type\":\"scatter\"}],                        {\"template\":{\"data\":{\"histogram2dcontour\":[{\"type\":\"histogram2dcontour\",\"colorbar\":{\"outlinewidth\":0,\"ticks\":\"\"},\"colorscale\":[[0.0,\"#0d0887\"],[0.1111111111111111,\"#46039f\"],[0.2222222222222222,\"#7201a8\"],[0.3333333333333333,\"#9c179e\"],[0.4444444444444444,\"#bd3786\"],[0.5555555555555556,\"#d8576b\"],[0.6666666666666666,\"#ed7953\"],[0.7777777777777778,\"#fb9f3a\"],[0.8888888888888888,\"#fdca26\"],[1.0,\"#f0f921\"]]}],\"choropleth\":[{\"type\":\"choropleth\",\"colorbar\":{\"outlinewidth\":0,\"ticks\":\"\"}}],\"histogram2d\":[{\"type\":\"histogram2d\",\"colorbar\":{\"outlinewidth\":0,\"ticks\":\"\"},\"colorscale\":[[0.0,\"#0d0887\"],[0.1111111111111111,\"#46039f\"],[0.2222222222222222,\"#7201a8\"],[0.3333333333333333,\"#9c179e\"],[0.4444444444444444,\"#bd3786\"],[0.5555555555555556,\"#d8576b\"],[0.6666666666666666,\"#ed7953\"],[0.7777777777777778,\"#fb9f3a\"],[0.8888888888888888,\"#fdca26\"],[1.0,\"#f0f921\"]]}],\"heatmap\":[{\"type\":\"heatmap\",\"colorbar\":{\"outlinewidth\":0,\"ticks\":\"\"},\"colorscale\":[[0.0,\"#0d0887\"],[0.1111111111111111,\"#46039f\"],[0.2222222222222222,\"#7201a8\"],[0.3333333333333333,\"#9c179e\"],[0.4444444444444444,\"#bd3786\"],[0.5555555555555556,\"#d8576b\"],[0.6666666666666666,\"#ed7953\"],[0.7777777777777778,\"#fb9f3a\"],[0.8888888888888888,\"#fdca26\"],[1.0,\"#f0f921\"]]}],\"heatmapgl\":[{\"type\":\"heatmapgl\",\"colorbar\":{\"outlinewidth\":0,\"ticks\":\"\"},\"colorscale\":[[0.0,\"#0d0887\"],[0.1111111111111111,\"#46039f\"],[0.2222222222222222,\"#7201a8\"],[0.3333333333333333,\"#9c179e\"],[0.4444444444444444,\"#bd3786\"],[0.5555555555555556,\"#d8576b\"],[0.6666666666666666,\"#ed7953\"],[0.7777777777777778,\"#fb9f3a\"],[0.8888888888888888,\"#fdca26\"],[1.0,\"#f0f921\"]]}],\"contourcarpet\":[{\"type\":\"contourcarpet\",\"colorbar\":{\"outlinewidth\":0,\"ticks\":\"\"}}],\"contour\":[{\"type\":\"contour\",\"colorbar\":{\"outlinewidth\":0,\"ticks\":\"\"},\"colorscale\":[[0.0,\"#0d0887\"],[0.1111111111111111,\"#46039f\"],[0.2222222222222222,\"#7201a8\"],[0.3333333333333333,\"#9c179e\"],[0.4444444444444444,\"#bd3786\"],[0.5555555555555556,\"#d8576b\"],[0.6666666666666666,\"#ed7953\"],[0.7777777777777778,\"#fb9f3a\"],[0.8888888888888888,\"#fdca26\"],[1.0,\"#f0f921\"]]}],\"surface\":[{\"type\":\"surface\",\"colorbar\":{\"outlinewidth\":0,\"ticks\":\"\"},\"colorscale\":[[0.0,\"#0d0887\"],[0.1111111111111111,\"#46039f\"],[0.2222222222222222,\"#7201a8\"],[0.3333333333333333,\"#9c179e\"],[0.4444444444444444,\"#bd3786\"],[0.5555555555555556,\"#d8576b\"],[0.6666666666666666,\"#ed7953\"],[0.7777777777777778,\"#fb9f3a\"],[0.8888888888888888,\"#fdca26\"],[1.0,\"#f0f921\"]]}],\"mesh3d\":[{\"type\":\"mesh3d\",\"colorbar\":{\"outlinewidth\":0,\"ticks\":\"\"}}],\"scatter\":[{\"fillpattern\":{\"fillmode\":\"overlay\",\"size\":10,\"solidity\":0.2},\"type\":\"scatter\"}],\"parcoords\":[{\"type\":\"parcoords\",\"line\":{\"colorbar\":{\"outlinewidth\":0,\"ticks\":\"\"}}}],\"scatterpolargl\":[{\"type\":\"scatterpolargl\",\"marker\":{\"colorbar\":{\"outlinewidth\":0,\"ticks\":\"\"}}}],\"bar\":[{\"error_x\":{\"color\":\"#2a3f5f\"},\"error_y\":{\"color\":\"#2a3f5f\"},\"marker\":{\"line\":{\"color\":\"#E5ECF6\",\"width\":0.5},\"pattern\":{\"fillmode\":\"overlay\",\"size\":10,\"solidity\":0.2}},\"type\":\"bar\"}],\"scattergeo\":[{\"type\":\"scattergeo\",\"marker\":{\"colorbar\":{\"outlinewidth\":0,\"ticks\":\"\"}}}],\"scatterpolar\":[{\"type\":\"scatterpolar\",\"marker\":{\"colorbar\":{\"outlinewidth\":0,\"ticks\":\"\"}}}],\"histogram\":[{\"marker\":{\"pattern\":{\"fillmode\":\"overlay\",\"size\":10,\"solidity\":0.2}},\"type\":\"histogram\"}],\"scattergl\":[{\"type\":\"scattergl\",\"marker\":{\"colorbar\":{\"outlinewidth\":0,\"ticks\":\"\"}}}],\"scatter3d\":[{\"type\":\"scatter3d\",\"line\":{\"colorbar\":{\"outlinewidth\":0,\"ticks\":\"\"}},\"marker\":{\"colorbar\":{\"outlinewidth\":0,\"ticks\":\"\"}}}],\"scattermapbox\":[{\"type\":\"scattermapbox\",\"marker\":{\"colorbar\":{\"outlinewidth\":0,\"ticks\":\"\"}}}],\"scatterternary\":[{\"type\":\"scatterternary\",\"marker\":{\"colorbar\":{\"outlinewidth\":0,\"ticks\":\"\"}}}],\"scattercarpet\":[{\"type\":\"scattercarpet\",\"marker\":{\"colorbar\":{\"outlinewidth\":0,\"ticks\":\"\"}}}],\"carpet\":[{\"aaxis\":{\"endlinecolor\":\"#2a3f5f\",\"gridcolor\":\"white\",\"linecolor\":\"white\",\"minorgridcolor\":\"white\",\"startlinecolor\":\"#2a3f5f\"},\"baxis\":{\"endlinecolor\":\"#2a3f5f\",\"gridcolor\":\"white\",\"linecolor\":\"white\",\"minorgridcolor\":\"white\",\"startlinecolor\":\"#2a3f5f\"},\"type\":\"carpet\"}],\"table\":[{\"cells\":{\"fill\":{\"color\":\"#EBF0F8\"},\"line\":{\"color\":\"white\"}},\"header\":{\"fill\":{\"color\":\"#C8D4E3\"},\"line\":{\"color\":\"white\"}},\"type\":\"table\"}],\"barpolar\":[{\"marker\":{\"line\":{\"color\":\"#E5ECF6\",\"width\":0.5},\"pattern\":{\"fillmode\":\"overlay\",\"size\":10,\"solidity\":0.2}},\"type\":\"barpolar\"}],\"pie\":[{\"automargin\":true,\"type\":\"pie\"}]},\"layout\":{\"autotypenumbers\":\"strict\",\"colorway\":[\"#636efa\",\"#EF553B\",\"#00cc96\",\"#ab63fa\",\"#FFA15A\",\"#19d3f3\",\"#FF6692\",\"#B6E880\",\"#FF97FF\",\"#FECB52\"],\"font\":{\"color\":\"#2a3f5f\"},\"hovermode\":\"closest\",\"hoverlabel\":{\"align\":\"left\"},\"paper_bgcolor\":\"white\",\"plot_bgcolor\":\"#E5ECF6\",\"polar\":{\"bgcolor\":\"#E5ECF6\",\"angularaxis\":{\"gridcolor\":\"white\",\"linecolor\":\"white\",\"ticks\":\"\"},\"radialaxis\":{\"gridcolor\":\"white\",\"linecolor\":\"white\",\"ticks\":\"\"}},\"ternary\":{\"bgcolor\":\"#E5ECF6\",\"aaxis\":{\"gridcolor\":\"white\",\"linecolor\":\"white\",\"ticks\":\"\"},\"baxis\":{\"gridcolor\":\"white\",\"linecolor\":\"white\",\"ticks\":\"\"},\"caxis\":{\"gridcolor\":\"white\",\"linecolor\":\"white\",\"ticks\":\"\"}},\"coloraxis\":{\"colorbar\":{\"outlinewidth\":0,\"ticks\":\"\"}},\"colorscale\":{\"sequential\":[[0.0,\"#0d0887\"],[0.1111111111111111,\"#46039f\"],[0.2222222222222222,\"#7201a8\"],[0.3333333333333333,\"#9c179e\"],[0.4444444444444444,\"#bd3786\"],[0.5555555555555556,\"#d8576b\"],[0.6666666666666666,\"#ed7953\"],[0.7777777777777778,\"#fb9f3a\"],[0.8888888888888888,\"#fdca26\"],[1.0,\"#f0f921\"]],\"sequentialminus\":[[0.0,\"#0d0887\"],[0.1111111111111111,\"#46039f\"],[0.2222222222222222,\"#7201a8\"],[0.3333333333333333,\"#9c179e\"],[0.4444444444444444,\"#bd3786\"],[0.5555555555555556,\"#d8576b\"],[0.6666666666666666,\"#ed7953\"],[0.7777777777777778,\"#fb9f3a\"],[0.8888888888888888,\"#fdca26\"],[1.0,\"#f0f921\"]],\"diverging\":[[0,\"#8e0152\"],[0.1,\"#c51b7d\"],[0.2,\"#de77ae\"],[0.3,\"#f1b6da\"],[0.4,\"#fde0ef\"],[0.5,\"#f7f7f7\"],[0.6,\"#e6f5d0\"],[0.7,\"#b8e186\"],[0.8,\"#7fbc41\"],[0.9,\"#4d9221\"],[1,\"#276419\"]]},\"xaxis\":{\"gridcolor\":\"white\",\"linecolor\":\"white\",\"ticks\":\"\",\"title\":{\"standoff\":15},\"zerolinecolor\":\"white\",\"automargin\":true,\"zerolinewidth\":2},\"yaxis\":{\"gridcolor\":\"white\",\"linecolor\":\"white\",\"ticks\":\"\",\"title\":{\"standoff\":15},\"zerolinecolor\":\"white\",\"automargin\":true,\"zerolinewidth\":2},\"scene\":{\"xaxis\":{\"backgroundcolor\":\"#E5ECF6\",\"gridcolor\":\"white\",\"linecolor\":\"white\",\"showbackground\":true,\"ticks\":\"\",\"zerolinecolor\":\"white\",\"gridwidth\":2},\"yaxis\":{\"backgroundcolor\":\"#E5ECF6\",\"gridcolor\":\"white\",\"linecolor\":\"white\",\"showbackground\":true,\"ticks\":\"\",\"zerolinecolor\":\"white\",\"gridwidth\":2},\"zaxis\":{\"backgroundcolor\":\"#E5ECF6\",\"gridcolor\":\"white\",\"linecolor\":\"white\",\"showbackground\":true,\"ticks\":\"\",\"zerolinecolor\":\"white\",\"gridwidth\":2}},\"shapedefaults\":{\"line\":{\"color\":\"#2a3f5f\"}},\"annotationdefaults\":{\"arrowcolor\":\"#2a3f5f\",\"arrowhead\":0,\"arrowwidth\":1},\"geo\":{\"bgcolor\":\"white\",\"landcolor\":\"#E5ECF6\",\"subunitcolor\":\"white\",\"showland\":true,\"showlakes\":true,\"lakecolor\":\"white\"},\"title\":{\"x\":0.05},\"mapbox\":{\"style\":\"light\"}}},\"xaxis\":{\"anchor\":\"y\",\"domain\":[0.0,1.0],\"title\":{\"text\":\"Número de clusters\"}},\"yaxis\":{\"anchor\":\"x\",\"domain\":[0.0,1.0],\"title\":{\"text\":\"Valor de WCSS\"}},\"legend\":{\"tracegroupgap\":0},\"title\":{\"text\":\"Definindo número de Clusters\",\"x\":0.5}},                        {\"responsive\": true}                    ).then(function(){\n",
              "                            \n",
              "var gd = document.getElementById('8fbfeb52-aa40-498f-8407-12503c59f77e');\n",
              "var x = new MutationObserver(function (mutations, observer) {{\n",
              "        var display = window.getComputedStyle(gd).display;\n",
              "        if (!display || display === 'none') {{\n",
              "            console.log([gd, 'removed!']);\n",
              "            Plotly.purge(gd);\n",
              "            observer.disconnect();\n",
              "        }}\n",
              "}});\n",
              "\n",
              "// Listen for the removal of the full notebook cells\n",
              "var notebookContainer = gd.closest('#notebook-container');\n",
              "if (notebookContainer) {{\n",
              "    x.observe(notebookContainer, {childList: true});\n",
              "}}\n",
              "\n",
              "// Listen for the clearing of the current output cell\n",
              "var outputEl = gd.closest('.output');\n",
              "if (outputEl) {{\n",
              "    x.observe(outputEl, {childList: true});\n",
              "}}\n",
              "\n",
              "                        })                };                            </script>        </div>\n",
              "</body>\n",
              "</html>"
            ]
          },
          "metadata": {}
        }
      ]
    },
    {
      "cell_type": "markdown",
      "source": [
        "# Executando o algoritmo K-means para as pétalas"
      ],
      "metadata": {
        "id": "xDO41BAgjG83"
      }
    },
    {
      "cell_type": "code",
      "source": [
        "# Executando algoritmo K-means para pétalas\n",
        "kmeans_petala = KMeans(n_clusters=3, random_state=0)\n",
        "label_cluster_petala = kmeans_petala.fit_predict(X_petala)"
      ],
      "metadata": {
        "id": "pdrNehfIjKWU"
      },
      "execution_count": null,
      "outputs": []
    },
    {
      "cell_type": "code",
      "source": [
        "# Verifica a classificação dos clusters\n",
        "label_cluster_petala"
      ],
      "metadata": {
        "colab": {
          "base_uri": "https://localhost:8080/"
        },
        "id": "4masGqSgjaTH",
        "outputId": "f750de44-0064-4d6d-8e3f-f434ec4397cd"
      },
      "execution_count": null,
      "outputs": [
        {
          "output_type": "execute_result",
          "data": {
            "text/plain": [
              "array([1, 1, 1, 1, 1, 1, 1, 1, 1, 1, 1, 1, 1, 1, 1, 1, 1, 1, 1, 1, 1, 1,\n",
              "       1, 1, 1, 1, 1, 1, 1, 1, 1, 1, 1, 1, 1, 1, 1, 1, 1, 1, 1, 1, 1, 1,\n",
              "       1, 1, 1, 1, 1, 1, 0, 0, 0, 0, 0, 0, 0, 0, 0, 0, 0, 0, 0, 0, 0, 0,\n",
              "       0, 0, 0, 0, 2, 0, 0, 0, 0, 0, 0, 2, 0, 0, 0, 0, 0, 0, 0, 0, 0, 0,\n",
              "       0, 0, 0, 0, 0, 0, 0, 0, 0, 0, 0, 0, 2, 2, 2, 2, 2, 2, 0, 2, 2, 2,\n",
              "       2, 2, 2, 2, 2, 2, 2, 2, 2, 0, 2, 2, 2, 2, 2, 2, 2, 2, 2, 2, 2, 2,\n",
              "       2, 0, 0, 2, 2, 2, 2, 2, 2, 2, 2, 2, 2, 2, 2, 2, 2, 2], dtype=int32)"
            ]
          },
          "metadata": {},
          "execution_count": 19
        }
      ]
    },
    {
      "cell_type": "markdown",
      "source": [
        "# Visualizando o centroides de cada cluster"
      ],
      "metadata": {
        "id": "wbDC6ljxjfiY"
      }
    },
    {
      "cell_type": "code",
      "source": [
        "# Visualizando centroide\n",
        "centroide_petala = kmeans_petala.cluster_centers_\n",
        "centroide_petala"
      ],
      "metadata": {
        "colab": {
          "base_uri": "https://localhost:8080/"
        },
        "id": "rqgEZVtHjhmd",
        "outputId": "6d36f7c6-75dd-4406-eb46-bd8bb950922f"
      },
      "execution_count": null,
      "outputs": [
        {
          "output_type": "execute_result",
          "data": {
            "text/plain": [
              "array([[ 0.30564587,  0.16609419],\n",
              "       [-1.30487835, -1.25512862],\n",
              "       [ 1.02813193,  1.12749028]])"
            ]
          },
          "metadata": {},
          "execution_count": 20
        }
      ]
    },
    {
      "cell_type": "markdown",
      "source": [
        "# Visualizando dados agrupados com dados das pétalas"
      ],
      "metadata": {
        "id": "cdAyIQyLjlBf"
      }
    },
    {
      "cell_type": "code",
      "source": [
        "# Visualizando dados agrupados com dados das pétalas\n",
        "grafico_petala = px.scatter(x=X_petala[:,0], y=X_petala[:,1], color = label_cluster_petala)\n",
        "grafico_centroide = px.scatter( x = centroide_petala[:,0], y = centroide_petala[:,1], size=[7,7,7])\n",
        "grafico_final = go.Figure(data=grafico_petala.data + grafico_centroide.data)\n",
        "grafico_final.update_layout(title='Agrupamento das pétalas')\n",
        "grafico_final.show()"
      ],
      "metadata": {
        "colab": {
          "base_uri": "https://localhost:8080/",
          "height": 542
        },
        "id": "jXqE6K2Ejn8d",
        "outputId": "daca67ae-43a3-4eea-e1ff-3662b330bace"
      },
      "execution_count": null,
      "outputs": [
        {
          "output_type": "display_data",
          "data": {
            "text/html": [
              "<html>\n",
              "<head><meta charset=\"utf-8\" /></head>\n",
              "<body>\n",
              "    <div>            <script src=\"https://cdnjs.cloudflare.com/ajax/libs/mathjax/2.7.5/MathJax.js?config=TeX-AMS-MML_SVG\"></script><script type=\"text/javascript\">if (window.MathJax && window.MathJax.Hub && window.MathJax.Hub.Config) {window.MathJax.Hub.Config({SVG: {font: \"STIX-Web\"}});}</script>                <script type=\"text/javascript\">window.PlotlyConfig = {MathJaxConfig: 'local'};</script>\n",
              "        <script charset=\"utf-8\" src=\"https://cdn.plot.ly/plotly-2.35.2.min.js\"></script>                <div id=\"7a4b2200-b532-422a-9792-3c675fc80bbf\" class=\"plotly-graph-div\" style=\"height:525px; width:100%;\"></div>            <script type=\"text/javascript\">                                    window.PLOTLYENV=window.PLOTLYENV || {};                                    if (document.getElementById(\"7a4b2200-b532-422a-9792-3c675fc80bbf\")) {                    Plotly.newPlot(                        \"7a4b2200-b532-422a-9792-3c675fc80bbf\",                        [{\"hovertemplate\":\"x=%{x}\\u003cbr\\u003ey=%{y}\\u003cbr\\u003ecolor=%{marker.color}\\u003cextra\\u003e\\u003c\\u002fextra\\u003e\",\"legendgroup\":\"\",\"marker\":{\"color\":[1,1,1,1,1,1,1,1,1,1,1,1,1,1,1,1,1,1,1,1,1,1,1,1,1,1,1,1,1,1,1,1,1,1,1,1,1,1,1,1,1,1,1,1,1,1,1,1,1,1,0,0,0,0,0,0,0,0,0,0,0,0,0,0,0,0,0,0,0,0,2,0,0,0,0,0,0,2,0,0,0,0,0,0,0,0,0,0,0,0,0,0,0,0,0,0,0,0,0,0,2,2,2,2,2,2,0,2,2,2,2,2,2,2,2,2,2,2,2,0,2,2,2,2,2,2,2,2,2,2,2,2,2,0,0,2,2,2,2,2,2,2,2,2,2,2,2,2,2,2],\"coloraxis\":\"coloraxis\",\"symbol\":\"circle\"},\"mode\":\"markers\",\"name\":\"\",\"orientation\":\"v\",\"showlegend\":false,\"x\":[-1.3412724047598314,-1.3412724047598314,-1.3981381087490836,-1.284406700770579,-1.3412724047598314,-1.1706752927920745,-1.3412724047598314,-1.284406700770579,-1.3412724047598314,-1.284406700770579,-1.284406700770579,-1.2275409967813267,-1.3412724047598314,-1.5118695167275884,-1.4550038127383362,-1.284406700770579,-1.3981381087490836,-1.3412724047598314,-1.1706752927920745,-1.284406700770579,-1.1706752927920745,-1.284406700770579,-1.5687352207168408,-1.1706752927920745,-1.05694388481357,-1.2275409967813267,-1.2275409967813267,-1.284406700770579,-1.3412724047598314,-1.2275409967813267,-1.2275409967813267,-1.284406700770579,-1.284406700770579,-1.3412724047598314,-1.284406700770579,-1.4550038127383362,-1.3981381087490836,-1.284406700770579,-1.3981381087490836,-1.284406700770579,-1.3981381087490836,-1.3981381087490836,-1.3981381087490836,-1.2275409967813267,-1.05694388481357,-1.3412724047598314,-1.2275409967813267,-1.3412724047598314,-1.284406700770579,-1.3412724047598314,0.5352958268854957,0.4215644189069909,0.6490272348640005,0.13723589896072927,0.4784301228962431,0.4215644189069909,0.5352958268854957,-0.26082402896403717,0.4784301228962431,0.08037019497147688,-0.1470926209855324,0.250967306939234,0.13723589896072927,0.5352958268854957,-0.09022691699628003,0.3646987149177388,0.4215644189069909,0.19410160294998138,0.4215644189069909,0.08037019497147688,0.5921615308747479,0.13723589896072927,0.6490272348640005,0.5352958268854957,0.30783301092848614,0.3646987149177388,0.5921615308747479,0.7058929388532527,0.4215644189069909,-0.1470926209855324,0.02350449098222449,-0.03336121300702764,0.08037019497147688,0.7627586428425047,0.4215644189069909,0.4215644189069909,0.5352958268854957,0.3646987149177388,0.19410160294998138,0.13723589896072927,0.3646987149177388,0.4784301228962431,0.13723589896072927,-0.26082402896403717,0.250967306939234,0.250967306939234,0.250967306939234,0.30783301092848614,-0.43142114093179407,0.19410160294998138,1.274549978745776,0.7627586428425047,1.2176842747565237,1.0470871627887663,1.1608185707672711,1.6157442026812898,0.4215644189069909,1.4451470907135329,1.1608185707672711,1.331415682735028,0.7627586428425047,0.8764900508210095,0.9902214587995143,0.7058929388532527,0.7627586428425047,0.8764900508210095,0.9902214587995143,1.6726099066705424,1.7863413146490472,0.7058929388532527,1.103952866778019,0.6490272348640005,1.6726099066705424,0.6490272348640005,1.103952866778019,1.274549978745776,0.5921615308747479,0.6490272348640005,1.0470871627887663,1.1608185707672711,1.331415682735028,1.5020127947027855,1.0470871627887663,0.7627586428425047,1.0470871627887663,1.331415682735028,1.0470871627887663,0.9902214587995143,0.5921615308747479,0.9333557548102621,1.0470871627887663,0.7627586428425047,0.7627586428425047,1.2176842747565237,1.103952866778019,0.8196243468317573,0.7058929388532527,0.8196243468317573,0.9333557548102621,0.7627586428425047],\"xaxis\":\"x\",\"y\":[-1.3129767272601454,-1.3129767272601454,-1.3129767272601454,-1.3129767272601454,-1.3129767272601454,-1.0500307872213979,-1.1815037572407716,-1.3129767272601454,-1.3129767272601454,-1.4444496972795189,-1.3129767272601454,-1.3129767272601454,-1.4444496972795189,-1.4444496972795189,-1.3129767272601454,-1.0500307872213979,-1.0500307872213979,-1.1815037572407716,-1.1815037572407716,-1.1815037572407716,-1.3129767272601454,-1.0500307872213979,-1.3129767272601454,-0.9185578172020242,-1.3129767272601454,-1.3129767272601454,-1.0500307872213979,-1.3129767272601454,-1.3129767272601454,-1.3129767272601454,-1.3129767272601454,-1.0500307872213979,-1.4444496972795189,-1.3129767272601454,-1.4444496972795189,-1.3129767272601454,-1.3129767272601454,-1.4444496972795189,-1.3129767272601454,-1.3129767272601454,-1.1815037572407716,-1.1815037572407716,-1.3129767272601454,-0.7870848471826506,-1.0500307872213979,-1.1815037572407716,-1.3129767272601454,-1.3129767272601454,-1.3129767272601454,-1.3129767272601454,0.2646989129723388,0.3961718829917126,0.3961718829917126,0.13322594295296525,0.3961718829917126,0.13322594295296525,0.5276448530110863,-0.2611929671051558,0.13322594295296525,0.2646989129723388,-0.2611929671051558,0.3961718829917126,-0.2611929671051558,0.2646989129723388,0.13322594295296525,0.2646989129723388,0.3961718829917126,-0.2611929671051558,0.3961718829917126,-0.12971999708578205,0.7905907930498337,0.13322594295296525,0.3961718829917126,0.001752972933591456,0.13322594295296525,0.2646989129723388,0.2646989129723388,0.6591178230304598,0.3961718829917126,-0.2611929671051558,-0.12971999708578205,-0.2611929671051558,0.001752972933591456,0.5276448530110863,0.3961718829917126,0.5276448530110863,0.3961718829917126,0.13322594295296525,0.13322594295296525,0.13322594295296525,0.001752972933591456,0.2646989129723388,0.001752972933591456,-0.2611929671051558,0.13322594295296525,0.001752972933591456,0.13322594295296525,0.13322594295296525,-0.12971999708578205,0.13322594295296525,1.7109015831854495,0.9220637630692072,1.1850097031079547,0.7905907930498337,1.3164826731273285,1.1850097031079547,0.6591178230304598,0.7905907930498337,0.7905907930498337,1.7109015831854495,1.053536733088581,0.9220637630692072,1.1850097031079547,1.053536733088581,1.5794286131660755,1.4479556431467018,0.7905907930498337,1.3164826731273285,1.4479556431467018,0.3961718829917126,1.4479556431467018,1.053536733088581,1.053536733088581,0.7905907930498337,1.1850097031079547,0.7905907930498337,0.7905907930498337,0.7905907930498337,1.1850097031079547,0.5276448530110863,0.9220637630692072,1.053536733088581,1.3164826731273285,0.3961718829917126,0.2646989129723388,1.4479556431467018,1.5794286131660755,0.7905907930498337,0.7905907930498337,1.1850097031079547,1.5794286131660755,1.4479556431467018,0.9220637630692072,1.4479556431467018,1.7109015831854495,1.4479556431467018,0.9220637630692072,1.053536733088581,1.4479556431467018,0.7905907930498337],\"yaxis\":\"y\",\"type\":\"scatter\"},{\"hovertemplate\":\"x=%{x}\\u003cbr\\u003ey=%{y}\\u003cbr\\u003esize=%{marker.size}\\u003cextra\\u003e\\u003c\\u002fextra\\u003e\",\"legendgroup\":\"\",\"marker\":{\"color\":\"#636efa\",\"size\":[7,7,7],\"sizemode\":\"area\",\"sizeref\":0.0175,\"symbol\":\"circle\"},\"mode\":\"markers\",\"name\":\"\",\"orientation\":\"v\",\"showlegend\":false,\"x\":[0.3056458684673612,-1.3048783542067108,1.0281319281256824],\"xaxis\":\"x\",\"y\":[0.16609418545780852,-1.2551286204516217,1.127490278724478],\"yaxis\":\"y\",\"type\":\"scatter\"}],                        {\"template\":{\"data\":{\"histogram2dcontour\":[{\"type\":\"histogram2dcontour\",\"colorbar\":{\"outlinewidth\":0,\"ticks\":\"\"},\"colorscale\":[[0.0,\"#0d0887\"],[0.1111111111111111,\"#46039f\"],[0.2222222222222222,\"#7201a8\"],[0.3333333333333333,\"#9c179e\"],[0.4444444444444444,\"#bd3786\"],[0.5555555555555556,\"#d8576b\"],[0.6666666666666666,\"#ed7953\"],[0.7777777777777778,\"#fb9f3a\"],[0.8888888888888888,\"#fdca26\"],[1.0,\"#f0f921\"]]}],\"choropleth\":[{\"type\":\"choropleth\",\"colorbar\":{\"outlinewidth\":0,\"ticks\":\"\"}}],\"histogram2d\":[{\"type\":\"histogram2d\",\"colorbar\":{\"outlinewidth\":0,\"ticks\":\"\"},\"colorscale\":[[0.0,\"#0d0887\"],[0.1111111111111111,\"#46039f\"],[0.2222222222222222,\"#7201a8\"],[0.3333333333333333,\"#9c179e\"],[0.4444444444444444,\"#bd3786\"],[0.5555555555555556,\"#d8576b\"],[0.6666666666666666,\"#ed7953\"],[0.7777777777777778,\"#fb9f3a\"],[0.8888888888888888,\"#fdca26\"],[1.0,\"#f0f921\"]]}],\"heatmap\":[{\"type\":\"heatmap\",\"colorbar\":{\"outlinewidth\":0,\"ticks\":\"\"},\"colorscale\":[[0.0,\"#0d0887\"],[0.1111111111111111,\"#46039f\"],[0.2222222222222222,\"#7201a8\"],[0.3333333333333333,\"#9c179e\"],[0.4444444444444444,\"#bd3786\"],[0.5555555555555556,\"#d8576b\"],[0.6666666666666666,\"#ed7953\"],[0.7777777777777778,\"#fb9f3a\"],[0.8888888888888888,\"#fdca26\"],[1.0,\"#f0f921\"]]}],\"heatmapgl\":[{\"type\":\"heatmapgl\",\"colorbar\":{\"outlinewidth\":0,\"ticks\":\"\"},\"colorscale\":[[0.0,\"#0d0887\"],[0.1111111111111111,\"#46039f\"],[0.2222222222222222,\"#7201a8\"],[0.3333333333333333,\"#9c179e\"],[0.4444444444444444,\"#bd3786\"],[0.5555555555555556,\"#d8576b\"],[0.6666666666666666,\"#ed7953\"],[0.7777777777777778,\"#fb9f3a\"],[0.8888888888888888,\"#fdca26\"],[1.0,\"#f0f921\"]]}],\"contourcarpet\":[{\"type\":\"contourcarpet\",\"colorbar\":{\"outlinewidth\":0,\"ticks\":\"\"}}],\"contour\":[{\"type\":\"contour\",\"colorbar\":{\"outlinewidth\":0,\"ticks\":\"\"},\"colorscale\":[[0.0,\"#0d0887\"],[0.1111111111111111,\"#46039f\"],[0.2222222222222222,\"#7201a8\"],[0.3333333333333333,\"#9c179e\"],[0.4444444444444444,\"#bd3786\"],[0.5555555555555556,\"#d8576b\"],[0.6666666666666666,\"#ed7953\"],[0.7777777777777778,\"#fb9f3a\"],[0.8888888888888888,\"#fdca26\"],[1.0,\"#f0f921\"]]}],\"surface\":[{\"type\":\"surface\",\"colorbar\":{\"outlinewidth\":0,\"ticks\":\"\"},\"colorscale\":[[0.0,\"#0d0887\"],[0.1111111111111111,\"#46039f\"],[0.2222222222222222,\"#7201a8\"],[0.3333333333333333,\"#9c179e\"],[0.4444444444444444,\"#bd3786\"],[0.5555555555555556,\"#d8576b\"],[0.6666666666666666,\"#ed7953\"],[0.7777777777777778,\"#fb9f3a\"],[0.8888888888888888,\"#fdca26\"],[1.0,\"#f0f921\"]]}],\"mesh3d\":[{\"type\":\"mesh3d\",\"colorbar\":{\"outlinewidth\":0,\"ticks\":\"\"}}],\"scatter\":[{\"fillpattern\":{\"fillmode\":\"overlay\",\"size\":10,\"solidity\":0.2},\"type\":\"scatter\"}],\"parcoords\":[{\"type\":\"parcoords\",\"line\":{\"colorbar\":{\"outlinewidth\":0,\"ticks\":\"\"}}}],\"scatterpolargl\":[{\"type\":\"scatterpolargl\",\"marker\":{\"colorbar\":{\"outlinewidth\":0,\"ticks\":\"\"}}}],\"bar\":[{\"error_x\":{\"color\":\"#2a3f5f\"},\"error_y\":{\"color\":\"#2a3f5f\"},\"marker\":{\"line\":{\"color\":\"#E5ECF6\",\"width\":0.5},\"pattern\":{\"fillmode\":\"overlay\",\"size\":10,\"solidity\":0.2}},\"type\":\"bar\"}],\"scattergeo\":[{\"type\":\"scattergeo\",\"marker\":{\"colorbar\":{\"outlinewidth\":0,\"ticks\":\"\"}}}],\"scatterpolar\":[{\"type\":\"scatterpolar\",\"marker\":{\"colorbar\":{\"outlinewidth\":0,\"ticks\":\"\"}}}],\"histogram\":[{\"marker\":{\"pattern\":{\"fillmode\":\"overlay\",\"size\":10,\"solidity\":0.2}},\"type\":\"histogram\"}],\"scattergl\":[{\"type\":\"scattergl\",\"marker\":{\"colorbar\":{\"outlinewidth\":0,\"ticks\":\"\"}}}],\"scatter3d\":[{\"type\":\"scatter3d\",\"line\":{\"colorbar\":{\"outlinewidth\":0,\"ticks\":\"\"}},\"marker\":{\"colorbar\":{\"outlinewidth\":0,\"ticks\":\"\"}}}],\"scattermapbox\":[{\"type\":\"scattermapbox\",\"marker\":{\"colorbar\":{\"outlinewidth\":0,\"ticks\":\"\"}}}],\"scatterternary\":[{\"type\":\"scatterternary\",\"marker\":{\"colorbar\":{\"outlinewidth\":0,\"ticks\":\"\"}}}],\"scattercarpet\":[{\"type\":\"scattercarpet\",\"marker\":{\"colorbar\":{\"outlinewidth\":0,\"ticks\":\"\"}}}],\"carpet\":[{\"aaxis\":{\"endlinecolor\":\"#2a3f5f\",\"gridcolor\":\"white\",\"linecolor\":\"white\",\"minorgridcolor\":\"white\",\"startlinecolor\":\"#2a3f5f\"},\"baxis\":{\"endlinecolor\":\"#2a3f5f\",\"gridcolor\":\"white\",\"linecolor\":\"white\",\"minorgridcolor\":\"white\",\"startlinecolor\":\"#2a3f5f\"},\"type\":\"carpet\"}],\"table\":[{\"cells\":{\"fill\":{\"color\":\"#EBF0F8\"},\"line\":{\"color\":\"white\"}},\"header\":{\"fill\":{\"color\":\"#C8D4E3\"},\"line\":{\"color\":\"white\"}},\"type\":\"table\"}],\"barpolar\":[{\"marker\":{\"line\":{\"color\":\"#E5ECF6\",\"width\":0.5},\"pattern\":{\"fillmode\":\"overlay\",\"size\":10,\"solidity\":0.2}},\"type\":\"barpolar\"}],\"pie\":[{\"automargin\":true,\"type\":\"pie\"}]},\"layout\":{\"autotypenumbers\":\"strict\",\"colorway\":[\"#636efa\",\"#EF553B\",\"#00cc96\",\"#ab63fa\",\"#FFA15A\",\"#19d3f3\",\"#FF6692\",\"#B6E880\",\"#FF97FF\",\"#FECB52\"],\"font\":{\"color\":\"#2a3f5f\"},\"hovermode\":\"closest\",\"hoverlabel\":{\"align\":\"left\"},\"paper_bgcolor\":\"white\",\"plot_bgcolor\":\"#E5ECF6\",\"polar\":{\"bgcolor\":\"#E5ECF6\",\"angularaxis\":{\"gridcolor\":\"white\",\"linecolor\":\"white\",\"ticks\":\"\"},\"radialaxis\":{\"gridcolor\":\"white\",\"linecolor\":\"white\",\"ticks\":\"\"}},\"ternary\":{\"bgcolor\":\"#E5ECF6\",\"aaxis\":{\"gridcolor\":\"white\",\"linecolor\":\"white\",\"ticks\":\"\"},\"baxis\":{\"gridcolor\":\"white\",\"linecolor\":\"white\",\"ticks\":\"\"},\"caxis\":{\"gridcolor\":\"white\",\"linecolor\":\"white\",\"ticks\":\"\"}},\"coloraxis\":{\"colorbar\":{\"outlinewidth\":0,\"ticks\":\"\"}},\"colorscale\":{\"sequential\":[[0.0,\"#0d0887\"],[0.1111111111111111,\"#46039f\"],[0.2222222222222222,\"#7201a8\"],[0.3333333333333333,\"#9c179e\"],[0.4444444444444444,\"#bd3786\"],[0.5555555555555556,\"#d8576b\"],[0.6666666666666666,\"#ed7953\"],[0.7777777777777778,\"#fb9f3a\"],[0.8888888888888888,\"#fdca26\"],[1.0,\"#f0f921\"]],\"sequentialminus\":[[0.0,\"#0d0887\"],[0.1111111111111111,\"#46039f\"],[0.2222222222222222,\"#7201a8\"],[0.3333333333333333,\"#9c179e\"],[0.4444444444444444,\"#bd3786\"],[0.5555555555555556,\"#d8576b\"],[0.6666666666666666,\"#ed7953\"],[0.7777777777777778,\"#fb9f3a\"],[0.8888888888888888,\"#fdca26\"],[1.0,\"#f0f921\"]],\"diverging\":[[0,\"#8e0152\"],[0.1,\"#c51b7d\"],[0.2,\"#de77ae\"],[0.3,\"#f1b6da\"],[0.4,\"#fde0ef\"],[0.5,\"#f7f7f7\"],[0.6,\"#e6f5d0\"],[0.7,\"#b8e186\"],[0.8,\"#7fbc41\"],[0.9,\"#4d9221\"],[1,\"#276419\"]]},\"xaxis\":{\"gridcolor\":\"white\",\"linecolor\":\"white\",\"ticks\":\"\",\"title\":{\"standoff\":15},\"zerolinecolor\":\"white\",\"automargin\":true,\"zerolinewidth\":2},\"yaxis\":{\"gridcolor\":\"white\",\"linecolor\":\"white\",\"ticks\":\"\",\"title\":{\"standoff\":15},\"zerolinecolor\":\"white\",\"automargin\":true,\"zerolinewidth\":2},\"scene\":{\"xaxis\":{\"backgroundcolor\":\"#E5ECF6\",\"gridcolor\":\"white\",\"linecolor\":\"white\",\"showbackground\":true,\"ticks\":\"\",\"zerolinecolor\":\"white\",\"gridwidth\":2},\"yaxis\":{\"backgroundcolor\":\"#E5ECF6\",\"gridcolor\":\"white\",\"linecolor\":\"white\",\"showbackground\":true,\"ticks\":\"\",\"zerolinecolor\":\"white\",\"gridwidth\":2},\"zaxis\":{\"backgroundcolor\":\"#E5ECF6\",\"gridcolor\":\"white\",\"linecolor\":\"white\",\"showbackground\":true,\"ticks\":\"\",\"zerolinecolor\":\"white\",\"gridwidth\":2}},\"shapedefaults\":{\"line\":{\"color\":\"#2a3f5f\"}},\"annotationdefaults\":{\"arrowcolor\":\"#2a3f5f\",\"arrowhead\":0,\"arrowwidth\":1},\"geo\":{\"bgcolor\":\"white\",\"landcolor\":\"#E5ECF6\",\"subunitcolor\":\"white\",\"showland\":true,\"showlakes\":true,\"lakecolor\":\"white\"},\"title\":{\"x\":0.05},\"mapbox\":{\"style\":\"light\"}}},\"title\":{\"text\":\"Agrupamento das pétalas\"}},                        {\"responsive\": true}                    ).then(function(){\n",
              "                            \n",
              "var gd = document.getElementById('7a4b2200-b532-422a-9792-3c675fc80bbf');\n",
              "var x = new MutationObserver(function (mutations, observer) {{\n",
              "        var display = window.getComputedStyle(gd).display;\n",
              "        if (!display || display === 'none') {{\n",
              "            console.log([gd, 'removed!']);\n",
              "            Plotly.purge(gd);\n",
              "            observer.disconnect();\n",
              "        }}\n",
              "}});\n",
              "\n",
              "// Listen for the removal of the full notebook cells\n",
              "var notebookContainer = gd.closest('#notebook-container');\n",
              "if (notebookContainer) {{\n",
              "    x.observe(notebookContainer, {childList: true});\n",
              "}}\n",
              "\n",
              "// Listen for the clearing of the current output cell\n",
              "var outputEl = gd.closest('.output');\n",
              "if (outputEl) {{\n",
              "    x.observe(outputEl, {childList: true});\n",
              "}}\n",
              "\n",
              "                        })                };                            </script>        </div>\n",
              "</body>\n",
              "</html>"
            ]
          },
          "metadata": {}
        }
      ]
    },
    {
      "cell_type": "markdown",
      "source": [
        "# Criando clusters com os dados das sépalas"
      ],
      "metadata": {
        "id": "YjL-FaCPj9UA"
      }
    },
    {
      "cell_type": "markdown",
      "source": [
        "# Coletando dados das sépalas"
      ],
      "metadata": {
        "id": "FWSYTyAbkDYa"
      }
    },
    {
      "cell_type": "code",
      "source": [
        "# Coletando dados das sépalas\n",
        "iris.head()"
      ],
      "metadata": {
        "colab": {
          "base_uri": "https://localhost:8080/",
          "height": 206
        },
        "id": "0jYZ87YXmLAQ",
        "outputId": "808b7194-963d-46d0-ca15-6d80515b1890"
      },
      "execution_count": null,
      "outputs": [
        {
          "output_type": "execute_result",
          "data": {
            "text/plain": [
              "   sepal length  sepal width  petal length  petal width        Class\n",
              "0           5.1          3.5           1.4          0.2  Iris-setosa\n",
              "1           4.9          3.0           1.4          0.2  Iris-setosa\n",
              "2           4.7          3.2           1.3          0.2  Iris-setosa\n",
              "3           4.6          3.1           1.5          0.2  Iris-setosa\n",
              "4           5.0          3.6           1.4          0.2  Iris-setosa"
            ],
            "text/html": [
              "\n",
              "  <div id=\"df-aae132c1-049a-4c88-8cb4-0eceaf16b334\" class=\"colab-df-container\">\n",
              "    <div>\n",
              "<style scoped>\n",
              "    .dataframe tbody tr th:only-of-type {\n",
              "        vertical-align: middle;\n",
              "    }\n",
              "\n",
              "    .dataframe tbody tr th {\n",
              "        vertical-align: top;\n",
              "    }\n",
              "\n",
              "    .dataframe thead th {\n",
              "        text-align: right;\n",
              "    }\n",
              "</style>\n",
              "<table border=\"1\" class=\"dataframe\">\n",
              "  <thead>\n",
              "    <tr style=\"text-align: right;\">\n",
              "      <th></th>\n",
              "      <th>sepal length</th>\n",
              "      <th>sepal width</th>\n",
              "      <th>petal length</th>\n",
              "      <th>petal width</th>\n",
              "      <th>Class</th>\n",
              "    </tr>\n",
              "  </thead>\n",
              "  <tbody>\n",
              "    <tr>\n",
              "      <th>0</th>\n",
              "      <td>5.1</td>\n",
              "      <td>3.5</td>\n",
              "      <td>1.4</td>\n",
              "      <td>0.2</td>\n",
              "      <td>Iris-setosa</td>\n",
              "    </tr>\n",
              "    <tr>\n",
              "      <th>1</th>\n",
              "      <td>4.9</td>\n",
              "      <td>3.0</td>\n",
              "      <td>1.4</td>\n",
              "      <td>0.2</td>\n",
              "      <td>Iris-setosa</td>\n",
              "    </tr>\n",
              "    <tr>\n",
              "      <th>2</th>\n",
              "      <td>4.7</td>\n",
              "      <td>3.2</td>\n",
              "      <td>1.3</td>\n",
              "      <td>0.2</td>\n",
              "      <td>Iris-setosa</td>\n",
              "    </tr>\n",
              "    <tr>\n",
              "      <th>3</th>\n",
              "      <td>4.6</td>\n",
              "      <td>3.1</td>\n",
              "      <td>1.5</td>\n",
              "      <td>0.2</td>\n",
              "      <td>Iris-setosa</td>\n",
              "    </tr>\n",
              "    <tr>\n",
              "      <th>4</th>\n",
              "      <td>5.0</td>\n",
              "      <td>3.6</td>\n",
              "      <td>1.4</td>\n",
              "      <td>0.2</td>\n",
              "      <td>Iris-setosa</td>\n",
              "    </tr>\n",
              "  </tbody>\n",
              "</table>\n",
              "</div>\n",
              "    <div class=\"colab-df-buttons\">\n",
              "\n",
              "  <div class=\"colab-df-container\">\n",
              "    <button class=\"colab-df-convert\" onclick=\"convertToInteractive('df-aae132c1-049a-4c88-8cb4-0eceaf16b334')\"\n",
              "            title=\"Convert this dataframe to an interactive table.\"\n",
              "            style=\"display:none;\">\n",
              "\n",
              "  <svg xmlns=\"http://www.w3.org/2000/svg\" height=\"24px\" viewBox=\"0 -960 960 960\">\n",
              "    <path d=\"M120-120v-720h720v720H120Zm60-500h600v-160H180v160Zm220 220h160v-160H400v160Zm0 220h160v-160H400v160ZM180-400h160v-160H180v160Zm440 0h160v-160H620v160ZM180-180h160v-160H180v160Zm440 0h160v-160H620v160Z\"/>\n",
              "  </svg>\n",
              "    </button>\n",
              "\n",
              "  <style>\n",
              "    .colab-df-container {\n",
              "      display:flex;\n",
              "      gap: 12px;\n",
              "    }\n",
              "\n",
              "    .colab-df-convert {\n",
              "      background-color: #E8F0FE;\n",
              "      border: none;\n",
              "      border-radius: 50%;\n",
              "      cursor: pointer;\n",
              "      display: none;\n",
              "      fill: #1967D2;\n",
              "      height: 32px;\n",
              "      padding: 0 0 0 0;\n",
              "      width: 32px;\n",
              "    }\n",
              "\n",
              "    .colab-df-convert:hover {\n",
              "      background-color: #E2EBFA;\n",
              "      box-shadow: 0px 1px 2px rgba(60, 64, 67, 0.3), 0px 1px 3px 1px rgba(60, 64, 67, 0.15);\n",
              "      fill: #174EA6;\n",
              "    }\n",
              "\n",
              "    .colab-df-buttons div {\n",
              "      margin-bottom: 4px;\n",
              "    }\n",
              "\n",
              "    [theme=dark] .colab-df-convert {\n",
              "      background-color: #3B4455;\n",
              "      fill: #D2E3FC;\n",
              "    }\n",
              "\n",
              "    [theme=dark] .colab-df-convert:hover {\n",
              "      background-color: #434B5C;\n",
              "      box-shadow: 0px 1px 3px 1px rgba(0, 0, 0, 0.15);\n",
              "      filter: drop-shadow(0px 1px 2px rgba(0, 0, 0, 0.3));\n",
              "      fill: #FFFFFF;\n",
              "    }\n",
              "  </style>\n",
              "\n",
              "    <script>\n",
              "      const buttonEl =\n",
              "        document.querySelector('#df-aae132c1-049a-4c88-8cb4-0eceaf16b334 button.colab-df-convert');\n",
              "      buttonEl.style.display =\n",
              "        google.colab.kernel.accessAllowed ? 'block' : 'none';\n",
              "\n",
              "      async function convertToInteractive(key) {\n",
              "        const element = document.querySelector('#df-aae132c1-049a-4c88-8cb4-0eceaf16b334');\n",
              "        const dataTable =\n",
              "          await google.colab.kernel.invokeFunction('convertToInteractive',\n",
              "                                                    [key], {});\n",
              "        if (!dataTable) return;\n",
              "\n",
              "        const docLinkHtml = 'Like what you see? Visit the ' +\n",
              "          '<a target=\"_blank\" href=https://colab.research.google.com/notebooks/data_table.ipynb>data table notebook</a>'\n",
              "          + ' to learn more about interactive tables.';\n",
              "        element.innerHTML = '';\n",
              "        dataTable['output_type'] = 'display_data';\n",
              "        await google.colab.output.renderOutput(dataTable, element);\n",
              "        const docLink = document.createElement('div');\n",
              "        docLink.innerHTML = docLinkHtml;\n",
              "        element.appendChild(docLink);\n",
              "      }\n",
              "    </script>\n",
              "  </div>\n",
              "\n",
              "\n",
              "<div id=\"df-efc5de20-6596-4f98-8bdf-b350936ae8fc\">\n",
              "  <button class=\"colab-df-quickchart\" onclick=\"quickchart('df-efc5de20-6596-4f98-8bdf-b350936ae8fc')\"\n",
              "            title=\"Suggest charts\"\n",
              "            style=\"display:none;\">\n",
              "\n",
              "<svg xmlns=\"http://www.w3.org/2000/svg\" height=\"24px\"viewBox=\"0 0 24 24\"\n",
              "     width=\"24px\">\n",
              "    <g>\n",
              "        <path d=\"M19 3H5c-1.1 0-2 .9-2 2v14c0 1.1.9 2 2 2h14c1.1 0 2-.9 2-2V5c0-1.1-.9-2-2-2zM9 17H7v-7h2v7zm4 0h-2V7h2v10zm4 0h-2v-4h2v4z\"/>\n",
              "    </g>\n",
              "</svg>\n",
              "  </button>\n",
              "\n",
              "<style>\n",
              "  .colab-df-quickchart {\n",
              "      --bg-color: #E8F0FE;\n",
              "      --fill-color: #1967D2;\n",
              "      --hover-bg-color: #E2EBFA;\n",
              "      --hover-fill-color: #174EA6;\n",
              "      --disabled-fill-color: #AAA;\n",
              "      --disabled-bg-color: #DDD;\n",
              "  }\n",
              "\n",
              "  [theme=dark] .colab-df-quickchart {\n",
              "      --bg-color: #3B4455;\n",
              "      --fill-color: #D2E3FC;\n",
              "      --hover-bg-color: #434B5C;\n",
              "      --hover-fill-color: #FFFFFF;\n",
              "      --disabled-bg-color: #3B4455;\n",
              "      --disabled-fill-color: #666;\n",
              "  }\n",
              "\n",
              "  .colab-df-quickchart {\n",
              "    background-color: var(--bg-color);\n",
              "    border: none;\n",
              "    border-radius: 50%;\n",
              "    cursor: pointer;\n",
              "    display: none;\n",
              "    fill: var(--fill-color);\n",
              "    height: 32px;\n",
              "    padding: 0;\n",
              "    width: 32px;\n",
              "  }\n",
              "\n",
              "  .colab-df-quickchart:hover {\n",
              "    background-color: var(--hover-bg-color);\n",
              "    box-shadow: 0 1px 2px rgba(60, 64, 67, 0.3), 0 1px 3px 1px rgba(60, 64, 67, 0.15);\n",
              "    fill: var(--button-hover-fill-color);\n",
              "  }\n",
              "\n",
              "  .colab-df-quickchart-complete:disabled,\n",
              "  .colab-df-quickchart-complete:disabled:hover {\n",
              "    background-color: var(--disabled-bg-color);\n",
              "    fill: var(--disabled-fill-color);\n",
              "    box-shadow: none;\n",
              "  }\n",
              "\n",
              "  .colab-df-spinner {\n",
              "    border: 2px solid var(--fill-color);\n",
              "    border-color: transparent;\n",
              "    border-bottom-color: var(--fill-color);\n",
              "    animation:\n",
              "      spin 1s steps(1) infinite;\n",
              "  }\n",
              "\n",
              "  @keyframes spin {\n",
              "    0% {\n",
              "      border-color: transparent;\n",
              "      border-bottom-color: var(--fill-color);\n",
              "      border-left-color: var(--fill-color);\n",
              "    }\n",
              "    20% {\n",
              "      border-color: transparent;\n",
              "      border-left-color: var(--fill-color);\n",
              "      border-top-color: var(--fill-color);\n",
              "    }\n",
              "    30% {\n",
              "      border-color: transparent;\n",
              "      border-left-color: var(--fill-color);\n",
              "      border-top-color: var(--fill-color);\n",
              "      border-right-color: var(--fill-color);\n",
              "    }\n",
              "    40% {\n",
              "      border-color: transparent;\n",
              "      border-right-color: var(--fill-color);\n",
              "      border-top-color: var(--fill-color);\n",
              "    }\n",
              "    60% {\n",
              "      border-color: transparent;\n",
              "      border-right-color: var(--fill-color);\n",
              "    }\n",
              "    80% {\n",
              "      border-color: transparent;\n",
              "      border-right-color: var(--fill-color);\n",
              "      border-bottom-color: var(--fill-color);\n",
              "    }\n",
              "    90% {\n",
              "      border-color: transparent;\n",
              "      border-bottom-color: var(--fill-color);\n",
              "    }\n",
              "  }\n",
              "</style>\n",
              "\n",
              "  <script>\n",
              "    async function quickchart(key) {\n",
              "      const quickchartButtonEl =\n",
              "        document.querySelector('#' + key + ' button');\n",
              "      quickchartButtonEl.disabled = true;  // To prevent multiple clicks.\n",
              "      quickchartButtonEl.classList.add('colab-df-spinner');\n",
              "      try {\n",
              "        const charts = await google.colab.kernel.invokeFunction(\n",
              "            'suggestCharts', [key], {});\n",
              "      } catch (error) {\n",
              "        console.error('Error during call to suggestCharts:', error);\n",
              "      }\n",
              "      quickchartButtonEl.classList.remove('colab-df-spinner');\n",
              "      quickchartButtonEl.classList.add('colab-df-quickchart-complete');\n",
              "    }\n",
              "    (() => {\n",
              "      let quickchartButtonEl =\n",
              "        document.querySelector('#df-efc5de20-6596-4f98-8bdf-b350936ae8fc button');\n",
              "      quickchartButtonEl.style.display =\n",
              "        google.colab.kernel.accessAllowed ? 'block' : 'none';\n",
              "    })();\n",
              "  </script>\n",
              "</div>\n",
              "\n",
              "    </div>\n",
              "  </div>\n"
            ],
            "application/vnd.google.colaboratory.intrinsic+json": {
              "type": "dataframe",
              "variable_name": "iris",
              "summary": "{\n  \"name\": \"iris\",\n  \"rows\": 150,\n  \"fields\": [\n    {\n      \"column\": \"sepal length\",\n      \"properties\": {\n        \"dtype\": \"number\",\n        \"std\": 0.8280661279778629,\n        \"min\": 4.3,\n        \"max\": 7.9,\n        \"num_unique_values\": 35,\n        \"samples\": [\n          6.2,\n          4.5,\n          5.6\n        ],\n        \"semantic_type\": \"\",\n        \"description\": \"\"\n      }\n    },\n    {\n      \"column\": \"sepal width\",\n      \"properties\": {\n        \"dtype\": \"number\",\n        \"std\": 0.4335943113621737,\n        \"min\": 2.0,\n        \"max\": 4.4,\n        \"num_unique_values\": 23,\n        \"samples\": [\n          2.3,\n          4.0,\n          3.5\n        ],\n        \"semantic_type\": \"\",\n        \"description\": \"\"\n      }\n    },\n    {\n      \"column\": \"petal length\",\n      \"properties\": {\n        \"dtype\": \"number\",\n        \"std\": 1.7644204199522617,\n        \"min\": 1.0,\n        \"max\": 6.9,\n        \"num_unique_values\": 43,\n        \"samples\": [\n          6.7,\n          3.8,\n          3.7\n        ],\n        \"semantic_type\": \"\",\n        \"description\": \"\"\n      }\n    },\n    {\n      \"column\": \"petal width\",\n      \"properties\": {\n        \"dtype\": \"number\",\n        \"std\": 0.7631607417008414,\n        \"min\": 0.1,\n        \"max\": 2.5,\n        \"num_unique_values\": 22,\n        \"samples\": [\n          0.2,\n          1.2,\n          1.3\n        ],\n        \"semantic_type\": \"\",\n        \"description\": \"\"\n      }\n    },\n    {\n      \"column\": \"Class\",\n      \"properties\": {\n        \"dtype\": \"category\",\n        \"num_unique_values\": 3,\n        \"samples\": [\n          \"Iris-setosa\",\n          \"Iris-versicolor\",\n          \"Iris-virginica\"\n        ],\n        \"semantic_type\": \"\",\n        \"description\": \"\"\n      }\n    }\n  ]\n}"
            }
          },
          "metadata": {},
          "execution_count": 22
        }
      ]
    },
    {
      "cell_type": "code",
      "source": [
        "# criando variável X com as colunas sepal lenght e sepal width\n",
        "X_sepalas = iris.iloc[:, [0,1]].values\n",
        "X_sepalas = normalizar_dados.fit_transform(X_sepalas)\n",
        "X_sepalas[:5]"
      ],
      "metadata": {
        "colab": {
          "base_uri": "https://localhost:8080/"
        },
        "id": "zjYHjI02q_qp",
        "outputId": "3cac2814-a02c-4b26-fa1e-1b299a89f7b4"
      },
      "execution_count": null,
      "outputs": [
        {
          "output_type": "execute_result",
          "data": {
            "text/plain": [
              "array([[-0.90068117,  1.03205722],\n",
              "       [-1.14301691, -0.1249576 ],\n",
              "       [-1.38535265,  0.33784833],\n",
              "       [-1.50652052,  0.10644536],\n",
              "       [-1.02184904,  1.26346019]])"
            ]
          },
          "metadata": {},
          "execution_count": 44
        }
      ]
    },
    {
      "cell_type": "markdown",
      "source": [
        "# Calculando valor do WCSS"
      ],
      "metadata": {
        "id": "3HIRgXvsmE1w"
      }
    },
    {
      "cell_type": "code",
      "source": [
        "wcss_sepalas = []\n",
        "for i in range(1,11):\n",
        "  kmeans_sepalas = KMeans(n_clusters=i, random_state=0)\n",
        "  kmeans_sepalas.fit(X_sepalas)\n",
        "  wcss_sepalas.append(kmeans_sepalas.inertia_)"
      ],
      "metadata": {
        "id": "ChOsYOqdmGYt"
      },
      "execution_count": null,
      "outputs": []
    },
    {
      "cell_type": "code",
      "source": [
        "# visualizando valores de wcss\n",
        "for i in range(len(wcss_sepalas)):\n",
        "  print('Cluster:', i, '- Valor do WCSS:', wcss_sepalas[i])"
      ],
      "metadata": {
        "colab": {
          "base_uri": "https://localhost:8080/"
        },
        "id": "3PPWmZNxml9q",
        "outputId": "a1c9a400-96a5-47c3-8c03-21f238e96f23"
      },
      "execution_count": null,
      "outputs": [
        {
          "output_type": "stream",
          "name": "stdout",
          "text": [
            "Cluster: 0 - Valor do WCSS: 300.00000000000006\n",
            "Cluster: 1 - Valor do WCSS: 214.80004445463572\n",
            "Cluster: 2 - Valor do WCSS: 103.80692090161443\n",
            "Cluster: 3 - Valor do WCSS: 79.83879949066282\n",
            "Cluster: 4 - Valor do WCSS: 63.370908146687114\n",
            "Cluster: 5 - Valor do WCSS: 55.99062559037006\n",
            "Cluster: 6 - Valor do WCSS: 48.447754565842544\n",
            "Cluster: 7 - Valor do WCSS: 41.11866957543779\n",
            "Cluster: 8 - Valor do WCSS: 38.241369474610046\n",
            "Cluster: 9 - Valor do WCSS: 30.117936364651335\n"
          ]
        }
      ]
    },
    {
      "cell_type": "markdown",
      "source": [
        "# Visualização dos valores Wcss"
      ],
      "metadata": {
        "id": "_ceNja4Xn0O9"
      }
    },
    {
      "cell_type": "code",
      "source": [
        "# Visualização dos valores wcss das sépalas\n",
        "grafico_cotovelo_sepalas = px.line(x=range(1,11), y=wcss_sepalas, title='Definindo número de Clusters')\n",
        "grafico_cotovelo_sepalas.update_layout(xaxis_title='Número de clusters', yaxis_title='Valor de WCSS')\n",
        "grafico_cotovelo_sepalas.update_layout(title_x=0.5)\n",
        "grafico_cotovelo_sepalas.show()"
      ],
      "metadata": {
        "colab": {
          "base_uri": "https://localhost:8080/",
          "height": 542
        },
        "id": "wD37tt5yn21u",
        "outputId": "bdca6c1f-ed72-4ccf-b1ed-36dbc02ce495"
      },
      "execution_count": null,
      "outputs": [
        {
          "output_type": "display_data",
          "data": {
            "text/html": [
              "<html>\n",
              "<head><meta charset=\"utf-8\" /></head>\n",
              "<body>\n",
              "    <div>            <script src=\"https://cdnjs.cloudflare.com/ajax/libs/mathjax/2.7.5/MathJax.js?config=TeX-AMS-MML_SVG\"></script><script type=\"text/javascript\">if (window.MathJax && window.MathJax.Hub && window.MathJax.Hub.Config) {window.MathJax.Hub.Config({SVG: {font: \"STIX-Web\"}});}</script>                <script type=\"text/javascript\">window.PlotlyConfig = {MathJaxConfig: 'local'};</script>\n",
              "        <script charset=\"utf-8\" src=\"https://cdn.plot.ly/plotly-2.35.2.min.js\"></script>                <div id=\"1d7a6570-d698-458e-8039-5769da21580b\" class=\"plotly-graph-div\" style=\"height:525px; width:100%;\"></div>            <script type=\"text/javascript\">                                    window.PLOTLYENV=window.PLOTLYENV || {};                                    if (document.getElementById(\"1d7a6570-d698-458e-8039-5769da21580b\")) {                    Plotly.newPlot(                        \"1d7a6570-d698-458e-8039-5769da21580b\",                        [{\"hovertemplate\":\"x=%{x}\\u003cbr\\u003ey=%{y}\\u003cextra\\u003e\\u003c\\u002fextra\\u003e\",\"legendgroup\":\"\",\"line\":{\"color\":\"#636efa\",\"dash\":\"solid\"},\"marker\":{\"symbol\":\"circle\"},\"mode\":\"lines\",\"name\":\"\",\"orientation\":\"v\",\"showlegend\":false,\"x\":[1,2,3,4,5,6,7,8,9,10],\"xaxis\":\"x\",\"y\":[300.00000000000006,214.80004445463572,103.80692090161443,79.83879949066282,63.370908146687114,55.99062559037006,48.447754565842544,41.11866957543779,38.241369474610046,30.117936364651335],\"yaxis\":\"y\",\"type\":\"scatter\"}],                        {\"template\":{\"data\":{\"histogram2dcontour\":[{\"type\":\"histogram2dcontour\",\"colorbar\":{\"outlinewidth\":0,\"ticks\":\"\"},\"colorscale\":[[0.0,\"#0d0887\"],[0.1111111111111111,\"#46039f\"],[0.2222222222222222,\"#7201a8\"],[0.3333333333333333,\"#9c179e\"],[0.4444444444444444,\"#bd3786\"],[0.5555555555555556,\"#d8576b\"],[0.6666666666666666,\"#ed7953\"],[0.7777777777777778,\"#fb9f3a\"],[0.8888888888888888,\"#fdca26\"],[1.0,\"#f0f921\"]]}],\"choropleth\":[{\"type\":\"choropleth\",\"colorbar\":{\"outlinewidth\":0,\"ticks\":\"\"}}],\"histogram2d\":[{\"type\":\"histogram2d\",\"colorbar\":{\"outlinewidth\":0,\"ticks\":\"\"},\"colorscale\":[[0.0,\"#0d0887\"],[0.1111111111111111,\"#46039f\"],[0.2222222222222222,\"#7201a8\"],[0.3333333333333333,\"#9c179e\"],[0.4444444444444444,\"#bd3786\"],[0.5555555555555556,\"#d8576b\"],[0.6666666666666666,\"#ed7953\"],[0.7777777777777778,\"#fb9f3a\"],[0.8888888888888888,\"#fdca26\"],[1.0,\"#f0f921\"]]}],\"heatmap\":[{\"type\":\"heatmap\",\"colorbar\":{\"outlinewidth\":0,\"ticks\":\"\"},\"colorscale\":[[0.0,\"#0d0887\"],[0.1111111111111111,\"#46039f\"],[0.2222222222222222,\"#7201a8\"],[0.3333333333333333,\"#9c179e\"],[0.4444444444444444,\"#bd3786\"],[0.5555555555555556,\"#d8576b\"],[0.6666666666666666,\"#ed7953\"],[0.7777777777777778,\"#fb9f3a\"],[0.8888888888888888,\"#fdca26\"],[1.0,\"#f0f921\"]]}],\"heatmapgl\":[{\"type\":\"heatmapgl\",\"colorbar\":{\"outlinewidth\":0,\"ticks\":\"\"},\"colorscale\":[[0.0,\"#0d0887\"],[0.1111111111111111,\"#46039f\"],[0.2222222222222222,\"#7201a8\"],[0.3333333333333333,\"#9c179e\"],[0.4444444444444444,\"#bd3786\"],[0.5555555555555556,\"#d8576b\"],[0.6666666666666666,\"#ed7953\"],[0.7777777777777778,\"#fb9f3a\"],[0.8888888888888888,\"#fdca26\"],[1.0,\"#f0f921\"]]}],\"contourcarpet\":[{\"type\":\"contourcarpet\",\"colorbar\":{\"outlinewidth\":0,\"ticks\":\"\"}}],\"contour\":[{\"type\":\"contour\",\"colorbar\":{\"outlinewidth\":0,\"ticks\":\"\"},\"colorscale\":[[0.0,\"#0d0887\"],[0.1111111111111111,\"#46039f\"],[0.2222222222222222,\"#7201a8\"],[0.3333333333333333,\"#9c179e\"],[0.4444444444444444,\"#bd3786\"],[0.5555555555555556,\"#d8576b\"],[0.6666666666666666,\"#ed7953\"],[0.7777777777777778,\"#fb9f3a\"],[0.8888888888888888,\"#fdca26\"],[1.0,\"#f0f921\"]]}],\"surface\":[{\"type\":\"surface\",\"colorbar\":{\"outlinewidth\":0,\"ticks\":\"\"},\"colorscale\":[[0.0,\"#0d0887\"],[0.1111111111111111,\"#46039f\"],[0.2222222222222222,\"#7201a8\"],[0.3333333333333333,\"#9c179e\"],[0.4444444444444444,\"#bd3786\"],[0.5555555555555556,\"#d8576b\"],[0.6666666666666666,\"#ed7953\"],[0.7777777777777778,\"#fb9f3a\"],[0.8888888888888888,\"#fdca26\"],[1.0,\"#f0f921\"]]}],\"mesh3d\":[{\"type\":\"mesh3d\",\"colorbar\":{\"outlinewidth\":0,\"ticks\":\"\"}}],\"scatter\":[{\"fillpattern\":{\"fillmode\":\"overlay\",\"size\":10,\"solidity\":0.2},\"type\":\"scatter\"}],\"parcoords\":[{\"type\":\"parcoords\",\"line\":{\"colorbar\":{\"outlinewidth\":0,\"ticks\":\"\"}}}],\"scatterpolargl\":[{\"type\":\"scatterpolargl\",\"marker\":{\"colorbar\":{\"outlinewidth\":0,\"ticks\":\"\"}}}],\"bar\":[{\"error_x\":{\"color\":\"#2a3f5f\"},\"error_y\":{\"color\":\"#2a3f5f\"},\"marker\":{\"line\":{\"color\":\"#E5ECF6\",\"width\":0.5},\"pattern\":{\"fillmode\":\"overlay\",\"size\":10,\"solidity\":0.2}},\"type\":\"bar\"}],\"scattergeo\":[{\"type\":\"scattergeo\",\"marker\":{\"colorbar\":{\"outlinewidth\":0,\"ticks\":\"\"}}}],\"scatterpolar\":[{\"type\":\"scatterpolar\",\"marker\":{\"colorbar\":{\"outlinewidth\":0,\"ticks\":\"\"}}}],\"histogram\":[{\"marker\":{\"pattern\":{\"fillmode\":\"overlay\",\"size\":10,\"solidity\":0.2}},\"type\":\"histogram\"}],\"scattergl\":[{\"type\":\"scattergl\",\"marker\":{\"colorbar\":{\"outlinewidth\":0,\"ticks\":\"\"}}}],\"scatter3d\":[{\"type\":\"scatter3d\",\"line\":{\"colorbar\":{\"outlinewidth\":0,\"ticks\":\"\"}},\"marker\":{\"colorbar\":{\"outlinewidth\":0,\"ticks\":\"\"}}}],\"scattermapbox\":[{\"type\":\"scattermapbox\",\"marker\":{\"colorbar\":{\"outlinewidth\":0,\"ticks\":\"\"}}}],\"scatterternary\":[{\"type\":\"scatterternary\",\"marker\":{\"colorbar\":{\"outlinewidth\":0,\"ticks\":\"\"}}}],\"scattercarpet\":[{\"type\":\"scattercarpet\",\"marker\":{\"colorbar\":{\"outlinewidth\":0,\"ticks\":\"\"}}}],\"carpet\":[{\"aaxis\":{\"endlinecolor\":\"#2a3f5f\",\"gridcolor\":\"white\",\"linecolor\":\"white\",\"minorgridcolor\":\"white\",\"startlinecolor\":\"#2a3f5f\"},\"baxis\":{\"endlinecolor\":\"#2a3f5f\",\"gridcolor\":\"white\",\"linecolor\":\"white\",\"minorgridcolor\":\"white\",\"startlinecolor\":\"#2a3f5f\"},\"type\":\"carpet\"}],\"table\":[{\"cells\":{\"fill\":{\"color\":\"#EBF0F8\"},\"line\":{\"color\":\"white\"}},\"header\":{\"fill\":{\"color\":\"#C8D4E3\"},\"line\":{\"color\":\"white\"}},\"type\":\"table\"}],\"barpolar\":[{\"marker\":{\"line\":{\"color\":\"#E5ECF6\",\"width\":0.5},\"pattern\":{\"fillmode\":\"overlay\",\"size\":10,\"solidity\":0.2}},\"type\":\"barpolar\"}],\"pie\":[{\"automargin\":true,\"type\":\"pie\"}]},\"layout\":{\"autotypenumbers\":\"strict\",\"colorway\":[\"#636efa\",\"#EF553B\",\"#00cc96\",\"#ab63fa\",\"#FFA15A\",\"#19d3f3\",\"#FF6692\",\"#B6E880\",\"#FF97FF\",\"#FECB52\"],\"font\":{\"color\":\"#2a3f5f\"},\"hovermode\":\"closest\",\"hoverlabel\":{\"align\":\"left\"},\"paper_bgcolor\":\"white\",\"plot_bgcolor\":\"#E5ECF6\",\"polar\":{\"bgcolor\":\"#E5ECF6\",\"angularaxis\":{\"gridcolor\":\"white\",\"linecolor\":\"white\",\"ticks\":\"\"},\"radialaxis\":{\"gridcolor\":\"white\",\"linecolor\":\"white\",\"ticks\":\"\"}},\"ternary\":{\"bgcolor\":\"#E5ECF6\",\"aaxis\":{\"gridcolor\":\"white\",\"linecolor\":\"white\",\"ticks\":\"\"},\"baxis\":{\"gridcolor\":\"white\",\"linecolor\":\"white\",\"ticks\":\"\"},\"caxis\":{\"gridcolor\":\"white\",\"linecolor\":\"white\",\"ticks\":\"\"}},\"coloraxis\":{\"colorbar\":{\"outlinewidth\":0,\"ticks\":\"\"}},\"colorscale\":{\"sequential\":[[0.0,\"#0d0887\"],[0.1111111111111111,\"#46039f\"],[0.2222222222222222,\"#7201a8\"],[0.3333333333333333,\"#9c179e\"],[0.4444444444444444,\"#bd3786\"],[0.5555555555555556,\"#d8576b\"],[0.6666666666666666,\"#ed7953\"],[0.7777777777777778,\"#fb9f3a\"],[0.8888888888888888,\"#fdca26\"],[1.0,\"#f0f921\"]],\"sequentialminus\":[[0.0,\"#0d0887\"],[0.1111111111111111,\"#46039f\"],[0.2222222222222222,\"#7201a8\"],[0.3333333333333333,\"#9c179e\"],[0.4444444444444444,\"#bd3786\"],[0.5555555555555556,\"#d8576b\"],[0.6666666666666666,\"#ed7953\"],[0.7777777777777778,\"#fb9f3a\"],[0.8888888888888888,\"#fdca26\"],[1.0,\"#f0f921\"]],\"diverging\":[[0,\"#8e0152\"],[0.1,\"#c51b7d\"],[0.2,\"#de77ae\"],[0.3,\"#f1b6da\"],[0.4,\"#fde0ef\"],[0.5,\"#f7f7f7\"],[0.6,\"#e6f5d0\"],[0.7,\"#b8e186\"],[0.8,\"#7fbc41\"],[0.9,\"#4d9221\"],[1,\"#276419\"]]},\"xaxis\":{\"gridcolor\":\"white\",\"linecolor\":\"white\",\"ticks\":\"\",\"title\":{\"standoff\":15},\"zerolinecolor\":\"white\",\"automargin\":true,\"zerolinewidth\":2},\"yaxis\":{\"gridcolor\":\"white\",\"linecolor\":\"white\",\"ticks\":\"\",\"title\":{\"standoff\":15},\"zerolinecolor\":\"white\",\"automargin\":true,\"zerolinewidth\":2},\"scene\":{\"xaxis\":{\"backgroundcolor\":\"#E5ECF6\",\"gridcolor\":\"white\",\"linecolor\":\"white\",\"showbackground\":true,\"ticks\":\"\",\"zerolinecolor\":\"white\",\"gridwidth\":2},\"yaxis\":{\"backgroundcolor\":\"#E5ECF6\",\"gridcolor\":\"white\",\"linecolor\":\"white\",\"showbackground\":true,\"ticks\":\"\",\"zerolinecolor\":\"white\",\"gridwidth\":2},\"zaxis\":{\"backgroundcolor\":\"#E5ECF6\",\"gridcolor\":\"white\",\"linecolor\":\"white\",\"showbackground\":true,\"ticks\":\"\",\"zerolinecolor\":\"white\",\"gridwidth\":2}},\"shapedefaults\":{\"line\":{\"color\":\"#2a3f5f\"}},\"annotationdefaults\":{\"arrowcolor\":\"#2a3f5f\",\"arrowhead\":0,\"arrowwidth\":1},\"geo\":{\"bgcolor\":\"white\",\"landcolor\":\"#E5ECF6\",\"subunitcolor\":\"white\",\"showland\":true,\"showlakes\":true,\"lakecolor\":\"white\"},\"title\":{\"x\":0.05},\"mapbox\":{\"style\":\"light\"}}},\"xaxis\":{\"anchor\":\"y\",\"domain\":[0.0,1.0],\"title\":{\"text\":\"Número de clusters\"}},\"yaxis\":{\"anchor\":\"x\",\"domain\":[0.0,1.0],\"title\":{\"text\":\"Valor de WCSS\"}},\"legend\":{\"tracegroupgap\":0},\"title\":{\"text\":\"Definindo número de Clusters\",\"x\":0.5}},                        {\"responsive\": true}                    ).then(function(){\n",
              "                            \n",
              "var gd = document.getElementById('1d7a6570-d698-458e-8039-5769da21580b');\n",
              "var x = new MutationObserver(function (mutations, observer) {{\n",
              "        var display = window.getComputedStyle(gd).display;\n",
              "        if (!display || display === 'none') {{\n",
              "            console.log([gd, 'removed!']);\n",
              "            Plotly.purge(gd);\n",
              "            observer.disconnect();\n",
              "        }}\n",
              "}});\n",
              "\n",
              "// Listen for the removal of the full notebook cells\n",
              "var notebookContainer = gd.closest('#notebook-container');\n",
              "if (notebookContainer) {{\n",
              "    x.observe(notebookContainer, {childList: true});\n",
              "}}\n",
              "\n",
              "// Listen for the clearing of the current output cell\n",
              "var outputEl = gd.closest('.output');\n",
              "if (outputEl) {{\n",
              "    x.observe(outputEl, {childList: true});\n",
              "}}\n",
              "\n",
              "                        })                };                            </script>        </div>\n",
              "</body>\n",
              "</html>"
            ]
          },
          "metadata": {}
        }
      ]
    },
    {
      "cell_type": "markdown",
      "source": [
        "# Definindo o melhor número de clusters das sépalas"
      ],
      "metadata": {
        "id": "JFG4LPXDmtMS"
      }
    },
    {
      "cell_type": "code",
      "source": [
        "# Definindo o melhor número de clusters das sépalas\n",
        "kmeans_sepalas = KMeans(n_clusters=3, random_state=0)\n",
        "label_cluster_sepalas = kmeans_sepalas.fit_predict(X_sepalas)"
      ],
      "metadata": {
        "id": "63CGwTaVkBiN"
      },
      "execution_count": null,
      "outputs": []
    },
    {
      "cell_type": "markdown",
      "source": [
        "# Executando o algortimo K-means para as sépalas"
      ],
      "metadata": {
        "id": "FOVx1EICqCBt"
      }
    },
    {
      "cell_type": "code",
      "source": [
        "label_cluster_sepalas"
      ],
      "metadata": {
        "colab": {
          "base_uri": "https://localhost:8080/"
        },
        "id": "vT0olr6KqLOF",
        "outputId": "af006728-472a-4c9f-9fd2-f9974c0537da"
      },
      "execution_count": null,
      "outputs": [
        {
          "output_type": "execute_result",
          "data": {
            "text/plain": [
              "array([2, 2, 2, 2, 2, 2, 2, 2, 2, 2, 2, 2, 2, 2, 2, 2, 2, 2, 2, 2, 2, 2,\n",
              "       2, 2, 2, 2, 2, 2, 2, 2, 2, 2, 2, 2, 2, 2, 2, 2, 2, 2, 2, 0, 2, 2,\n",
              "       2, 2, 2, 2, 2, 2, 1, 1, 1, 0, 1, 0, 1, 0, 1, 0, 0, 0, 0, 0, 0, 1,\n",
              "       0, 0, 0, 0, 1, 0, 0, 0, 1, 1, 1, 1, 0, 0, 0, 0, 0, 0, 0, 1, 1, 0,\n",
              "       0, 0, 0, 1, 0, 0, 0, 0, 0, 1, 0, 0, 1, 0, 1, 1, 1, 1, 0, 1, 0, 1,\n",
              "       1, 0, 1, 0, 0, 1, 1, 1, 1, 0, 1, 0, 1, 0, 1, 1, 0, 1, 1, 1, 1, 1,\n",
              "       1, 0, 0, 1, 1, 1, 0, 1, 1, 1, 0, 1, 1, 1, 0, 1, 1, 0], dtype=int32)"
            ]
          },
          "metadata": {},
          "execution_count": 53
        }
      ]
    },
    {
      "cell_type": "markdown",
      "source": [
        "# Visualizando dados agrupados com dados das sépalas"
      ],
      "metadata": {
        "id": "NjVcyo-Oqxfv"
      }
    },
    {
      "cell_type": "code",
      "source": [
        "centroide_sepala = kmeans_sepalas.cluster_centers_\n",
        "centroide_sepala\n"
      ],
      "metadata": {
        "id": "Y_0VDpftqEx1",
        "colab": {
          "base_uri": "https://localhost:8080/"
        },
        "outputId": "778cd59e-6850-481f-b37d-37cc5476f531"
      },
      "execution_count": null,
      "outputs": [
        {
          "output_type": "execute_result",
          "data": {
            "text/plain": [
              "array([[-0.11190209, -0.95528589],\n",
              "       [ 1.09616533,  0.09718925],\n",
              "       [-1.00206653,  0.89510445]])"
            ]
          },
          "metadata": {},
          "execution_count": 54
        }
      ]
    },
    {
      "cell_type": "markdown",
      "source": [
        "# Criando função para visualização de dados"
      ],
      "metadata": {
        "id": "vkb2xURfsI-E"
      }
    },
    {
      "cell_type": "code",
      "source": [
        "# Visualizando dados agrupados com dados das pétalas\n",
        "grafico_sepalas = px.scatter(x=X_sepalas[:,0], y=X_sepalas[:,1], color = label_cluster_sepalas)\n",
        "grafico_centroide_sepalas = px.scatter( x = centroide_sepala[:,0], y = centroide_sepala[:,1], size=[7,7,7])\n",
        "grafico_final = go.Figure(data=grafico_sepalas.data + grafico_centroide_sepalas.data)\n",
        "grafico_final.update_layout(title='Agrupamento das sépalas')\n",
        "grafico_final.show()"
      ],
      "metadata": {
        "colab": {
          "base_uri": "https://localhost:8080/",
          "height": 542
        },
        "id": "bTryioCTsLlR",
        "outputId": "d6e47904-9652-4d11-80a2-e132ee0a91b5"
      },
      "execution_count": null,
      "outputs": [
        {
          "output_type": "display_data",
          "data": {
            "text/html": [
              "<html>\n",
              "<head><meta charset=\"utf-8\" /></head>\n",
              "<body>\n",
              "    <div>            <script src=\"https://cdnjs.cloudflare.com/ajax/libs/mathjax/2.7.5/MathJax.js?config=TeX-AMS-MML_SVG\"></script><script type=\"text/javascript\">if (window.MathJax && window.MathJax.Hub && window.MathJax.Hub.Config) {window.MathJax.Hub.Config({SVG: {font: \"STIX-Web\"}});}</script>                <script type=\"text/javascript\">window.PlotlyConfig = {MathJaxConfig: 'local'};</script>\n",
              "        <script charset=\"utf-8\" src=\"https://cdn.plot.ly/plotly-2.35.2.min.js\"></script>                <div id=\"783da9ba-225b-42ac-9808-ecbf5a09fd09\" class=\"plotly-graph-div\" style=\"height:525px; width:100%;\"></div>            <script type=\"text/javascript\">                                    window.PLOTLYENV=window.PLOTLYENV || {};                                    if (document.getElementById(\"783da9ba-225b-42ac-9808-ecbf5a09fd09\")) {                    Plotly.newPlot(                        \"783da9ba-225b-42ac-9808-ecbf5a09fd09\",                        [{\"hovertemplate\":\"x=%{x}\\u003cbr\\u003ey=%{y}\\u003cbr\\u003ecolor=%{marker.color}\\u003cextra\\u003e\\u003c\\u002fextra\\u003e\",\"legendgroup\":\"\",\"marker\":{\"color\":[2,2,2,2,2,2,2,2,2,2,2,2,2,2,2,2,2,2,2,2,2,2,2,2,2,2,2,2,2,2,2,2,2,2,2,2,2,2,2,2,2,0,2,2,2,2,2,2,2,2,1,1,1,0,1,0,1,0,1,0,0,0,0,0,0,1,0,0,0,0,1,0,0,0,1,1,1,1,0,0,0,0,0,0,0,1,1,0,0,0,0,1,0,0,0,0,0,1,0,0,1,0,1,1,1,1,0,1,0,1,1,0,1,0,0,1,1,1,1,0,1,0,1,0,1,1,0,1,1,1,1,1,1,0,0,1,1,1,0,1,1,1,0,1,1,1,0,1,1,0],\"coloraxis\":\"coloraxis\",\"symbol\":\"circle\"},\"mode\":\"markers\",\"name\":\"\",\"orientation\":\"v\",\"showlegend\":false,\"x\":[-0.9006811702978088,-1.1430169111851105,-1.3853526520724133,-1.5065205225160652,-1.0218490407414595,-0.537177558966854,-1.5065205225160652,-1.0218490407414595,-1.7488562634033669,-1.1430169111851105,-0.537177558966854,-1.2641847816287624,-1.2641847816287624,-1.870024133847019,-0.05250607719224957,-0.1736739476359004,-0.537177558966854,-0.9006811702978088,-0.1736739476359004,-0.9006811702978088,-0.537177558966854,-0.9006811702978088,-1.5065205225160652,-0.9006811702978088,-1.2641847816287624,-1.0218490407414595,-1.0218490407414595,-0.7795132998541568,-0.7795132998541568,-1.3853526520724133,-1.2641847816287624,-0.537177558966854,-0.7795132998541568,-0.4160096885232032,-1.1430169111851105,-1.0218490407414595,-0.4160096885232032,-1.1430169111851105,-1.7488562634033669,-0.9006811702978088,-1.0218490407414595,-1.6276883929597161,-1.7488562634033669,-1.0218490407414595,-0.9006811702978088,-1.2641847816287624,-0.9006811702978088,-1.5065205225160652,-0.658345429410506,-1.0218490407414595,1.401508368131566,0.6745011454696588,1.2803404976879151,-0.4160096885232032,0.7956690159133096,-0.1736739476359004,0.5533332750260068,-1.1430169111851105,0.9168368863569605,-0.7795132998541568,-1.0218490407414595,0.06866179325140237,0.18982966369505322,0.31099753413870407,-0.29484181807955234,1.0380047568006125,-0.29484181807955234,-0.05250607719224957,0.432165404582356,-0.29484181807955234,0.06866179325140237,0.31099753413870407,0.5533332750260068,0.31099753413870407,0.6745011454696588,0.9168368863569605,1.1591726272442633,1.0380047568006125,0.18982966369505322,-0.1736739476359004,-0.4160096885232032,-0.4160096885232032,-0.05250607719224957,0.18982966369505322,-0.537177558966854,0.18982966369505322,1.0380047568006125,0.5533332750260068,-0.29484181807955234,-0.4160096885232032,-0.4160096885232032,0.31099753413870407,-0.05250607719224957,-1.0218490407414595,-0.29484181807955234,-0.1736739476359004,-0.1736739476359004,0.432165404582356,-0.9006811702978088,-0.1736739476359004,0.5533332750260068,-0.05250607719224957,1.522676238575217,0.5533332750260068,0.7956690159133096,2.1285155907934734,-1.1430169111851105,1.7650119794625196,1.0380047568006125,1.643844109018869,0.7956690159133096,0.6745011454696588,1.1591726272442633,-0.1736739476359004,-0.05250607719224957,0.6745011454696588,0.7956690159133096,2.2496834612371255,2.2496834612371255,0.18982966369505322,1.2803404976879151,-0.29484181807955234,2.2496834612371255,0.5533332750260068,1.0380047568006125,1.643844109018869,0.432165404582356,0.31099753413870407,0.6745011454696588,1.643844109018869,1.8861798499061717,2.4920192021244283,0.6745011454696588,0.5533332750260068,0.31099753413870407,2.2496834612371255,0.5533332750260068,0.6745011454696588,0.18982966369505322,1.2803404976879151,1.0380047568006125,1.2803404976879151,-0.05250607719224957,1.1591726272442633,1.0380047568006125,1.0380047568006125,0.5533332750260068,0.7956690159133096,0.432165404582356,0.06866179325140237],\"xaxis\":\"x\",\"y\":[1.0320572244889565,-0.12495760117130933,0.3378483290927974,0.10644536396074403,1.2634601896210098,1.957669085017169,0.8006542593569032,0.8006542593569032,-0.3563605663033627,0.10644536396074403,1.494863154753063,0.8006542593569032,-0.12495760117130933,-0.12495760117130933,2.1890720501492225,3.1146839106774356,1.957669085017169,1.0320572244889565,1.7262661198851155,1.7262661198851155,0.8006542593569032,1.494863154753063,1.2634601896210098,0.5692512942248498,0.8006542593569032,-0.12495760117130933,0.8006542593569032,1.0320572244889565,0.8006542593569032,0.3378483290927974,0.10644536396074403,0.8006542593569032,2.4204750152812746,2.651877980413329,0.10644536396074403,0.3378483290927974,1.0320572244889565,0.10644536396074403,-0.12495760117130933,0.8006542593569032,1.0320572244889565,-1.7447783570956819,0.3378483290927974,1.0320572244889565,1.7262661198851155,-0.12495760117130933,1.7262661198851155,0.3378483290927974,1.494863154753063,0.5692512942248498,0.3378483290927974,0.3378483290927974,0.10644536396074403,-1.7447783570956819,-0.587763531435416,-0.587763531435416,0.5692512942248498,-1.5133753919636286,-0.3563605663033627,-0.8191664965674684,-2.438987252491841,-0.12495760117130933,-1.9761813222277342,-0.3563605663033627,-0.3563605663033627,0.10644536396074403,-0.12495760117130933,-0.8191664965674684,-1.9761813222277342,-1.281972426831575,0.3378483290927974,-0.587763531435416,-1.281972426831575,-0.587763531435416,-0.3563605663033627,-0.12495760117130933,-0.587763531435416,-0.12495760117130933,-0.3563605663033627,-1.0505694616995218,-1.5133753919636286,-1.5133753919636286,-0.8191664965674684,-0.8191664965674684,-0.12495760117130933,0.8006542593569032,0.10644536396074403,-1.7447783570956819,-0.12495760117130933,-1.281972426831575,-1.0505694616995218,-0.12495760117130933,-1.0505694616995218,-1.7447783570956819,-0.8191664965674684,-0.12495760117130933,-0.3563605663033627,-0.3563605663033627,-1.281972426831575,-0.587763531435416,0.5692512942248498,-0.8191664965674684,-0.12495760117130933,-0.3563605663033627,-0.12495760117130933,-0.12495760117130933,-1.281972426831575,-0.3563605663033627,-1.281972426831575,1.2634601896210098,0.3378483290927974,-0.8191664965674684,-0.12495760117130933,-1.281972426831575,-0.587763531435416,0.3378483290927974,-0.12495760117130933,1.7262661198851155,-1.0505694616995218,-1.9761813222277342,0.3378483290927974,-0.587763531435416,-0.587763531435416,-0.8191664965674684,0.5692512942248498,0.3378483290927974,-0.587763531435416,-0.12495760117130933,-0.587763531435416,-0.12495760117130933,-0.587763531435416,1.7262661198851155,-0.587763531435416,-0.587763531435416,-1.0505694616995218,-0.12495760117130933,0.8006542593569032,0.10644536396074403,-0.12495760117130933,0.10644536396074403,0.10644536396074403,0.10644536396074403,-0.8191664965674684,0.3378483290927974,0.5692512942248498,-0.12495760117130933,-1.281972426831575,-0.12495760117130933,0.8006542593569032,-0.12495760117130933],\"yaxis\":\"y\",\"type\":\"scatter\"},{\"hovertemplate\":\"x=%{x}\\u003cbr\\u003ey=%{y}\\u003cbr\\u003esize=%{marker.size}\\u003cextra\\u003e\\u003c\\u002fextra\\u003e\",\"legendgroup\":\"\",\"marker\":{\"color\":\"#636efa\",\"size\":[7,7,7],\"sizemode\":\"area\",\"sizeref\":0.0175,\"symbol\":\"circle\"},\"mode\":\"markers\",\"name\":\"\",\"orientation\":\"v\",\"showlegend\":false,\"x\":[-0.11190209211560795,1.0961653346135656,-1.0020665312812713],\"xaxis\":\"x\",\"y\":[-0.9552858878216177,0.0971892453554617,0.8951044492067212],\"yaxis\":\"y\",\"type\":\"scatter\"}],                        {\"template\":{\"data\":{\"histogram2dcontour\":[{\"type\":\"histogram2dcontour\",\"colorbar\":{\"outlinewidth\":0,\"ticks\":\"\"},\"colorscale\":[[0.0,\"#0d0887\"],[0.1111111111111111,\"#46039f\"],[0.2222222222222222,\"#7201a8\"],[0.3333333333333333,\"#9c179e\"],[0.4444444444444444,\"#bd3786\"],[0.5555555555555556,\"#d8576b\"],[0.6666666666666666,\"#ed7953\"],[0.7777777777777778,\"#fb9f3a\"],[0.8888888888888888,\"#fdca26\"],[1.0,\"#f0f921\"]]}],\"choropleth\":[{\"type\":\"choropleth\",\"colorbar\":{\"outlinewidth\":0,\"ticks\":\"\"}}],\"histogram2d\":[{\"type\":\"histogram2d\",\"colorbar\":{\"outlinewidth\":0,\"ticks\":\"\"},\"colorscale\":[[0.0,\"#0d0887\"],[0.1111111111111111,\"#46039f\"],[0.2222222222222222,\"#7201a8\"],[0.3333333333333333,\"#9c179e\"],[0.4444444444444444,\"#bd3786\"],[0.5555555555555556,\"#d8576b\"],[0.6666666666666666,\"#ed7953\"],[0.7777777777777778,\"#fb9f3a\"],[0.8888888888888888,\"#fdca26\"],[1.0,\"#f0f921\"]]}],\"heatmap\":[{\"type\":\"heatmap\",\"colorbar\":{\"outlinewidth\":0,\"ticks\":\"\"},\"colorscale\":[[0.0,\"#0d0887\"],[0.1111111111111111,\"#46039f\"],[0.2222222222222222,\"#7201a8\"],[0.3333333333333333,\"#9c179e\"],[0.4444444444444444,\"#bd3786\"],[0.5555555555555556,\"#d8576b\"],[0.6666666666666666,\"#ed7953\"],[0.7777777777777778,\"#fb9f3a\"],[0.8888888888888888,\"#fdca26\"],[1.0,\"#f0f921\"]]}],\"heatmapgl\":[{\"type\":\"heatmapgl\",\"colorbar\":{\"outlinewidth\":0,\"ticks\":\"\"},\"colorscale\":[[0.0,\"#0d0887\"],[0.1111111111111111,\"#46039f\"],[0.2222222222222222,\"#7201a8\"],[0.3333333333333333,\"#9c179e\"],[0.4444444444444444,\"#bd3786\"],[0.5555555555555556,\"#d8576b\"],[0.6666666666666666,\"#ed7953\"],[0.7777777777777778,\"#fb9f3a\"],[0.8888888888888888,\"#fdca26\"],[1.0,\"#f0f921\"]]}],\"contourcarpet\":[{\"type\":\"contourcarpet\",\"colorbar\":{\"outlinewidth\":0,\"ticks\":\"\"}}],\"contour\":[{\"type\":\"contour\",\"colorbar\":{\"outlinewidth\":0,\"ticks\":\"\"},\"colorscale\":[[0.0,\"#0d0887\"],[0.1111111111111111,\"#46039f\"],[0.2222222222222222,\"#7201a8\"],[0.3333333333333333,\"#9c179e\"],[0.4444444444444444,\"#bd3786\"],[0.5555555555555556,\"#d8576b\"],[0.6666666666666666,\"#ed7953\"],[0.7777777777777778,\"#fb9f3a\"],[0.8888888888888888,\"#fdca26\"],[1.0,\"#f0f921\"]]}],\"surface\":[{\"type\":\"surface\",\"colorbar\":{\"outlinewidth\":0,\"ticks\":\"\"},\"colorscale\":[[0.0,\"#0d0887\"],[0.1111111111111111,\"#46039f\"],[0.2222222222222222,\"#7201a8\"],[0.3333333333333333,\"#9c179e\"],[0.4444444444444444,\"#bd3786\"],[0.5555555555555556,\"#d8576b\"],[0.6666666666666666,\"#ed7953\"],[0.7777777777777778,\"#fb9f3a\"],[0.8888888888888888,\"#fdca26\"],[1.0,\"#f0f921\"]]}],\"mesh3d\":[{\"type\":\"mesh3d\",\"colorbar\":{\"outlinewidth\":0,\"ticks\":\"\"}}],\"scatter\":[{\"fillpattern\":{\"fillmode\":\"overlay\",\"size\":10,\"solidity\":0.2},\"type\":\"scatter\"}],\"parcoords\":[{\"type\":\"parcoords\",\"line\":{\"colorbar\":{\"outlinewidth\":0,\"ticks\":\"\"}}}],\"scatterpolargl\":[{\"type\":\"scatterpolargl\",\"marker\":{\"colorbar\":{\"outlinewidth\":0,\"ticks\":\"\"}}}],\"bar\":[{\"error_x\":{\"color\":\"#2a3f5f\"},\"error_y\":{\"color\":\"#2a3f5f\"},\"marker\":{\"line\":{\"color\":\"#E5ECF6\",\"width\":0.5},\"pattern\":{\"fillmode\":\"overlay\",\"size\":10,\"solidity\":0.2}},\"type\":\"bar\"}],\"scattergeo\":[{\"type\":\"scattergeo\",\"marker\":{\"colorbar\":{\"outlinewidth\":0,\"ticks\":\"\"}}}],\"scatterpolar\":[{\"type\":\"scatterpolar\",\"marker\":{\"colorbar\":{\"outlinewidth\":0,\"ticks\":\"\"}}}],\"histogram\":[{\"marker\":{\"pattern\":{\"fillmode\":\"overlay\",\"size\":10,\"solidity\":0.2}},\"type\":\"histogram\"}],\"scattergl\":[{\"type\":\"scattergl\",\"marker\":{\"colorbar\":{\"outlinewidth\":0,\"ticks\":\"\"}}}],\"scatter3d\":[{\"type\":\"scatter3d\",\"line\":{\"colorbar\":{\"outlinewidth\":0,\"ticks\":\"\"}},\"marker\":{\"colorbar\":{\"outlinewidth\":0,\"ticks\":\"\"}}}],\"scattermapbox\":[{\"type\":\"scattermapbox\",\"marker\":{\"colorbar\":{\"outlinewidth\":0,\"ticks\":\"\"}}}],\"scatterternary\":[{\"type\":\"scatterternary\",\"marker\":{\"colorbar\":{\"outlinewidth\":0,\"ticks\":\"\"}}}],\"scattercarpet\":[{\"type\":\"scattercarpet\",\"marker\":{\"colorbar\":{\"outlinewidth\":0,\"ticks\":\"\"}}}],\"carpet\":[{\"aaxis\":{\"endlinecolor\":\"#2a3f5f\",\"gridcolor\":\"white\",\"linecolor\":\"white\",\"minorgridcolor\":\"white\",\"startlinecolor\":\"#2a3f5f\"},\"baxis\":{\"endlinecolor\":\"#2a3f5f\",\"gridcolor\":\"white\",\"linecolor\":\"white\",\"minorgridcolor\":\"white\",\"startlinecolor\":\"#2a3f5f\"},\"type\":\"carpet\"}],\"table\":[{\"cells\":{\"fill\":{\"color\":\"#EBF0F8\"},\"line\":{\"color\":\"white\"}},\"header\":{\"fill\":{\"color\":\"#C8D4E3\"},\"line\":{\"color\":\"white\"}},\"type\":\"table\"}],\"barpolar\":[{\"marker\":{\"line\":{\"color\":\"#E5ECF6\",\"width\":0.5},\"pattern\":{\"fillmode\":\"overlay\",\"size\":10,\"solidity\":0.2}},\"type\":\"barpolar\"}],\"pie\":[{\"automargin\":true,\"type\":\"pie\"}]},\"layout\":{\"autotypenumbers\":\"strict\",\"colorway\":[\"#636efa\",\"#EF553B\",\"#00cc96\",\"#ab63fa\",\"#FFA15A\",\"#19d3f3\",\"#FF6692\",\"#B6E880\",\"#FF97FF\",\"#FECB52\"],\"font\":{\"color\":\"#2a3f5f\"},\"hovermode\":\"closest\",\"hoverlabel\":{\"align\":\"left\"},\"paper_bgcolor\":\"white\",\"plot_bgcolor\":\"#E5ECF6\",\"polar\":{\"bgcolor\":\"#E5ECF6\",\"angularaxis\":{\"gridcolor\":\"white\",\"linecolor\":\"white\",\"ticks\":\"\"},\"radialaxis\":{\"gridcolor\":\"white\",\"linecolor\":\"white\",\"ticks\":\"\"}},\"ternary\":{\"bgcolor\":\"#E5ECF6\",\"aaxis\":{\"gridcolor\":\"white\",\"linecolor\":\"white\",\"ticks\":\"\"},\"baxis\":{\"gridcolor\":\"white\",\"linecolor\":\"white\",\"ticks\":\"\"},\"caxis\":{\"gridcolor\":\"white\",\"linecolor\":\"white\",\"ticks\":\"\"}},\"coloraxis\":{\"colorbar\":{\"outlinewidth\":0,\"ticks\":\"\"}},\"colorscale\":{\"sequential\":[[0.0,\"#0d0887\"],[0.1111111111111111,\"#46039f\"],[0.2222222222222222,\"#7201a8\"],[0.3333333333333333,\"#9c179e\"],[0.4444444444444444,\"#bd3786\"],[0.5555555555555556,\"#d8576b\"],[0.6666666666666666,\"#ed7953\"],[0.7777777777777778,\"#fb9f3a\"],[0.8888888888888888,\"#fdca26\"],[1.0,\"#f0f921\"]],\"sequentialminus\":[[0.0,\"#0d0887\"],[0.1111111111111111,\"#46039f\"],[0.2222222222222222,\"#7201a8\"],[0.3333333333333333,\"#9c179e\"],[0.4444444444444444,\"#bd3786\"],[0.5555555555555556,\"#d8576b\"],[0.6666666666666666,\"#ed7953\"],[0.7777777777777778,\"#fb9f3a\"],[0.8888888888888888,\"#fdca26\"],[1.0,\"#f0f921\"]],\"diverging\":[[0,\"#8e0152\"],[0.1,\"#c51b7d\"],[0.2,\"#de77ae\"],[0.3,\"#f1b6da\"],[0.4,\"#fde0ef\"],[0.5,\"#f7f7f7\"],[0.6,\"#e6f5d0\"],[0.7,\"#b8e186\"],[0.8,\"#7fbc41\"],[0.9,\"#4d9221\"],[1,\"#276419\"]]},\"xaxis\":{\"gridcolor\":\"white\",\"linecolor\":\"white\",\"ticks\":\"\",\"title\":{\"standoff\":15},\"zerolinecolor\":\"white\",\"automargin\":true,\"zerolinewidth\":2},\"yaxis\":{\"gridcolor\":\"white\",\"linecolor\":\"white\",\"ticks\":\"\",\"title\":{\"standoff\":15},\"zerolinecolor\":\"white\",\"automargin\":true,\"zerolinewidth\":2},\"scene\":{\"xaxis\":{\"backgroundcolor\":\"#E5ECF6\",\"gridcolor\":\"white\",\"linecolor\":\"white\",\"showbackground\":true,\"ticks\":\"\",\"zerolinecolor\":\"white\",\"gridwidth\":2},\"yaxis\":{\"backgroundcolor\":\"#E5ECF6\",\"gridcolor\":\"white\",\"linecolor\":\"white\",\"showbackground\":true,\"ticks\":\"\",\"zerolinecolor\":\"white\",\"gridwidth\":2},\"zaxis\":{\"backgroundcolor\":\"#E5ECF6\",\"gridcolor\":\"white\",\"linecolor\":\"white\",\"showbackground\":true,\"ticks\":\"\",\"zerolinecolor\":\"white\",\"gridwidth\":2}},\"shapedefaults\":{\"line\":{\"color\":\"#2a3f5f\"}},\"annotationdefaults\":{\"arrowcolor\":\"#2a3f5f\",\"arrowhead\":0,\"arrowwidth\":1},\"geo\":{\"bgcolor\":\"white\",\"landcolor\":\"#E5ECF6\",\"subunitcolor\":\"white\",\"showland\":true,\"showlakes\":true,\"lakecolor\":\"white\"},\"title\":{\"x\":0.05},\"mapbox\":{\"style\":\"light\"}}},\"title\":{\"text\":\"Agrupamento das sépalas\"}},                        {\"responsive\": true}                    ).then(function(){\n",
              "                            \n",
              "var gd = document.getElementById('783da9ba-225b-42ac-9808-ecbf5a09fd09');\n",
              "var x = new MutationObserver(function (mutations, observer) {{\n",
              "        var display = window.getComputedStyle(gd).display;\n",
              "        if (!display || display === 'none') {{\n",
              "            console.log([gd, 'removed!']);\n",
              "            Plotly.purge(gd);\n",
              "            observer.disconnect();\n",
              "        }}\n",
              "}});\n",
              "\n",
              "// Listen for the removal of the full notebook cells\n",
              "var notebookContainer = gd.closest('#notebook-container');\n",
              "if (notebookContainer) {{\n",
              "    x.observe(notebookContainer, {childList: true});\n",
              "}}\n",
              "\n",
              "// Listen for the clearing of the current output cell\n",
              "var outputEl = gd.closest('.output');\n",
              "if (outputEl) {{\n",
              "    x.observe(outputEl, {childList: true});\n",
              "}}\n",
              "\n",
              "                        })                };                            </script>        </div>\n",
              "</body>\n",
              "</html>"
            ]
          },
          "metadata": {}
        }
      ]
    },
    {
      "cell_type": "markdown",
      "source": [
        "# Criando função para visualização de dados"
      ],
      "metadata": {
        "id": "Z6uAGL_Ls6rH"
      }
    },
    {
      "cell_type": "code",
      "source": [
        "def gera_grafico(X, Y, color, X_centroide, Y_centroide):\n",
        "  grafico = px.scatter(x=X,\n",
        "                       y=Y,\n",
        "                       color = color\n",
        "                       )\n",
        "  grafico_centroide = px.scatter( x = X_centroide,\n",
        "                                 y = Y_centroide)\n",
        "  grafico_final = go.Figure(data=grafico.data + grafico_centroide.data)\n",
        "  grafico_final.update_xaxes(title_text='Comprimento')\n",
        "  grafico_final.update_yaxes(title_text='Largura')\n",
        "  grafico_final.update_layout(title_text='Clusters', title_x=0.5)\n",
        "  grafico_final.show()"
      ],
      "metadata": {
        "id": "iRTxIX8Ps84B"
      },
      "execution_count": null,
      "outputs": []
    },
    {
      "cell_type": "markdown",
      "source": [
        "# Executando a função para as pétalas"
      ],
      "metadata": {
        "id": "LwS4SasMvczS"
      }
    },
    {
      "cell_type": "code",
      "source": [
        "# Executando a função para as pétalas\n",
        "x=X_petala[:,0]\n",
        "y=X_petala[:,1]\n",
        "label_cluster_petala\n",
        "centroide_petala[:,0]\n",
        "centroide_petala[:,1]\n",
        "\n",
        "gera_grafico(x, y, label_cluster_petala, centroide_petala[:,0], centroide_petala[:,1])"
      ],
      "metadata": {
        "colab": {
          "base_uri": "https://localhost:8080/",
          "height": 542
        },
        "id": "94i56rXLvfiw",
        "outputId": "fb393222-5a4b-4297-d0a0-d97a14267165"
      },
      "execution_count": null,
      "outputs": [
        {
          "output_type": "display_data",
          "data": {
            "text/html": [
              "<html>\n",
              "<head><meta charset=\"utf-8\" /></head>\n",
              "<body>\n",
              "    <div>            <script src=\"https://cdnjs.cloudflare.com/ajax/libs/mathjax/2.7.5/MathJax.js?config=TeX-AMS-MML_SVG\"></script><script type=\"text/javascript\">if (window.MathJax && window.MathJax.Hub && window.MathJax.Hub.Config) {window.MathJax.Hub.Config({SVG: {font: \"STIX-Web\"}});}</script>                <script type=\"text/javascript\">window.PlotlyConfig = {MathJaxConfig: 'local'};</script>\n",
              "        <script charset=\"utf-8\" src=\"https://cdn.plot.ly/plotly-2.35.2.min.js\"></script>                <div id=\"10413770-800e-4619-9bdf-2783bc3a09be\" class=\"plotly-graph-div\" style=\"height:525px; width:100%;\"></div>            <script type=\"text/javascript\">                                    window.PLOTLYENV=window.PLOTLYENV || {};                                    if (document.getElementById(\"10413770-800e-4619-9bdf-2783bc3a09be\")) {                    Plotly.newPlot(                        \"10413770-800e-4619-9bdf-2783bc3a09be\",                        [{\"hovertemplate\":\"x=%{x}\\u003cbr\\u003ey=%{y}\\u003cbr\\u003ecolor=%{marker.color}\\u003cextra\\u003e\\u003c\\u002fextra\\u003e\",\"legendgroup\":\"\",\"marker\":{\"color\":[1,1,1,1,1,1,1,1,1,1,1,1,1,1,1,1,1,1,1,1,1,1,1,1,1,1,1,1,1,1,1,1,1,1,1,1,1,1,1,1,1,1,1,1,1,1,1,1,1,1,0,0,0,0,0,0,0,0,0,0,0,0,0,0,0,0,0,0,0,0,2,0,0,0,0,0,0,2,0,0,0,0,0,0,0,0,0,0,0,0,0,0,0,0,0,0,0,0,0,0,2,2,2,2,2,2,0,2,2,2,2,2,2,2,2,2,2,2,2,0,2,2,2,2,2,2,2,2,2,2,2,2,2,0,0,2,2,2,2,2,2,2,2,2,2,2,2,2,2,2],\"coloraxis\":\"coloraxis\",\"symbol\":\"circle\"},\"mode\":\"markers\",\"name\":\"\",\"orientation\":\"v\",\"showlegend\":false,\"x\":[-1.3412724047598314,-1.3412724047598314,-1.3981381087490836,-1.284406700770579,-1.3412724047598314,-1.1706752927920745,-1.3412724047598314,-1.284406700770579,-1.3412724047598314,-1.284406700770579,-1.284406700770579,-1.2275409967813267,-1.3412724047598314,-1.5118695167275884,-1.4550038127383362,-1.284406700770579,-1.3981381087490836,-1.3412724047598314,-1.1706752927920745,-1.284406700770579,-1.1706752927920745,-1.284406700770579,-1.5687352207168408,-1.1706752927920745,-1.05694388481357,-1.2275409967813267,-1.2275409967813267,-1.284406700770579,-1.3412724047598314,-1.2275409967813267,-1.2275409967813267,-1.284406700770579,-1.284406700770579,-1.3412724047598314,-1.284406700770579,-1.4550038127383362,-1.3981381087490836,-1.284406700770579,-1.3981381087490836,-1.284406700770579,-1.3981381087490836,-1.3981381087490836,-1.3981381087490836,-1.2275409967813267,-1.05694388481357,-1.3412724047598314,-1.2275409967813267,-1.3412724047598314,-1.284406700770579,-1.3412724047598314,0.5352958268854957,0.4215644189069909,0.6490272348640005,0.13723589896072927,0.4784301228962431,0.4215644189069909,0.5352958268854957,-0.26082402896403717,0.4784301228962431,0.08037019497147688,-0.1470926209855324,0.250967306939234,0.13723589896072927,0.5352958268854957,-0.09022691699628003,0.3646987149177388,0.4215644189069909,0.19410160294998138,0.4215644189069909,0.08037019497147688,0.5921615308747479,0.13723589896072927,0.6490272348640005,0.5352958268854957,0.30783301092848614,0.3646987149177388,0.5921615308747479,0.7058929388532527,0.4215644189069909,-0.1470926209855324,0.02350449098222449,-0.03336121300702764,0.08037019497147688,0.7627586428425047,0.4215644189069909,0.4215644189069909,0.5352958268854957,0.3646987149177388,0.19410160294998138,0.13723589896072927,0.3646987149177388,0.4784301228962431,0.13723589896072927,-0.26082402896403717,0.250967306939234,0.250967306939234,0.250967306939234,0.30783301092848614,-0.43142114093179407,0.19410160294998138,1.274549978745776,0.7627586428425047,1.2176842747565237,1.0470871627887663,1.1608185707672711,1.6157442026812898,0.4215644189069909,1.4451470907135329,1.1608185707672711,1.331415682735028,0.7627586428425047,0.8764900508210095,0.9902214587995143,0.7058929388532527,0.7627586428425047,0.8764900508210095,0.9902214587995143,1.6726099066705424,1.7863413146490472,0.7058929388532527,1.103952866778019,0.6490272348640005,1.6726099066705424,0.6490272348640005,1.103952866778019,1.274549978745776,0.5921615308747479,0.6490272348640005,1.0470871627887663,1.1608185707672711,1.331415682735028,1.5020127947027855,1.0470871627887663,0.7627586428425047,1.0470871627887663,1.331415682735028,1.0470871627887663,0.9902214587995143,0.5921615308747479,0.9333557548102621,1.0470871627887663,0.7627586428425047,0.7627586428425047,1.2176842747565237,1.103952866778019,0.8196243468317573,0.7058929388532527,0.8196243468317573,0.9333557548102621,0.7627586428425047],\"xaxis\":\"x\",\"y\":[-1.3129767272601454,-1.3129767272601454,-1.3129767272601454,-1.3129767272601454,-1.3129767272601454,-1.0500307872213979,-1.1815037572407716,-1.3129767272601454,-1.3129767272601454,-1.4444496972795189,-1.3129767272601454,-1.3129767272601454,-1.4444496972795189,-1.4444496972795189,-1.3129767272601454,-1.0500307872213979,-1.0500307872213979,-1.1815037572407716,-1.1815037572407716,-1.1815037572407716,-1.3129767272601454,-1.0500307872213979,-1.3129767272601454,-0.9185578172020242,-1.3129767272601454,-1.3129767272601454,-1.0500307872213979,-1.3129767272601454,-1.3129767272601454,-1.3129767272601454,-1.3129767272601454,-1.0500307872213979,-1.4444496972795189,-1.3129767272601454,-1.4444496972795189,-1.3129767272601454,-1.3129767272601454,-1.4444496972795189,-1.3129767272601454,-1.3129767272601454,-1.1815037572407716,-1.1815037572407716,-1.3129767272601454,-0.7870848471826506,-1.0500307872213979,-1.1815037572407716,-1.3129767272601454,-1.3129767272601454,-1.3129767272601454,-1.3129767272601454,0.2646989129723388,0.3961718829917126,0.3961718829917126,0.13322594295296525,0.3961718829917126,0.13322594295296525,0.5276448530110863,-0.2611929671051558,0.13322594295296525,0.2646989129723388,-0.2611929671051558,0.3961718829917126,-0.2611929671051558,0.2646989129723388,0.13322594295296525,0.2646989129723388,0.3961718829917126,-0.2611929671051558,0.3961718829917126,-0.12971999708578205,0.7905907930498337,0.13322594295296525,0.3961718829917126,0.001752972933591456,0.13322594295296525,0.2646989129723388,0.2646989129723388,0.6591178230304598,0.3961718829917126,-0.2611929671051558,-0.12971999708578205,-0.2611929671051558,0.001752972933591456,0.5276448530110863,0.3961718829917126,0.5276448530110863,0.3961718829917126,0.13322594295296525,0.13322594295296525,0.13322594295296525,0.001752972933591456,0.2646989129723388,0.001752972933591456,-0.2611929671051558,0.13322594295296525,0.001752972933591456,0.13322594295296525,0.13322594295296525,-0.12971999708578205,0.13322594295296525,1.7109015831854495,0.9220637630692072,1.1850097031079547,0.7905907930498337,1.3164826731273285,1.1850097031079547,0.6591178230304598,0.7905907930498337,0.7905907930498337,1.7109015831854495,1.053536733088581,0.9220637630692072,1.1850097031079547,1.053536733088581,1.5794286131660755,1.4479556431467018,0.7905907930498337,1.3164826731273285,1.4479556431467018,0.3961718829917126,1.4479556431467018,1.053536733088581,1.053536733088581,0.7905907930498337,1.1850097031079547,0.7905907930498337,0.7905907930498337,0.7905907930498337,1.1850097031079547,0.5276448530110863,0.9220637630692072,1.053536733088581,1.3164826731273285,0.3961718829917126,0.2646989129723388,1.4479556431467018,1.5794286131660755,0.7905907930498337,0.7905907930498337,1.1850097031079547,1.5794286131660755,1.4479556431467018,0.9220637630692072,1.4479556431467018,1.7109015831854495,1.4479556431467018,0.9220637630692072,1.053536733088581,1.4479556431467018,0.7905907930498337],\"yaxis\":\"y\",\"type\":\"scatter\"},{\"hovertemplate\":\"x=%{x}\\u003cbr\\u003ey=%{y}\\u003cextra\\u003e\\u003c\\u002fextra\\u003e\",\"legendgroup\":\"\",\"marker\":{\"color\":\"#636efa\",\"symbol\":\"circle\"},\"mode\":\"markers\",\"name\":\"\",\"orientation\":\"v\",\"showlegend\":false,\"x\":[0.3056458684673612,-1.3048783542067108,1.0281319281256824],\"xaxis\":\"x\",\"y\":[0.16609418545780852,-1.2551286204516217,1.127490278724478],\"yaxis\":\"y\",\"type\":\"scatter\"}],                        {\"template\":{\"data\":{\"histogram2dcontour\":[{\"type\":\"histogram2dcontour\",\"colorbar\":{\"outlinewidth\":0,\"ticks\":\"\"},\"colorscale\":[[0.0,\"#0d0887\"],[0.1111111111111111,\"#46039f\"],[0.2222222222222222,\"#7201a8\"],[0.3333333333333333,\"#9c179e\"],[0.4444444444444444,\"#bd3786\"],[0.5555555555555556,\"#d8576b\"],[0.6666666666666666,\"#ed7953\"],[0.7777777777777778,\"#fb9f3a\"],[0.8888888888888888,\"#fdca26\"],[1.0,\"#f0f921\"]]}],\"choropleth\":[{\"type\":\"choropleth\",\"colorbar\":{\"outlinewidth\":0,\"ticks\":\"\"}}],\"histogram2d\":[{\"type\":\"histogram2d\",\"colorbar\":{\"outlinewidth\":0,\"ticks\":\"\"},\"colorscale\":[[0.0,\"#0d0887\"],[0.1111111111111111,\"#46039f\"],[0.2222222222222222,\"#7201a8\"],[0.3333333333333333,\"#9c179e\"],[0.4444444444444444,\"#bd3786\"],[0.5555555555555556,\"#d8576b\"],[0.6666666666666666,\"#ed7953\"],[0.7777777777777778,\"#fb9f3a\"],[0.8888888888888888,\"#fdca26\"],[1.0,\"#f0f921\"]]}],\"heatmap\":[{\"type\":\"heatmap\",\"colorbar\":{\"outlinewidth\":0,\"ticks\":\"\"},\"colorscale\":[[0.0,\"#0d0887\"],[0.1111111111111111,\"#46039f\"],[0.2222222222222222,\"#7201a8\"],[0.3333333333333333,\"#9c179e\"],[0.4444444444444444,\"#bd3786\"],[0.5555555555555556,\"#d8576b\"],[0.6666666666666666,\"#ed7953\"],[0.7777777777777778,\"#fb9f3a\"],[0.8888888888888888,\"#fdca26\"],[1.0,\"#f0f921\"]]}],\"heatmapgl\":[{\"type\":\"heatmapgl\",\"colorbar\":{\"outlinewidth\":0,\"ticks\":\"\"},\"colorscale\":[[0.0,\"#0d0887\"],[0.1111111111111111,\"#46039f\"],[0.2222222222222222,\"#7201a8\"],[0.3333333333333333,\"#9c179e\"],[0.4444444444444444,\"#bd3786\"],[0.5555555555555556,\"#d8576b\"],[0.6666666666666666,\"#ed7953\"],[0.7777777777777778,\"#fb9f3a\"],[0.8888888888888888,\"#fdca26\"],[1.0,\"#f0f921\"]]}],\"contourcarpet\":[{\"type\":\"contourcarpet\",\"colorbar\":{\"outlinewidth\":0,\"ticks\":\"\"}}],\"contour\":[{\"type\":\"contour\",\"colorbar\":{\"outlinewidth\":0,\"ticks\":\"\"},\"colorscale\":[[0.0,\"#0d0887\"],[0.1111111111111111,\"#46039f\"],[0.2222222222222222,\"#7201a8\"],[0.3333333333333333,\"#9c179e\"],[0.4444444444444444,\"#bd3786\"],[0.5555555555555556,\"#d8576b\"],[0.6666666666666666,\"#ed7953\"],[0.7777777777777778,\"#fb9f3a\"],[0.8888888888888888,\"#fdca26\"],[1.0,\"#f0f921\"]]}],\"surface\":[{\"type\":\"surface\",\"colorbar\":{\"outlinewidth\":0,\"ticks\":\"\"},\"colorscale\":[[0.0,\"#0d0887\"],[0.1111111111111111,\"#46039f\"],[0.2222222222222222,\"#7201a8\"],[0.3333333333333333,\"#9c179e\"],[0.4444444444444444,\"#bd3786\"],[0.5555555555555556,\"#d8576b\"],[0.6666666666666666,\"#ed7953\"],[0.7777777777777778,\"#fb9f3a\"],[0.8888888888888888,\"#fdca26\"],[1.0,\"#f0f921\"]]}],\"mesh3d\":[{\"type\":\"mesh3d\",\"colorbar\":{\"outlinewidth\":0,\"ticks\":\"\"}}],\"scatter\":[{\"fillpattern\":{\"fillmode\":\"overlay\",\"size\":10,\"solidity\":0.2},\"type\":\"scatter\"}],\"parcoords\":[{\"type\":\"parcoords\",\"line\":{\"colorbar\":{\"outlinewidth\":0,\"ticks\":\"\"}}}],\"scatterpolargl\":[{\"type\":\"scatterpolargl\",\"marker\":{\"colorbar\":{\"outlinewidth\":0,\"ticks\":\"\"}}}],\"bar\":[{\"error_x\":{\"color\":\"#2a3f5f\"},\"error_y\":{\"color\":\"#2a3f5f\"},\"marker\":{\"line\":{\"color\":\"#E5ECF6\",\"width\":0.5},\"pattern\":{\"fillmode\":\"overlay\",\"size\":10,\"solidity\":0.2}},\"type\":\"bar\"}],\"scattergeo\":[{\"type\":\"scattergeo\",\"marker\":{\"colorbar\":{\"outlinewidth\":0,\"ticks\":\"\"}}}],\"scatterpolar\":[{\"type\":\"scatterpolar\",\"marker\":{\"colorbar\":{\"outlinewidth\":0,\"ticks\":\"\"}}}],\"histogram\":[{\"marker\":{\"pattern\":{\"fillmode\":\"overlay\",\"size\":10,\"solidity\":0.2}},\"type\":\"histogram\"}],\"scattergl\":[{\"type\":\"scattergl\",\"marker\":{\"colorbar\":{\"outlinewidth\":0,\"ticks\":\"\"}}}],\"scatter3d\":[{\"type\":\"scatter3d\",\"line\":{\"colorbar\":{\"outlinewidth\":0,\"ticks\":\"\"}},\"marker\":{\"colorbar\":{\"outlinewidth\":0,\"ticks\":\"\"}}}],\"scattermapbox\":[{\"type\":\"scattermapbox\",\"marker\":{\"colorbar\":{\"outlinewidth\":0,\"ticks\":\"\"}}}],\"scatterternary\":[{\"type\":\"scatterternary\",\"marker\":{\"colorbar\":{\"outlinewidth\":0,\"ticks\":\"\"}}}],\"scattercarpet\":[{\"type\":\"scattercarpet\",\"marker\":{\"colorbar\":{\"outlinewidth\":0,\"ticks\":\"\"}}}],\"carpet\":[{\"aaxis\":{\"endlinecolor\":\"#2a3f5f\",\"gridcolor\":\"white\",\"linecolor\":\"white\",\"minorgridcolor\":\"white\",\"startlinecolor\":\"#2a3f5f\"},\"baxis\":{\"endlinecolor\":\"#2a3f5f\",\"gridcolor\":\"white\",\"linecolor\":\"white\",\"minorgridcolor\":\"white\",\"startlinecolor\":\"#2a3f5f\"},\"type\":\"carpet\"}],\"table\":[{\"cells\":{\"fill\":{\"color\":\"#EBF0F8\"},\"line\":{\"color\":\"white\"}},\"header\":{\"fill\":{\"color\":\"#C8D4E3\"},\"line\":{\"color\":\"white\"}},\"type\":\"table\"}],\"barpolar\":[{\"marker\":{\"line\":{\"color\":\"#E5ECF6\",\"width\":0.5},\"pattern\":{\"fillmode\":\"overlay\",\"size\":10,\"solidity\":0.2}},\"type\":\"barpolar\"}],\"pie\":[{\"automargin\":true,\"type\":\"pie\"}]},\"layout\":{\"autotypenumbers\":\"strict\",\"colorway\":[\"#636efa\",\"#EF553B\",\"#00cc96\",\"#ab63fa\",\"#FFA15A\",\"#19d3f3\",\"#FF6692\",\"#B6E880\",\"#FF97FF\",\"#FECB52\"],\"font\":{\"color\":\"#2a3f5f\"},\"hovermode\":\"closest\",\"hoverlabel\":{\"align\":\"left\"},\"paper_bgcolor\":\"white\",\"plot_bgcolor\":\"#E5ECF6\",\"polar\":{\"bgcolor\":\"#E5ECF6\",\"angularaxis\":{\"gridcolor\":\"white\",\"linecolor\":\"white\",\"ticks\":\"\"},\"radialaxis\":{\"gridcolor\":\"white\",\"linecolor\":\"white\",\"ticks\":\"\"}},\"ternary\":{\"bgcolor\":\"#E5ECF6\",\"aaxis\":{\"gridcolor\":\"white\",\"linecolor\":\"white\",\"ticks\":\"\"},\"baxis\":{\"gridcolor\":\"white\",\"linecolor\":\"white\",\"ticks\":\"\"},\"caxis\":{\"gridcolor\":\"white\",\"linecolor\":\"white\",\"ticks\":\"\"}},\"coloraxis\":{\"colorbar\":{\"outlinewidth\":0,\"ticks\":\"\"}},\"colorscale\":{\"sequential\":[[0.0,\"#0d0887\"],[0.1111111111111111,\"#46039f\"],[0.2222222222222222,\"#7201a8\"],[0.3333333333333333,\"#9c179e\"],[0.4444444444444444,\"#bd3786\"],[0.5555555555555556,\"#d8576b\"],[0.6666666666666666,\"#ed7953\"],[0.7777777777777778,\"#fb9f3a\"],[0.8888888888888888,\"#fdca26\"],[1.0,\"#f0f921\"]],\"sequentialminus\":[[0.0,\"#0d0887\"],[0.1111111111111111,\"#46039f\"],[0.2222222222222222,\"#7201a8\"],[0.3333333333333333,\"#9c179e\"],[0.4444444444444444,\"#bd3786\"],[0.5555555555555556,\"#d8576b\"],[0.6666666666666666,\"#ed7953\"],[0.7777777777777778,\"#fb9f3a\"],[0.8888888888888888,\"#fdca26\"],[1.0,\"#f0f921\"]],\"diverging\":[[0,\"#8e0152\"],[0.1,\"#c51b7d\"],[0.2,\"#de77ae\"],[0.3,\"#f1b6da\"],[0.4,\"#fde0ef\"],[0.5,\"#f7f7f7\"],[0.6,\"#e6f5d0\"],[0.7,\"#b8e186\"],[0.8,\"#7fbc41\"],[0.9,\"#4d9221\"],[1,\"#276419\"]]},\"xaxis\":{\"gridcolor\":\"white\",\"linecolor\":\"white\",\"ticks\":\"\",\"title\":{\"standoff\":15},\"zerolinecolor\":\"white\",\"automargin\":true,\"zerolinewidth\":2},\"yaxis\":{\"gridcolor\":\"white\",\"linecolor\":\"white\",\"ticks\":\"\",\"title\":{\"standoff\":15},\"zerolinecolor\":\"white\",\"automargin\":true,\"zerolinewidth\":2},\"scene\":{\"xaxis\":{\"backgroundcolor\":\"#E5ECF6\",\"gridcolor\":\"white\",\"linecolor\":\"white\",\"showbackground\":true,\"ticks\":\"\",\"zerolinecolor\":\"white\",\"gridwidth\":2},\"yaxis\":{\"backgroundcolor\":\"#E5ECF6\",\"gridcolor\":\"white\",\"linecolor\":\"white\",\"showbackground\":true,\"ticks\":\"\",\"zerolinecolor\":\"white\",\"gridwidth\":2},\"zaxis\":{\"backgroundcolor\":\"#E5ECF6\",\"gridcolor\":\"white\",\"linecolor\":\"white\",\"showbackground\":true,\"ticks\":\"\",\"zerolinecolor\":\"white\",\"gridwidth\":2}},\"shapedefaults\":{\"line\":{\"color\":\"#2a3f5f\"}},\"annotationdefaults\":{\"arrowcolor\":\"#2a3f5f\",\"arrowhead\":0,\"arrowwidth\":1},\"geo\":{\"bgcolor\":\"white\",\"landcolor\":\"#E5ECF6\",\"subunitcolor\":\"white\",\"showland\":true,\"showlakes\":true,\"lakecolor\":\"white\"},\"title\":{\"x\":0.05},\"mapbox\":{\"style\":\"light\"}}},\"xaxis\":{\"title\":{\"text\":\"Comprimento\"}},\"yaxis\":{\"title\":{\"text\":\"Largura\"}},\"title\":{\"text\":\"Clusters\",\"x\":0.5}},                        {\"responsive\": true}                    ).then(function(){\n",
              "                            \n",
              "var gd = document.getElementById('10413770-800e-4619-9bdf-2783bc3a09be');\n",
              "var x = new MutationObserver(function (mutations, observer) {{\n",
              "        var display = window.getComputedStyle(gd).display;\n",
              "        if (!display || display === 'none') {{\n",
              "            console.log([gd, 'removed!']);\n",
              "            Plotly.purge(gd);\n",
              "            observer.disconnect();\n",
              "        }}\n",
              "}});\n",
              "\n",
              "// Listen for the removal of the full notebook cells\n",
              "var notebookContainer = gd.closest('#notebook-container');\n",
              "if (notebookContainer) {{\n",
              "    x.observe(notebookContainer, {childList: true});\n",
              "}}\n",
              "\n",
              "// Listen for the clearing of the current output cell\n",
              "var outputEl = gd.closest('.output');\n",
              "if (outputEl) {{\n",
              "    x.observe(outputEl, {childList: true});\n",
              "}}\n",
              "\n",
              "                        })                };                            </script>        </div>\n",
              "</body>\n",
              "</html>"
            ]
          },
          "metadata": {}
        }
      ]
    },
    {
      "cell_type": "markdown",
      "source": [
        "# Executando a função para as sépalas"
      ],
      "metadata": {
        "id": "Lpe45i5qtRxA"
      }
    },
    {
      "cell_type": "code",
      "source": [
        "# Executando a função para as sépalas\n",
        "x=X_sepalas[:,0]\n",
        "y=X_sepalas[:,1]\n",
        "label_cluster_sepalas\n",
        "centroide_sepala[:,0]\n",
        "centroide_sepala[:,1]\n",
        "\n",
        "gera_grafico(x, y, label_cluster_sepalas, centroide_sepala[:,0], centroide_sepala[:,1])\n"
      ],
      "metadata": {
        "colab": {
          "base_uri": "https://localhost:8080/",
          "height": 542
        },
        "id": "RhaVPsg9tTrJ",
        "outputId": "66e7bdca-ba75-43f5-a64e-9fabe4914b94"
      },
      "execution_count": null,
      "outputs": [
        {
          "output_type": "display_data",
          "data": {
            "text/html": [
              "<html>\n",
              "<head><meta charset=\"utf-8\" /></head>\n",
              "<body>\n",
              "    <div>            <script src=\"https://cdnjs.cloudflare.com/ajax/libs/mathjax/2.7.5/MathJax.js?config=TeX-AMS-MML_SVG\"></script><script type=\"text/javascript\">if (window.MathJax && window.MathJax.Hub && window.MathJax.Hub.Config) {window.MathJax.Hub.Config({SVG: {font: \"STIX-Web\"}});}</script>                <script type=\"text/javascript\">window.PlotlyConfig = {MathJaxConfig: 'local'};</script>\n",
              "        <script charset=\"utf-8\" src=\"https://cdn.plot.ly/plotly-2.35.2.min.js\"></script>                <div id=\"94328f26-f1f9-4367-842e-8675e88aef71\" class=\"plotly-graph-div\" style=\"height:525px; width:100%;\"></div>            <script type=\"text/javascript\">                                    window.PLOTLYENV=window.PLOTLYENV || {};                                    if (document.getElementById(\"94328f26-f1f9-4367-842e-8675e88aef71\")) {                    Plotly.newPlot(                        \"94328f26-f1f9-4367-842e-8675e88aef71\",                        [{\"hovertemplate\":\"x=%{x}\\u003cbr\\u003ey=%{y}\\u003cbr\\u003ecolor=%{marker.color}\\u003cextra\\u003e\\u003c\\u002fextra\\u003e\",\"legendgroup\":\"\",\"marker\":{\"color\":[2,2,2,2,2,2,2,2,2,2,2,2,2,2,2,2,2,2,2,2,2,2,2,2,2,2,2,2,2,2,2,2,2,2,2,2,2,2,2,2,2,0,2,2,2,2,2,2,2,2,1,1,1,0,1,0,1,0,1,0,0,0,0,0,0,1,0,0,0,0,1,0,0,0,1,1,1,1,0,0,0,0,0,0,0,1,1,0,0,0,0,1,0,0,0,0,0,1,0,0,1,0,1,1,1,1,0,1,0,1,1,0,1,0,0,1,1,1,1,0,1,0,1,0,1,1,0,1,1,1,1,1,1,0,0,1,1,1,0,1,1,1,0,1,1,1,0,1,1,0],\"coloraxis\":\"coloraxis\",\"symbol\":\"circle\"},\"mode\":\"markers\",\"name\":\"\",\"orientation\":\"v\",\"showlegend\":false,\"x\":[-0.9006811702978088,-1.1430169111851105,-1.3853526520724133,-1.5065205225160652,-1.0218490407414595,-0.537177558966854,-1.5065205225160652,-1.0218490407414595,-1.7488562634033669,-1.1430169111851105,-0.537177558966854,-1.2641847816287624,-1.2641847816287624,-1.870024133847019,-0.05250607719224957,-0.1736739476359004,-0.537177558966854,-0.9006811702978088,-0.1736739476359004,-0.9006811702978088,-0.537177558966854,-0.9006811702978088,-1.5065205225160652,-0.9006811702978088,-1.2641847816287624,-1.0218490407414595,-1.0218490407414595,-0.7795132998541568,-0.7795132998541568,-1.3853526520724133,-1.2641847816287624,-0.537177558966854,-0.7795132998541568,-0.4160096885232032,-1.1430169111851105,-1.0218490407414595,-0.4160096885232032,-1.1430169111851105,-1.7488562634033669,-0.9006811702978088,-1.0218490407414595,-1.6276883929597161,-1.7488562634033669,-1.0218490407414595,-0.9006811702978088,-1.2641847816287624,-0.9006811702978088,-1.5065205225160652,-0.658345429410506,-1.0218490407414595,1.401508368131566,0.6745011454696588,1.2803404976879151,-0.4160096885232032,0.7956690159133096,-0.1736739476359004,0.5533332750260068,-1.1430169111851105,0.9168368863569605,-0.7795132998541568,-1.0218490407414595,0.06866179325140237,0.18982966369505322,0.31099753413870407,-0.29484181807955234,1.0380047568006125,-0.29484181807955234,-0.05250607719224957,0.432165404582356,-0.29484181807955234,0.06866179325140237,0.31099753413870407,0.5533332750260068,0.31099753413870407,0.6745011454696588,0.9168368863569605,1.1591726272442633,1.0380047568006125,0.18982966369505322,-0.1736739476359004,-0.4160096885232032,-0.4160096885232032,-0.05250607719224957,0.18982966369505322,-0.537177558966854,0.18982966369505322,1.0380047568006125,0.5533332750260068,-0.29484181807955234,-0.4160096885232032,-0.4160096885232032,0.31099753413870407,-0.05250607719224957,-1.0218490407414595,-0.29484181807955234,-0.1736739476359004,-0.1736739476359004,0.432165404582356,-0.9006811702978088,-0.1736739476359004,0.5533332750260068,-0.05250607719224957,1.522676238575217,0.5533332750260068,0.7956690159133096,2.1285155907934734,-1.1430169111851105,1.7650119794625196,1.0380047568006125,1.643844109018869,0.7956690159133096,0.6745011454696588,1.1591726272442633,-0.1736739476359004,-0.05250607719224957,0.6745011454696588,0.7956690159133096,2.2496834612371255,2.2496834612371255,0.18982966369505322,1.2803404976879151,-0.29484181807955234,2.2496834612371255,0.5533332750260068,1.0380047568006125,1.643844109018869,0.432165404582356,0.31099753413870407,0.6745011454696588,1.643844109018869,1.8861798499061717,2.4920192021244283,0.6745011454696588,0.5533332750260068,0.31099753413870407,2.2496834612371255,0.5533332750260068,0.6745011454696588,0.18982966369505322,1.2803404976879151,1.0380047568006125,1.2803404976879151,-0.05250607719224957,1.1591726272442633,1.0380047568006125,1.0380047568006125,0.5533332750260068,0.7956690159133096,0.432165404582356,0.06866179325140237],\"xaxis\":\"x\",\"y\":[1.0320572244889565,-0.12495760117130933,0.3378483290927974,0.10644536396074403,1.2634601896210098,1.957669085017169,0.8006542593569032,0.8006542593569032,-0.3563605663033627,0.10644536396074403,1.494863154753063,0.8006542593569032,-0.12495760117130933,-0.12495760117130933,2.1890720501492225,3.1146839106774356,1.957669085017169,1.0320572244889565,1.7262661198851155,1.7262661198851155,0.8006542593569032,1.494863154753063,1.2634601896210098,0.5692512942248498,0.8006542593569032,-0.12495760117130933,0.8006542593569032,1.0320572244889565,0.8006542593569032,0.3378483290927974,0.10644536396074403,0.8006542593569032,2.4204750152812746,2.651877980413329,0.10644536396074403,0.3378483290927974,1.0320572244889565,0.10644536396074403,-0.12495760117130933,0.8006542593569032,1.0320572244889565,-1.7447783570956819,0.3378483290927974,1.0320572244889565,1.7262661198851155,-0.12495760117130933,1.7262661198851155,0.3378483290927974,1.494863154753063,0.5692512942248498,0.3378483290927974,0.3378483290927974,0.10644536396074403,-1.7447783570956819,-0.587763531435416,-0.587763531435416,0.5692512942248498,-1.5133753919636286,-0.3563605663033627,-0.8191664965674684,-2.438987252491841,-0.12495760117130933,-1.9761813222277342,-0.3563605663033627,-0.3563605663033627,0.10644536396074403,-0.12495760117130933,-0.8191664965674684,-1.9761813222277342,-1.281972426831575,0.3378483290927974,-0.587763531435416,-1.281972426831575,-0.587763531435416,-0.3563605663033627,-0.12495760117130933,-0.587763531435416,-0.12495760117130933,-0.3563605663033627,-1.0505694616995218,-1.5133753919636286,-1.5133753919636286,-0.8191664965674684,-0.8191664965674684,-0.12495760117130933,0.8006542593569032,0.10644536396074403,-1.7447783570956819,-0.12495760117130933,-1.281972426831575,-1.0505694616995218,-0.12495760117130933,-1.0505694616995218,-1.7447783570956819,-0.8191664965674684,-0.12495760117130933,-0.3563605663033627,-0.3563605663033627,-1.281972426831575,-0.587763531435416,0.5692512942248498,-0.8191664965674684,-0.12495760117130933,-0.3563605663033627,-0.12495760117130933,-0.12495760117130933,-1.281972426831575,-0.3563605663033627,-1.281972426831575,1.2634601896210098,0.3378483290927974,-0.8191664965674684,-0.12495760117130933,-1.281972426831575,-0.587763531435416,0.3378483290927974,-0.12495760117130933,1.7262661198851155,-1.0505694616995218,-1.9761813222277342,0.3378483290927974,-0.587763531435416,-0.587763531435416,-0.8191664965674684,0.5692512942248498,0.3378483290927974,-0.587763531435416,-0.12495760117130933,-0.587763531435416,-0.12495760117130933,-0.587763531435416,1.7262661198851155,-0.587763531435416,-0.587763531435416,-1.0505694616995218,-0.12495760117130933,0.8006542593569032,0.10644536396074403,-0.12495760117130933,0.10644536396074403,0.10644536396074403,0.10644536396074403,-0.8191664965674684,0.3378483290927974,0.5692512942248498,-0.12495760117130933,-1.281972426831575,-0.12495760117130933,0.8006542593569032,-0.12495760117130933],\"yaxis\":\"y\",\"type\":\"scatter\"},{\"hovertemplate\":\"x=%{x}\\u003cbr\\u003ey=%{y}\\u003cextra\\u003e\\u003c\\u002fextra\\u003e\",\"legendgroup\":\"\",\"marker\":{\"color\":\"#636efa\",\"symbol\":\"circle\"},\"mode\":\"markers\",\"name\":\"\",\"orientation\":\"v\",\"showlegend\":false,\"x\":[-0.11190209211560795,1.0961653346135656,-1.0020665312812713],\"xaxis\":\"x\",\"y\":[-0.9552858878216177,0.0971892453554617,0.8951044492067212],\"yaxis\":\"y\",\"type\":\"scatter\"}],                        {\"template\":{\"data\":{\"histogram2dcontour\":[{\"type\":\"histogram2dcontour\",\"colorbar\":{\"outlinewidth\":0,\"ticks\":\"\"},\"colorscale\":[[0.0,\"#0d0887\"],[0.1111111111111111,\"#46039f\"],[0.2222222222222222,\"#7201a8\"],[0.3333333333333333,\"#9c179e\"],[0.4444444444444444,\"#bd3786\"],[0.5555555555555556,\"#d8576b\"],[0.6666666666666666,\"#ed7953\"],[0.7777777777777778,\"#fb9f3a\"],[0.8888888888888888,\"#fdca26\"],[1.0,\"#f0f921\"]]}],\"choropleth\":[{\"type\":\"choropleth\",\"colorbar\":{\"outlinewidth\":0,\"ticks\":\"\"}}],\"histogram2d\":[{\"type\":\"histogram2d\",\"colorbar\":{\"outlinewidth\":0,\"ticks\":\"\"},\"colorscale\":[[0.0,\"#0d0887\"],[0.1111111111111111,\"#46039f\"],[0.2222222222222222,\"#7201a8\"],[0.3333333333333333,\"#9c179e\"],[0.4444444444444444,\"#bd3786\"],[0.5555555555555556,\"#d8576b\"],[0.6666666666666666,\"#ed7953\"],[0.7777777777777778,\"#fb9f3a\"],[0.8888888888888888,\"#fdca26\"],[1.0,\"#f0f921\"]]}],\"heatmap\":[{\"type\":\"heatmap\",\"colorbar\":{\"outlinewidth\":0,\"ticks\":\"\"},\"colorscale\":[[0.0,\"#0d0887\"],[0.1111111111111111,\"#46039f\"],[0.2222222222222222,\"#7201a8\"],[0.3333333333333333,\"#9c179e\"],[0.4444444444444444,\"#bd3786\"],[0.5555555555555556,\"#d8576b\"],[0.6666666666666666,\"#ed7953\"],[0.7777777777777778,\"#fb9f3a\"],[0.8888888888888888,\"#fdca26\"],[1.0,\"#f0f921\"]]}],\"heatmapgl\":[{\"type\":\"heatmapgl\",\"colorbar\":{\"outlinewidth\":0,\"ticks\":\"\"},\"colorscale\":[[0.0,\"#0d0887\"],[0.1111111111111111,\"#46039f\"],[0.2222222222222222,\"#7201a8\"],[0.3333333333333333,\"#9c179e\"],[0.4444444444444444,\"#bd3786\"],[0.5555555555555556,\"#d8576b\"],[0.6666666666666666,\"#ed7953\"],[0.7777777777777778,\"#fb9f3a\"],[0.8888888888888888,\"#fdca26\"],[1.0,\"#f0f921\"]]}],\"contourcarpet\":[{\"type\":\"contourcarpet\",\"colorbar\":{\"outlinewidth\":0,\"ticks\":\"\"}}],\"contour\":[{\"type\":\"contour\",\"colorbar\":{\"outlinewidth\":0,\"ticks\":\"\"},\"colorscale\":[[0.0,\"#0d0887\"],[0.1111111111111111,\"#46039f\"],[0.2222222222222222,\"#7201a8\"],[0.3333333333333333,\"#9c179e\"],[0.4444444444444444,\"#bd3786\"],[0.5555555555555556,\"#d8576b\"],[0.6666666666666666,\"#ed7953\"],[0.7777777777777778,\"#fb9f3a\"],[0.8888888888888888,\"#fdca26\"],[1.0,\"#f0f921\"]]}],\"surface\":[{\"type\":\"surface\",\"colorbar\":{\"outlinewidth\":0,\"ticks\":\"\"},\"colorscale\":[[0.0,\"#0d0887\"],[0.1111111111111111,\"#46039f\"],[0.2222222222222222,\"#7201a8\"],[0.3333333333333333,\"#9c179e\"],[0.4444444444444444,\"#bd3786\"],[0.5555555555555556,\"#d8576b\"],[0.6666666666666666,\"#ed7953\"],[0.7777777777777778,\"#fb9f3a\"],[0.8888888888888888,\"#fdca26\"],[1.0,\"#f0f921\"]]}],\"mesh3d\":[{\"type\":\"mesh3d\",\"colorbar\":{\"outlinewidth\":0,\"ticks\":\"\"}}],\"scatter\":[{\"fillpattern\":{\"fillmode\":\"overlay\",\"size\":10,\"solidity\":0.2},\"type\":\"scatter\"}],\"parcoords\":[{\"type\":\"parcoords\",\"line\":{\"colorbar\":{\"outlinewidth\":0,\"ticks\":\"\"}}}],\"scatterpolargl\":[{\"type\":\"scatterpolargl\",\"marker\":{\"colorbar\":{\"outlinewidth\":0,\"ticks\":\"\"}}}],\"bar\":[{\"error_x\":{\"color\":\"#2a3f5f\"},\"error_y\":{\"color\":\"#2a3f5f\"},\"marker\":{\"line\":{\"color\":\"#E5ECF6\",\"width\":0.5},\"pattern\":{\"fillmode\":\"overlay\",\"size\":10,\"solidity\":0.2}},\"type\":\"bar\"}],\"scattergeo\":[{\"type\":\"scattergeo\",\"marker\":{\"colorbar\":{\"outlinewidth\":0,\"ticks\":\"\"}}}],\"scatterpolar\":[{\"type\":\"scatterpolar\",\"marker\":{\"colorbar\":{\"outlinewidth\":0,\"ticks\":\"\"}}}],\"histogram\":[{\"marker\":{\"pattern\":{\"fillmode\":\"overlay\",\"size\":10,\"solidity\":0.2}},\"type\":\"histogram\"}],\"scattergl\":[{\"type\":\"scattergl\",\"marker\":{\"colorbar\":{\"outlinewidth\":0,\"ticks\":\"\"}}}],\"scatter3d\":[{\"type\":\"scatter3d\",\"line\":{\"colorbar\":{\"outlinewidth\":0,\"ticks\":\"\"}},\"marker\":{\"colorbar\":{\"outlinewidth\":0,\"ticks\":\"\"}}}],\"scattermapbox\":[{\"type\":\"scattermapbox\",\"marker\":{\"colorbar\":{\"outlinewidth\":0,\"ticks\":\"\"}}}],\"scatterternary\":[{\"type\":\"scatterternary\",\"marker\":{\"colorbar\":{\"outlinewidth\":0,\"ticks\":\"\"}}}],\"scattercarpet\":[{\"type\":\"scattercarpet\",\"marker\":{\"colorbar\":{\"outlinewidth\":0,\"ticks\":\"\"}}}],\"carpet\":[{\"aaxis\":{\"endlinecolor\":\"#2a3f5f\",\"gridcolor\":\"white\",\"linecolor\":\"white\",\"minorgridcolor\":\"white\",\"startlinecolor\":\"#2a3f5f\"},\"baxis\":{\"endlinecolor\":\"#2a3f5f\",\"gridcolor\":\"white\",\"linecolor\":\"white\",\"minorgridcolor\":\"white\",\"startlinecolor\":\"#2a3f5f\"},\"type\":\"carpet\"}],\"table\":[{\"cells\":{\"fill\":{\"color\":\"#EBF0F8\"},\"line\":{\"color\":\"white\"}},\"header\":{\"fill\":{\"color\":\"#C8D4E3\"},\"line\":{\"color\":\"white\"}},\"type\":\"table\"}],\"barpolar\":[{\"marker\":{\"line\":{\"color\":\"#E5ECF6\",\"width\":0.5},\"pattern\":{\"fillmode\":\"overlay\",\"size\":10,\"solidity\":0.2}},\"type\":\"barpolar\"}],\"pie\":[{\"automargin\":true,\"type\":\"pie\"}]},\"layout\":{\"autotypenumbers\":\"strict\",\"colorway\":[\"#636efa\",\"#EF553B\",\"#00cc96\",\"#ab63fa\",\"#FFA15A\",\"#19d3f3\",\"#FF6692\",\"#B6E880\",\"#FF97FF\",\"#FECB52\"],\"font\":{\"color\":\"#2a3f5f\"},\"hovermode\":\"closest\",\"hoverlabel\":{\"align\":\"left\"},\"paper_bgcolor\":\"white\",\"plot_bgcolor\":\"#E5ECF6\",\"polar\":{\"bgcolor\":\"#E5ECF6\",\"angularaxis\":{\"gridcolor\":\"white\",\"linecolor\":\"white\",\"ticks\":\"\"},\"radialaxis\":{\"gridcolor\":\"white\",\"linecolor\":\"white\",\"ticks\":\"\"}},\"ternary\":{\"bgcolor\":\"#E5ECF6\",\"aaxis\":{\"gridcolor\":\"white\",\"linecolor\":\"white\",\"ticks\":\"\"},\"baxis\":{\"gridcolor\":\"white\",\"linecolor\":\"white\",\"ticks\":\"\"},\"caxis\":{\"gridcolor\":\"white\",\"linecolor\":\"white\",\"ticks\":\"\"}},\"coloraxis\":{\"colorbar\":{\"outlinewidth\":0,\"ticks\":\"\"}},\"colorscale\":{\"sequential\":[[0.0,\"#0d0887\"],[0.1111111111111111,\"#46039f\"],[0.2222222222222222,\"#7201a8\"],[0.3333333333333333,\"#9c179e\"],[0.4444444444444444,\"#bd3786\"],[0.5555555555555556,\"#d8576b\"],[0.6666666666666666,\"#ed7953\"],[0.7777777777777778,\"#fb9f3a\"],[0.8888888888888888,\"#fdca26\"],[1.0,\"#f0f921\"]],\"sequentialminus\":[[0.0,\"#0d0887\"],[0.1111111111111111,\"#46039f\"],[0.2222222222222222,\"#7201a8\"],[0.3333333333333333,\"#9c179e\"],[0.4444444444444444,\"#bd3786\"],[0.5555555555555556,\"#d8576b\"],[0.6666666666666666,\"#ed7953\"],[0.7777777777777778,\"#fb9f3a\"],[0.8888888888888888,\"#fdca26\"],[1.0,\"#f0f921\"]],\"diverging\":[[0,\"#8e0152\"],[0.1,\"#c51b7d\"],[0.2,\"#de77ae\"],[0.3,\"#f1b6da\"],[0.4,\"#fde0ef\"],[0.5,\"#f7f7f7\"],[0.6,\"#e6f5d0\"],[0.7,\"#b8e186\"],[0.8,\"#7fbc41\"],[0.9,\"#4d9221\"],[1,\"#276419\"]]},\"xaxis\":{\"gridcolor\":\"white\",\"linecolor\":\"white\",\"ticks\":\"\",\"title\":{\"standoff\":15},\"zerolinecolor\":\"white\",\"automargin\":true,\"zerolinewidth\":2},\"yaxis\":{\"gridcolor\":\"white\",\"linecolor\":\"white\",\"ticks\":\"\",\"title\":{\"standoff\":15},\"zerolinecolor\":\"white\",\"automargin\":true,\"zerolinewidth\":2},\"scene\":{\"xaxis\":{\"backgroundcolor\":\"#E5ECF6\",\"gridcolor\":\"white\",\"linecolor\":\"white\",\"showbackground\":true,\"ticks\":\"\",\"zerolinecolor\":\"white\",\"gridwidth\":2},\"yaxis\":{\"backgroundcolor\":\"#E5ECF6\",\"gridcolor\":\"white\",\"linecolor\":\"white\",\"showbackground\":true,\"ticks\":\"\",\"zerolinecolor\":\"white\",\"gridwidth\":2},\"zaxis\":{\"backgroundcolor\":\"#E5ECF6\",\"gridcolor\":\"white\",\"linecolor\":\"white\",\"showbackground\":true,\"ticks\":\"\",\"zerolinecolor\":\"white\",\"gridwidth\":2}},\"shapedefaults\":{\"line\":{\"color\":\"#2a3f5f\"}},\"annotationdefaults\":{\"arrowcolor\":\"#2a3f5f\",\"arrowhead\":0,\"arrowwidth\":1},\"geo\":{\"bgcolor\":\"white\",\"landcolor\":\"#E5ECF6\",\"subunitcolor\":\"white\",\"showland\":true,\"showlakes\":true,\"lakecolor\":\"white\"},\"title\":{\"x\":0.05},\"mapbox\":{\"style\":\"light\"}}},\"xaxis\":{\"title\":{\"text\":\"Comprimento\"}},\"yaxis\":{\"title\":{\"text\":\"Largura\"}},\"title\":{\"text\":\"Clusters\",\"x\":0.5}},                        {\"responsive\": true}                    ).then(function(){\n",
              "                            \n",
              "var gd = document.getElementById('94328f26-f1f9-4367-842e-8675e88aef71');\n",
              "var x = new MutationObserver(function (mutations, observer) {{\n",
              "        var display = window.getComputedStyle(gd).display;\n",
              "        if (!display || display === 'none') {{\n",
              "            console.log([gd, 'removed!']);\n",
              "            Plotly.purge(gd);\n",
              "            observer.disconnect();\n",
              "        }}\n",
              "}});\n",
              "\n",
              "// Listen for the removal of the full notebook cells\n",
              "var notebookContainer = gd.closest('#notebook-container');\n",
              "if (notebookContainer) {{\n",
              "    x.observe(notebookContainer, {childList: true});\n",
              "}}\n",
              "\n",
              "// Listen for the clearing of the current output cell\n",
              "var outputEl = gd.closest('.output');\n",
              "if (outputEl) {{\n",
              "    x.observe(outputEl, {childList: true});\n",
              "}}\n",
              "\n",
              "                        })                };                            </script>        </div>\n",
              "</body>\n",
              "</html>"
            ]
          },
          "metadata": {}
        }
      ]
    }
  ]
}